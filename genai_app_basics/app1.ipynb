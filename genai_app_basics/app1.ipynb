{
 "cells": [
  {
   "cell_type": "code",
   "execution_count": 1,
   "id": "4ff71d1a",
   "metadata": {},
   "outputs": [],
   "source": [
    "import os\n",
    "from dotenv import load_dotenv\n",
    "load_dotenv()\n",
    "os.environ['GOOGLE_API_KEY'] = os.getenv('GOOGLE_API_KEY')\n",
    "os.environ['LANGCHAIN_API_KEY'] = os.getenv('LANGCHAIN_API_KEY')\n",
    "os.environ['LANGCHAIN_TRACING_V2'] = \"true\"\n",
    "os.environ['LANGCHAIN_PROJECT'] = os.getenv('LANGCHAIN_PROJECT')\n",
    "url = \"https://www.hsbc.com.hk/credit-cards/apply/\""
   ]
  },
  {
   "cell_type": "code",
   "execution_count": 3,
   "id": "dc3570d3",
   "metadata": {},
   "outputs": [],
   "source": [
    "# Data Ingestion - From website scrape the data\n",
    "from langchain_community.document_loaders import WebBaseLoader"
   ]
  },
  {
   "cell_type": "code",
   "execution_count": 4,
   "id": "e52b85ce",
   "metadata": {},
   "outputs": [],
   "source": [
    "loader = WebBaseLoader(web_path = url)\n",
    "docs = loader.load()"
   ]
  },
  {
   "cell_type": "code",
   "execution_count": 14,
   "id": "4e942060",
   "metadata": {},
   "outputs": [],
   "source": [
    "# Data Chunking \n",
    "from langchain_text_splitters import RecursiveCharacterTextSplitter"
   ]
  },
  {
   "cell_type": "code",
   "execution_count": 16,
   "id": "383b9ef5",
   "metadata": {},
   "outputs": [],
   "source": [
    "splitter = RecursiveCharacterTextSplitter(chunk_size = 1000, chunk_overlap = 500)\n",
    "final_docs = splitter.split_documents(docs)"
   ]
  },
  {
   "cell_type": "code",
   "execution_count": 18,
   "id": "db15521e",
   "metadata": {},
   "outputs": [
    {
     "name": "stderr",
     "output_type": "stream",
     "text": [
      "/home/codespace/.local/lib/python3.12/site-packages/tqdm/auto.py:21: TqdmWarning: IProgress not found. Please update jupyter and ipywidgets. See https://ipywidgets.readthedocs.io/en/stable/user_install.html\n",
      "  from .autonotebook import tqdm as notebook_tqdm\n"
     ]
    }
   ],
   "source": [
    "# Vector Embedding\n",
    "from langchain_google_genai import GoogleGenerativeAIEmbeddings\n",
    "\n",
    "embeddings = GoogleGenerativeAIEmbeddings(model=\"models/embedding-001\")"
   ]
  },
  {
   "cell_type": "code",
   "execution_count": 19,
   "id": "bfb74d1a",
   "metadata": {},
   "outputs": [],
   "source": [
    "# Vector Store\n",
    "from langchain_community.vectorstores import FAISS"
   ]
  },
  {
   "cell_type": "code",
   "execution_count": null,
   "id": "17fe644d",
   "metadata": {},
   "outputs": [],
   "source": [
    "vector_db = FAISS.from_documents(documents=final_docs, embedding=embeddings)"
   ]
  },
  {
   "cell_type": "code",
   "execution_count": 22,
   "id": "2bd1500f",
   "metadata": {},
   "outputs": [],
   "source": [
    "result = vector_db.similarity_search(\"Money Back App\")"
   ]
  },
  {
   "cell_type": "code",
   "execution_count": 24,
   "id": "6b4df081",
   "metadata": {},
   "outputs": [
    {
     "data": {
      "text/plain": [
       "'Up to $700 RewardCash as welcome offer[@cards-welcomeoffer]\\n\\n1-year Moneyback VIP status when you successfully link your HSBC easy Credit Card in MoneyBack App account[@cards-1-year-moneyback-vip]. Earn 6X MoneyBack Points when you spend with your card every day.\\nExtra $200 RewardCash for new credit card customers who successfully apply for a Spending Instalment Plan[@cards-spi-visa-platinum]\\nFirst 2-year annual fee waiver\\n\\nRewards\\n\\nUp to 2.4% RewardCash for spending in the Rewards of Your Choice category\\nEarn 6X MoneyBack Points (=2.4% rebate) by linking your card in MoneyBack App\\n8% shopping discount on Member Day at PARKnSHOP, Watsons and Fortress\\n\\n\\n\\n\\n\\n\\n\\n                \\n                Log on and apply\\n            \\xa0\\nLog on and apply  This link will open in a new window\\n\\n\\n\\n\\n\\n\\n\\n                \\n                Apply as an existing customer\\n            \\xa0\\nApply as an existing customer for HSBC Visa Platinum Card This link will open in a new window'"
      ]
     },
     "execution_count": 24,
     "metadata": {},
     "output_type": "execute_result"
    }
   ],
   "source": [
    "result[0].page_content"
   ]
  },
  {
   "cell_type": "code",
   "execution_count": 34,
   "id": "3e9ff0b4",
   "metadata": {},
   "outputs": [],
   "source": [
    "# Retrieval Chain\n",
    "from langchain.chains.combine_documents import create_stuff_documents_chain\n",
    "from langchain_core.prompts import ChatPromptTemplate\n",
    "from langchain_google_genai import ChatGoogleGenerativeAI\n",
    "\n",
    "llm = ChatGoogleGenerativeAI(\n",
    "    model=\"gemini-2.0-flash\",\n",
    "    temperature=0,\n",
    "    max_tokens=None,\n",
    "    timeout=None,\n",
    "    max_retries=2,\n",
    ")\n",
    "\n",
    "\n",
    "\n",
    "\n",
    "prompt = ChatPromptTemplate.from_messages(\n",
    "    [\n",
    "        (\"system\",\"\"\"\n",
    "         Answer the questions based on provided context:\n",
    "         <context>\n",
    "         {context}\n",
    "         </context>\"\"\"),\n",
    "          (\"human\", \"{input}\") # This is the user's actual question\n",
    "\n",
    "    ]\n",
    ")\n",
    "\n",
    "doc_chain = create_stuff_documents_chain(llm=llm, prompt=prompt)\n",
    "\n",
    "retriever = vector_db.as_retriever()\n",
    "from langchain.chains import create_retrieval_chain\n",
    "retrieval_chain = create_retrieval_chain(retriever, doc_chain)"
   ]
  },
  {
   "cell_type": "code",
   "execution_count": 39,
   "id": "f619fc1a",
   "metadata": {},
   "outputs": [
    {
     "data": {
      "text/plain": [
       "{'input': 'Money Back App',\n",
       " 'context': [Document(id='8dfd35fa-225a-41d3-af32-cb04b3c561f1', metadata={'source': 'https://www.hsbc.com.hk/credit-cards/apply/', 'title': 'Apply for Credit Cards Online | Offers & Rewards - HSBC HK', 'description': 'Apply for an HSBC credit card and enjoy exclusive benefits on card rewards, air miles and other rewards. Apply online now to enjoy extra welcome offers.', 'language': 'en-hk'}, page_content='Up to $700 RewardCash as welcome offer[@cards-welcomeoffer]\\n\\n1-year Moneyback VIP status when you successfully link your HSBC easy Credit Card in MoneyBack App account[@cards-1-year-moneyback-vip]. Earn 6X MoneyBack Points when you spend with your card every day.\\nExtra $200 RewardCash for new credit card customers who successfully apply for a Spending Instalment Plan[@cards-spi-visa-platinum]\\nFirst 2-year annual fee waiver\\n\\nRewards\\n\\nUp to 2.4% RewardCash for spending in the Rewards of Your Choice category\\nEarn 6X MoneyBack Points (=2.4% rebate) by linking your card in MoneyBack App\\n8% shopping discount on Member Day at PARKnSHOP, Watsons and Fortress\\n\\n\\n\\n\\n\\n\\n\\n                \\n                Log on and apply\\n            \\xa0\\nLog on and apply  This link will open in a new window\\n\\n\\n\\n\\n\\n\\n\\n                \\n                Apply as an existing customer\\n            \\xa0\\nApply as an existing customer for HSBC Visa Platinum Card This link will open in a new window'),\n",
       "  Document(id='afe4cf62-242d-4a7f-b30a-e89a2d070764', metadata={'source': 'https://www.hsbc.com.hk/credit-cards/apply/', 'title': 'Apply for Credit Cards Online | Offers & Rewards - HSBC HK', 'description': 'Apply for an HSBC credit card and enjoy exclusive benefits on card rewards, air miles and other rewards. Apply online now to enjoy extra welcome offers.', 'language': 'en-hk'}, page_content='Rewards\\n\\nUp to 2.4% RewardCash for spending in the Rewards of Your Choice category\\nReceive up to $6,000 extra RewardCash by simply paying your new policy premiums to HSBC Life\\n\\n\\n\\n\\n\\n\\n\\n                \\n                Apply now\\n            \\xa0\\nApply now for HSBC Premier Mastercard This link will open in a new window\\n\\n\\n\\n\\n\\n\\n\\n\\n\\n\\n\\n\\n\\n\\n\\n\\n\\n\\n\\n\\n\\nHSBC easy Credit Card\\xa0\\n\\n\\n\\nThe credit card that takes your rewards to the next level\\n\\xa0\\nWelcome offer\\n\\nUp to $700 RewardCash as welcome offer[@cards-welcomeoffer]\\n\\n1-year Moneyback VIP status when you successfully link your HSBC easy Credit Card in MoneyBack App account[@cards-1-year-moneyback-vip]. Earn 6X MoneyBack Points when you spend with your card every day.\\nExtra $200 RewardCash for new credit card customers who successfully apply for a Spending Instalment Plan[@cards-spi-visa-platinum]\\nFirst 2-year annual fee waiver\\n\\nRewards'),\n",
       "  Document(id='8a04e7e6-77ad-4fd1-9a73-03271e385951', metadata={'source': 'https://www.hsbc.com.hk/credit-cards/apply/', 'title': 'Apply for Credit Cards Online | Offers & Rewards - HSBC HK', 'description': 'Apply for an HSBC credit card and enjoy exclusive benefits on card rewards, air miles and other rewards. Apply online now to enjoy extra welcome offers.', 'language': 'en-hk'}, page_content='Well+\\n                \\n\\n\\n\\n                    HealthyLife App\\n                \\n\\n\\n\\n                    ORSO\\n                \\n\\n\\n\\n                    LIFE Talk: insurance guide\\n                \\n\\n\\n\\n                    About HSBC Life\\n                \\n\\n\\n\\n\\n\\n\\n\\n\\n\\n\\n\\nAlready a customer?\\n\\n\\n\\n                    Submit a claim\\n                \\n\\n\\n\\n                    Manage your policy\\n                \\n\\n\\n\\n                    Forms and documents\\n                \\n\\n\\n\\n                    Investment performance\\n                \\n\\n\\n\\n                    Important information\\n                \\n\\n\\n\\n\\n\\n\\n\\n\\n\\n\\n\\n\\nInsights\\n\\nAnalysis & Market Data\\n\\n\\n\\n\\n\\n\\n\\n\\nNew to Investing\\n\\n\\n\\n                    Start Investing in 5 Steps\\n                \\n\\n\\n\\n                    Learn to invest in 7 days\\n                \\n\\n\\n\\n                    Must-read for Investment Newbies\\n                \\n\\n\\n\\n                    Learn about Bonds'),\n",
       "  Document(id='b09a7982-6aa3-4980-9511-4d5b3972cca5', metadata={'source': 'https://www.hsbc.com.hk/credit-cards/apply/', 'title': 'Apply for Credit Cards Online | Offers & Rewards - HSBC HK', 'description': 'Apply for an HSBC credit card and enjoy exclusive benefits on card rewards, air miles and other rewards. Apply online now to enjoy extra welcome offers.', 'language': 'en-hk'}, page_content='HSBC Mobile Apps\\n\\n\\n\\n                    HSBC HK App\\n                \\n\\n\\n\\n                    HSBC Reward+\\n                \\n\\n\\n\\n                    HSBC HK Easy Invest\\n                \\n\\n\\n\\n                    PayMe by HSBC\\n                \\n\\n\\n\\n                    HSBC HK App - Lite Mode\\n                \\n\\n\\n\\n\\nCurrency & RMB Services\\n\\n\\n\\n                    24-hour Currency Exchange\\n                \\n\\n\\n\\n                    Renminbi Services\\n                \\n\\n\\n\\n                    See all Renminbi Services\\n                \\n\\n\\n\\n\\nBudget\\n\\n\\n\\n                    See all\\n                \\n\\n\\n\\n\\nWell+\\n\\n\\n\\n                    See all\\n                \\n\\n\\n\\n\\nHSBC Finfit\\n\\n\\n\\n                    See all\\n                \\n\\n\\n\\n\\n\\n\\n\\n\\nServices & Payments\\n\\n\\n\\n                    Payments and transfers\\n                \\n\\n\\n\\n                    eCheque Services\\n                \\n\\n\\n\\n                    eStatement and eAdvice\\n                \\n\\n\\n\\n\\n\\nMPF\\n\\n\\n\\n\\n                    See all')],\n",
       " 'answer': '1-year Moneyback VIP status when you successfully link your HSBC easy Credit Card in MoneyBack App account[@cards-1-year-moneyback-vip]. Earn 6X MoneyBack Points when you spend with your card every day.\\nEarn 6X MoneyBack Points (=2.4% rebate) by linking your card in MoneyBack App'}"
      ]
     },
     "execution_count": 39,
     "metadata": {},
     "output_type": "execute_result"
    }
   ],
   "source": [
    "retrieval_chain.invoke({'input':\"Money Back App\"})"
   ]
  },
  {
   "cell_type": "code",
   "execution_count": null,
   "id": "d82a24db",
   "metadata": {},
   "outputs": [
    {
     "data": {
      "text/plain": [
       "\"Based on the context, you're asking about the HSBC Easy Credit Card.\""
      ]
     },
     "execution_count": 38,
     "metadata": {},
     "output_type": "execute_result"
    }
   ],
   "source": [
    "# from langchain_core.documents import Document\n",
    "# doc_chain.invoke({'input':\"HSBC Easy Credit\",\n",
    "#                   'context':[Document(page_content=\"HSBC Easy Credit Card\")]})"
   ]
  },
  {
   "cell_type": "code",
   "execution_count": null,
   "id": "db17b410",
   "metadata": {},
   "outputs": [],
   "source": []
  }
 ],
 "metadata": {
  "kernelspec": {
   "display_name": "Python 3",
   "language": "python",
   "name": "python3"
  },
  "language_info": {
   "codemirror_mode": {
    "name": "ipython",
    "version": 3
   },
   "file_extension": ".py",
   "mimetype": "text/x-python",
   "name": "python",
   "nbconvert_exporter": "python",
   "pygments_lexer": "ipython3",
   "version": "3.12.1"
  }
 },
 "nbformat": 4,
 "nbformat_minor": 5
}
