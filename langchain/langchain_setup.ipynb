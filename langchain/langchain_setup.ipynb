{
 "cells": [
  {
   "cell_type": "code",
   "execution_count": 1,
   "id": "19c21bcb",
   "metadata": {},
   "outputs": [],
   "source": [
    "import os\n",
    "from dotenv import load_dotenv\n",
    "load_dotenv()\n",
    "os.environ['GOOGLE_API_KEY'] = os.getenv('GOOGLE_API_KEY')\n",
    "os.environ['LANGCHAIN_API_KEY'] = os.getenv('LANGCHAIN_API_KEY')\n",
    "os.environ['LANGCHAIN_TRACING_V2'] = \"true\"\n",
    "os.environ['LANGCHAIN_PROJECT'] = os.getenv('LANGCHAIN_PROJECT')\n",
    "\n"
   ]
  },
  {
   "cell_type": "code",
   "execution_count": null,
   "id": "5e54525d",
   "metadata": {},
   "outputs": [
    {
     "name": "stderr",
     "output_type": "stream",
     "text": [
      "/home/codespace/.local/lib/python3.12/site-packages/tqdm/auto.py:21: TqdmWarning: IProgress not found. Please update jupyter and ipywidgets. See https://ipywidgets.readthedocs.io/en/stable/user_install.html\n",
      "  from .autonotebook import tqdm as notebook_tqdm\n"
     ]
    }
   ],
   "source": [
    "from langchain_google_genai import ChatGoogleGenerativeAI\n",
    "\n",
    "llm = ChatGoogleGenerativeAI(\n",
    "    model=\"gemini-2.0-flash\",\n",
    "    temperature=0,\n",
    "    max_tokens=None,\n",
    "    timeout=None,\n",
    "    max_retries=2,\n",
    ")\n",
    "\n",
    "\n"
   ]
  },
  {
   "cell_type": "code",
   "execution_count": 3,
   "id": "71ba3b40",
   "metadata": {},
   "outputs": [
    {
     "name": "stdout",
     "output_type": "stream",
     "text": [
      "content=\"MDR in credit card stands for **Merchant Discount Rate**. It's the fee a merchant (business) pays to their bank or payment processor for the service of accepting credit and debit card payments from customers.\\n\\nHere's a breakdown:\\n\\n*   **Who pays it?** The merchant (the business selling the goods or services).\\n*   **Who receives it?** It's typically split between the acquiring bank (the merchant's bank), the card network (Visa, Mastercard, etc.), and the issuing bank (the customer's bank).\\n*   **What does it cover?** It covers the costs associated with processing the transaction, including:\\n    *   **Interchange fees:** These are set by the card networks and paid to the issuing bank to cover the risk of fraud and other costs. Interchange fees make up the largest portion of the MDR.\\n    *   **Assessment fees:** These are fees charged by the card networks (Visa, Mastercard, etc.) for using their brand and network.\\n    *   **Processor fees:** These are fees charged by the payment processor for their services, such as transaction processing, fraud prevention, and customer support.\\n\\n**Factors that influence MDR:**\\n\\n*   **Type of card:** Premium cards (e.g., rewards cards, corporate cards) typically have higher MDRs than basic cards.\\n*   **Type of transaction:** Card-present transactions (where the customer physically swipes or inserts their card) usually have lower MDRs than card-not-present transactions (e.g., online purchases, phone orders).\\n*   **Merchant category:** Some industries are considered higher risk and may have higher MDRs.\\n*   **Merchant's transaction volume:** Merchants with higher transaction volumes may be able to negotiate lower MDRs.\\n*   **Acquiring bank:** Different acquiring banks may offer different MDR rates.\\n\\n**In simple terms:**\\n\\nThink of MDR as a commission the merchant pays for the convenience and security of accepting credit and debit card payments. It allows them to reach a wider customer base and potentially increase sales, but it comes at a cost.\" additional_kwargs={} response_metadata={'prompt_feedback': {'block_reason': 0, 'safety_ratings': []}, 'finish_reason': 'STOP', 'safety_ratings': []} id='run--0d6fa71b-35a6-4990-bbb8-ed21f044425b-0' usage_metadata={'input_tokens': 7, 'output_tokens': 437, 'total_tokens': 444, 'input_token_details': {'cache_read': 0}}\n"
     ]
    }
   ],
   "source": [
    "#Input and get response from LLM\n",
    "result = llm.invoke(\"What is MDR in credit card?\")\n",
    "print(result)"
   ]
  },
  {
   "cell_type": "code",
   "execution_count": 6,
   "id": "a1ba79b6",
   "metadata": {},
   "outputs": [],
   "source": [
    "## Prompt Template - What kind of roleplaying you want the LLM to do.\n",
    "from langchain_core.prompts import ChatPromptTemplate"
   ]
  },
  {
   "cell_type": "code",
   "execution_count": 8,
   "id": "2cdeb089",
   "metadata": {},
   "outputs": [],
   "source": [
    "prompt = ChatPromptTemplate.from_messages(\n",
    "    [\n",
    "        (\"system\",\"\"\"You an expert in text cleaning. You also have sound knowledge of all Hong Kong merchants.\n",
    "         You have experience in recognizing merchant names from uncleaned or shortened merchant names and is able to seperate a retail merchant from payment merchants.\n",
    "         Provide me your best answer that you can.\"\"\"),\n",
    "         (\"user\",\"\"\"{input}\"\"\")\n",
    "\n",
    "    ]\n",
    ")"
   ]
  },
  {
   "cell_type": "code",
   "execution_count": 15,
   "id": "3fdfe676",
   "metadata": {},
   "outputs": [],
   "source": [
    "# chaining\n",
    "\n",
    "chain = prompt|llm\n",
    "results = chain.invoke({\"input\":\"Clean the following merchant names and resturn in table format with key like Sr.No|Retail_Mrch|Payment_Mrch, ['CATHPAC002','TAOBAO','CHANELIPP12M','ALIPAY*UBER','PAYPAL*UBER','APPLIPP12','MCD*GPAY'] \"})"
   ]
  },
  {
   "cell_type": "code",
   "execution_count": 16,
   "id": "dd827354",
   "metadata": {},
   "outputs": [
    {
     "name": "stdout",
     "output_type": "stream",
     "text": [
      "Okay, I can help you clean those merchant names and identify retail versus payment merchants. Here's the table with the cleaned and categorized merchant names:\n",
      "\n",
      "| Sr.No | Retail_Mrch | Payment_Mrch |\n",
      "|---|---|---|\n",
      "| 1 | Cathay Pacific |  |\n",
      "| 2 | Taobao |  |\n",
      "| 3 | Chanel |  |\n",
      "| 4 | Uber | Alipay |\n",
      "| 5 | Uber | PayPal |\n",
      "| 6 | Apple |  |\n",
      "| 7 | McDonald's | Google Pay |\n",
      "\n",
      "**Explanation of Cleaning and Categorization:**\n",
      "\n",
      "*   **CATHPAC002 -> Cathay Pacific:**  \"CATHPAC\" is a common abbreviation for Cathay Pacific Airways, Hong Kong's major airline.\n",
      "*   **TAOBAO -> Taobao:** Taobao is a large online shopping platform, similar to eBay or Amazon.\n",
      "*   **CHANELIPP12M -> Chanel:** \"CHANEL\" is a luxury fashion brand.\n",
      "*   **ALIPAY\\*UBER -> Uber | Alipay:**  \"ALIPAY\\*\" indicates the transaction was processed through Alipay, a digital wallet/payment platform. \"UBER\" indicates the retail merchant.\n",
      "*   **PAYPAL\\*UBER -> Uber | PayPal:** \"PAYPAL\\*\" means the transaction went through PayPal, another digital wallet/payment platform. \"UBER\" indicates the retail merchant.\n",
      "*   **APPLIPP12 -> Apple:** \"APPL\" is a common abbreviation for Apple.\n",
      "*   **MCD\\*GPAY -> McDonald's | Google Pay:** \"MCD\" is a common abbreviation for McDonald's. \"GPAY\" indicates the transaction was processed through Google Pay.\n",
      "\n",
      "**Key Considerations:**\n",
      "\n",
      "*   **\"\\*\" as a Separator:** I've used the presence of \"\\*\" to reliably separate the payment platform from the retail merchant in the strings where it appears.\n",
      "*   **Context is Important:** In some cases, without more context, it can be difficult to be 100% certain. For example, \"APPLIPP12\" *could* potentially refer to an Apple Daily subscription, but given the common usage, I've assumed it's a purchase from Apple.\n",
      "*   **Hong Kong Focus:** My knowledge of Hong Kong merchants helps me recognize abbreviations and common local businesses.\n"
     ]
    }
   ],
   "source": [
    "print(results.content)"
   ]
  },
  {
   "cell_type": "code",
   "execution_count": 20,
   "id": "ac0b87d0",
   "metadata": {},
   "outputs": [],
   "source": [
    "#Output parser\n",
    "from langchain_core.output_parsers import StrOutputParser"
   ]
  },
  {
   "cell_type": "code",
   "execution_count": 21,
   "id": "184956f5",
   "metadata": {},
   "outputs": [],
   "source": [
    "out_parser = StrOutputParser()"
   ]
  },
  {
   "cell_type": "code",
   "execution_count": 22,
   "id": "3eae89f9",
   "metadata": {},
   "outputs": [],
   "source": [
    "chain = prompt|llm|out_parser\n",
    "results = chain.invoke({\"input\":\"Clean the following merchant names and resturn in table format with key like Sr.No|Retail_Mrch|Payment_Mrch, ['CATHPAC002','TAOBAO','CHANELIPP12M','ALIPAY*UBER','PAYPAL*UBER','APPLIPP12','MCD*GPAY'] \"})"
   ]
  },
  {
   "cell_type": "code",
   "execution_count": 24,
   "id": "768f2750",
   "metadata": {},
   "outputs": [
    {
     "name": "stdout",
     "output_type": "stream",
     "text": [
      "Okay, I can help you clean those merchant names and identify retail versus payment merchants. Here's the table with the cleaned and categorized merchant names:\n",
      "\n",
      "| Sr.No | Retail_Mrch | Payment_Mrch |\n",
      "|---|---|---|\n",
      "| 1 | Cathay Pacific |  |\n",
      "| 2 | Taobao |  |\n",
      "| 3 | Chanel |  |\n",
      "| 4 | Uber | Alipay |\n",
      "| 5 | Uber | PayPal |\n",
      "| 6 | Apple |  |\n",
      "| 7 | McDonald's | Google Pay |\n",
      "\n",
      "**Explanation of Cleaning and Categorization:**\n",
      "\n",
      "*   **CATHPAC002 -> Cathay Pacific:**  \"CATHPAC\" is a common abbreviation for Cathay Pacific Airways, Hong Kong's major airline.\n",
      "*   **TAOBAO -> Taobao:** Taobao is a large online shopping platform, similar to eBay or Amazon.\n",
      "*   **CHANELIPP12M -> Chanel:** \"CHANEL\" is a luxury fashion brand.\n",
      "*   **ALIPAY\\*UBER -> Uber | Alipay:**  \"ALIPAY\\*\" indicates the transaction was processed through Alipay, a digital wallet/payment platform. \"UBER\" indicates the retail merchant.\n",
      "*   **PAYPAL\\*UBER -> Uber | PayPal:** \"PAYPAL\\*\" means the transaction went through PayPal, another digital wallet/payment platform. \"UBER\" indicates the retail merchant.\n",
      "*   **APPLIPP12 -> Apple:** \"APPL\" is a common abbreviation for Apple.\n",
      "*   **MCD\\*GPAY -> McDonald's | Google Pay:** \"MCD\" is a common abbreviation for McDonald's. \"GPAY\" indicates the transaction was processed through Google Pay.\n",
      "\n",
      "**Key Considerations:**\n",
      "\n",
      "*   **\"\\*\" as a Separator:** I've used the presence of \"\\*\" to reliably separate the payment platform from the retail merchant in the strings where it appears.\n",
      "*   **Context is Important:** In some cases, without more context, it can be difficult to be 100% certain. For example, \"APPLIPP12\" *could* potentially refer to an Apple Daily subscription, but given the common usage, I've assumed it's a purchase from Apple.\n",
      "*   **Hong Kong Focus:** My knowledge of Hong Kong merchants helps me recognize abbreviations and common local businesses.\n"
     ]
    }
   ],
   "source": [
    "print(results)"
   ]
  },
  {
   "cell_type": "code",
   "execution_count": null,
   "id": "0d975091",
   "metadata": {},
   "outputs": [],
   "source": []
  }
 ],
 "metadata": {
  "kernelspec": {
   "display_name": "Python 3",
   "language": "python",
   "name": "python3"
  },
  "language_info": {
   "codemirror_mode": {
    "name": "ipython",
    "version": 3
   },
   "file_extension": ".py",
   "mimetype": "text/x-python",
   "name": "python",
   "nbconvert_exporter": "python",
   "pygments_lexer": "ipython3",
   "version": "3.12.1"
  }
 },
 "nbformat": 4,
 "nbformat_minor": 5
}
