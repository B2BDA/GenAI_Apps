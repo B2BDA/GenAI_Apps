{
 "cells": [
  {
   "cell_type": "code",
   "execution_count": 1,
   "id": "070317be",
   "metadata": {},
   "outputs": [],
   "source": [
    "from dotenv import load_dotenv\n",
    "import os"
   ]
  },
  {
   "cell_type": "code",
   "execution_count": 2,
   "id": "17bf8c82",
   "metadata": {},
   "outputs": [
    {
     "data": {
      "text/plain": [
       "True"
      ]
     },
     "execution_count": 2,
     "metadata": {},
     "output_type": "execute_result"
    }
   ],
   "source": [
    "load_dotenv()"
   ]
  },
  {
   "cell_type": "code",
   "execution_count": 3,
   "id": "07479a8d",
   "metadata": {},
   "outputs": [],
   "source": [
    "os.environ['GOOGLE_API_KEY'] = os.getenv('GOOGLE_API_KEY')\n",
    "os.environ['LANGCHAIN_API_KEY'] = os.getenv('LANGCHAIN_API_KEY')\n",
    "os.environ['LANGCHAIN_TRACING_V2'] = \"true\"\n",
    "os.environ['LANGCHAIN_PROJECT'] = os.getenv('LANGCHAIN_PROJECT')\n",
    "os.environ['GROQ_API_KEY'] = os.getenv('GROQ_API_KEY')"
   ]
  },
  {
   "cell_type": "code",
   "execution_count": 4,
   "id": "c70cb831",
   "metadata": {},
   "outputs": [],
   "source": [
    "from langchain_groq import ChatGroq"
   ]
  },
  {
   "cell_type": "code",
   "execution_count": 5,
   "id": "0d82f8d9",
   "metadata": {},
   "outputs": [],
   "source": [
    "model = ChatGroq(model = 'gemma2-9b-it', api_key = os.environ['GROQ_API_KEY'])"
   ]
  },
  {
   "cell_type": "code",
   "execution_count": 6,
   "id": "76e407f3",
   "metadata": {},
   "outputs": [],
   "source": [
    "from langchain_core.messages import HumanMessage, AIMessage, SystemMessage"
   ]
  },
  {
   "cell_type": "code",
   "execution_count": 7,
   "id": "362126fa",
   "metadata": {},
   "outputs": [
    {
     "data": {
      "text/plain": [
       "AIMessage(content=\"Hello BotD3ath!\\n\\nIt's great to meet you. Learning about Generative AI is an exciting journey! \\n\\nIs there anything specific you'd like to know or explore about GenAI? I can help with:\\n\\n* **Explaining basic concepts:** Like what GenAI is, how it works, and different types of models.\\n* **Discussing specific applications:**  Such as text generation, image creation, code writing, or music composition.\\n* **Analyzing examples:** We could look at examples of GenAI outputs and discuss their strengths and limitations.\\n* **Ethical considerations:**  GenAI raises important ethical questions, and we can explore those together.\\n\\nJust let me know what you're interested in, and I'll do my best to assist you!\\n\", additional_kwargs={}, response_metadata={'token_usage': {'completion_tokens': 165, 'prompt_tokens': 22, 'total_tokens': 187, 'completion_time': 0.3, 'prompt_time': 0.002126607, 'queue_time': 0.24880086299999998, 'total_time': 0.302126607}, 'model_name': 'gemma2-9b-it', 'system_fingerprint': 'fp_10c08bf97d', 'finish_reason': 'stop', 'logprobs': None}, id='run--a85c7a0c-30bc-41ea-b3e0-dba101c53993-0', usage_metadata={'input_tokens': 22, 'output_tokens': 165, 'total_tokens': 187})"
      ]
     },
     "execution_count": 7,
     "metadata": {},
     "output_type": "execute_result"
    }
   ],
   "source": [
    "model.invoke([HumanMessage(content = \"Hello I am BotD3ath and I am learning GenAI\")])"
   ]
  },
  {
   "cell_type": "code",
   "execution_count": 8,
   "id": "add8b525",
   "metadata": {},
   "outputs": [
    {
     "data": {
      "text/plain": [
       "AIMessage(content=\"You are BotD3ath, a large language model learning about Generative AI.  You are interacting with me, Gemma, another large language model, to expand your knowledge. \\n\\n Essentially, you're on a learning adventure in the world of AI! \\n\\nIs there anything specific you want to learn about right now?  Perhaps a type of GenAI model or a real-world application?\\n\", additional_kwargs={}, response_metadata={'token_usage': {'completion_tokens': 85, 'prompt_tokens': 163, 'total_tokens': 248, 'completion_time': 0.154545455, 'prompt_time': 0.007065811, 'queue_time': 0.251052198, 'total_time': 0.161611266}, 'model_name': 'gemma2-9b-it', 'system_fingerprint': 'fp_10c08bf97d', 'finish_reason': 'stop', 'logprobs': None}, id='run--bd0fb986-a061-4f84-91e4-d25ed3b1888a-0', usage_metadata={'input_tokens': 163, 'output_tokens': 85, 'total_tokens': 248})"
      ]
     },
     "execution_count": 8,
     "metadata": {},
     "output_type": "execute_result"
    }
   ],
   "source": [
    "model.invoke([HumanMessage(content = \"Hello I am BotD3ath and I am learning GenAI\"),\n",
    "            AIMessage(content = \"Hello BotD3ath! It's great to meet you. Learning about Generative AI is an exciting journey. \\n\\nWhat specifically are you interested in learning about GenAI? \\n\\nFor example, are you curious about:\\n\\n* **How GenAI models are trained?**\\n* **Different types of GenAI models (like text generation, image generation, etc.)?**\\n* **The ethical considerations surrounding GenAI?**\\n* **How to use GenAI tools and APIs?**\\n\\nTell me more about your goals, and I'll do my best to help!\\n\"),\n",
    "            HumanMessage(content=\"Who am I and what am I doing?\")\n",
    "              ])"
   ]
  },
  {
   "cell_type": "code",
   "execution_count": 9,
   "id": "955d06cd",
   "metadata": {},
   "outputs": [],
   "source": [
    "# Message Histrory\n",
    "# Message history class can make the model stateful. This means all the input and output are tracked and stored in a datastore.\n",
    "# Any future interactions wwill load these messages and pass them into the chain  as part of the input"
   ]
  },
  {
   "cell_type": "code",
   "execution_count": 10,
   "id": "93f36ee9",
   "metadata": {},
   "outputs": [],
   "source": [
    "from langchain_community.chat_message_histories import ChatMessageHistory\n",
    "from langchain_core.chat_history import BaseChatMessageHistory\n",
    "from langchain_core.runnables.history import RunnableWithMessageHistory"
   ]
  },
  {
   "cell_type": "code",
   "execution_count": 38,
   "id": "df441c9f",
   "metadata": {},
   "outputs": [],
   "source": [
    "# how to differentiate between various chat sessions\n",
    "store = {}\n",
    "def get_session_history(session_id:str)->BaseChatMessageHistory: #return type is BaseChatMessageHistory\n",
    "    if session_id not in store:\n",
    "        store[session_id] = ChatMessageHistory()\n",
    "    return store[session_id]\n",
    "\n",
    "with_message_history = RunnableWithMessageHistory(model,get_session_history)\n"
   ]
  },
  {
   "cell_type": "code",
   "execution_count": 39,
   "id": "8760d68c",
   "metadata": {},
   "outputs": [
    {
     "data": {
      "text/plain": [
       "{'configurable': {'session_id': 'chat1'}}"
      ]
     },
     "execution_count": 39,
     "metadata": {},
     "output_type": "execute_result"
    }
   ],
   "source": [
    "config = {\"configurable\":{\"session_id\":\"chat1\"}}\n",
    "config"
   ]
  },
  {
   "cell_type": "code",
   "execution_count": 40,
   "id": "ac44a75c",
   "metadata": {},
   "outputs": [],
   "source": [
    "response = with_message_history.invoke(\n",
    "   [HumanMessage(content = \"Hello I am BotD3ath and I am learning GenAI\")],config=config\n",
    ")"
   ]
  },
  {
   "cell_type": "code",
   "execution_count": 43,
   "id": "41218b31",
   "metadata": {},
   "outputs": [
    {
     "data": {
      "text/plain": [
       "\"Hello BotD3ath! It's great to meet you.  \\n\\nLearning about Generative AI is an exciting journey! What specifically are you interested in learning about? \\n\\nI can help you with things like:\\n\\n* **Understanding the basics of GenAI:** What it is, how it works, and its different types.\\n* **Exploring popular GenAI models:** Like me (I'm a large language model!), DALL-E 2, Stable Diffusion, and more.\\n* **Learning about the applications of GenAI:** From writing and art creation to code generation and scientific research.\\n* **Discussing the ethical considerations surrounding GenAI:** Bias, fairness, misuse, and the impact on society.\\n\\nJust let me know what you'd like to explore, and I'll do my best to guide you!  🤖\\n\""
      ]
     },
     "execution_count": 43,
     "metadata": {},
     "output_type": "execute_result"
    }
   ],
   "source": [
    "response.content"
   ]
  },
  {
   "cell_type": "code",
   "execution_count": 44,
   "id": "c5852de5",
   "metadata": {},
   "outputs": [],
   "source": [
    "response = with_message_history.invoke(\n",
    "   [HumanMessage(content = \"What's my name?\")],config=config\n",
    ")"
   ]
  },
  {
   "cell_type": "code",
   "execution_count": 45,
   "id": "f53e02da",
   "metadata": {},
   "outputs": [
    {
     "data": {
      "text/plain": [
       "\"You told me your name is BotD3ath!  🤖  \\n\\nIs there anything else I can help you with? Perhaps you'd like to know more about how I work, or maybe you have a creative project you'd like to brainstorm?\\n\""
      ]
     },
     "execution_count": 45,
     "metadata": {},
     "output_type": "execute_result"
    }
   ],
   "source": [
    "response.content"
   ]
  },
  {
   "cell_type": "code",
   "execution_count": 46,
   "id": "ca5cd866",
   "metadata": {},
   "outputs": [
    {
     "data": {
      "text/plain": [
       "{'configurable': {'session_id': 'chat'}}"
      ]
     },
     "execution_count": 46,
     "metadata": {},
     "output_type": "execute_result"
    }
   ],
   "source": [
    "# change the session ID\n",
    "config1 = {\"configurable\":{\"session_id\":\"chat\"}}\n",
    "config1"
   ]
  },
  {
   "cell_type": "code",
   "execution_count": 47,
   "id": "f8735707",
   "metadata": {},
   "outputs": [
    {
     "data": {
      "text/plain": [
       "AIMessage(content=\"As an AI, I have no memory of past conversations and do not know your name. If you'd like to tell me, I'm happy to use it! 😊\\n\", additional_kwargs={}, response_metadata={'token_usage': {'completion_tokens': 39, 'prompt_tokens': 15, 'total_tokens': 54, 'completion_time': 0.070909091, 'prompt_time': 0.002005254, 'queue_time': 0.24848294599999998, 'total_time': 0.072914345}, 'model_name': 'gemma2-9b-it', 'system_fingerprint': 'fp_10c08bf97d', 'finish_reason': 'stop', 'logprobs': None}, id='run--33416970-585b-40dc-9b05-2340a611e202-0', usage_metadata={'input_tokens': 15, 'output_tokens': 39, 'total_tokens': 54})"
      ]
     },
     "execution_count": 47,
     "metadata": {},
     "output_type": "execute_result"
    }
   ],
   "source": [
    "with_message_history.invoke(\n",
    "   [HumanMessage(content = \"What's my name?\")],config=config1\n",
    ")"
   ]
  },
  {
   "cell_type": "code",
   "execution_count": 48,
   "id": "6c62c66f",
   "metadata": {},
   "outputs": [
    {
     "data": {
      "text/plain": [
       "AIMessage(content=\"Hello John Doe! It's nice to meet you.  What can I do for you today? 😊 \\n\\n\", additional_kwargs={}, response_metadata={'token_usage': {'completion_tokens': 27, 'prompt_tokens': 67, 'total_tokens': 94, 'completion_time': 0.049090909, 'prompt_time': 0.003714171, 'queue_time': 0.249551609, 'total_time': 0.05280508}, 'model_name': 'gemma2-9b-it', 'system_fingerprint': 'fp_10c08bf97d', 'finish_reason': 'stop', 'logprobs': None}, id='run--6c0775da-20db-4919-b255-539fa62ae748-0', usage_metadata={'input_tokens': 67, 'output_tokens': 27, 'total_tokens': 94})"
      ]
     },
     "execution_count": 48,
     "metadata": {},
     "output_type": "execute_result"
    }
   ],
   "source": [
    "with_message_history.invoke(\n",
    "   [HumanMessage(content = \"My Name is John Doe\")],config=config1\n",
    ")"
   ]
  }
 ],
 "metadata": {
  "kernelspec": {
   "display_name": "Python 3",
   "language": "python",
   "name": "python3"
  },
  "language_info": {
   "codemirror_mode": {
    "name": "ipython",
    "version": 3
   },
   "file_extension": ".py",
   "mimetype": "text/x-python",
   "name": "python",
   "nbconvert_exporter": "python",
   "pygments_lexer": "ipython3",
   "version": "3.12.1"
  }
 },
 "nbformat": 4,
 "nbformat_minor": 5
}
