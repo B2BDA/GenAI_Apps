{
 "cells": [
  {
   "cell_type": "code",
   "execution_count": 7,
   "id": "cb02a48e",
   "metadata": {},
   "outputs": [],
   "source": [
    "# LangChain Expression Language LCEL\n",
    "# Groq is a AI Inferencing company using LPU engine..\n",
    "\n",
    "import os\n",
    "from dotenv import load_dotenv\n",
    "load_dotenv()\n",
    "os.environ['GROQ_API_KEY'] = os.getenv('GROQ_API_KEY')\n",
    "os.environ['GOOGLE_API_KEY'] = os.getenv('GOOGLE_API_KEY')"
   ]
  },
  {
   "cell_type": "code",
   "execution_count": 8,
   "id": "d15fc860",
   "metadata": {},
   "outputs": [],
   "source": [
    "from langchain_groq import ChatGroq"
   ]
  },
  {
   "cell_type": "code",
   "execution_count": 9,
   "id": "d5e4de56",
   "metadata": {},
   "outputs": [],
   "source": [
    "model = ChatGroq(model=\"Gemma2-9b-it\", groq_api_key = os.environ['GROQ_API_KEY'])"
   ]
  },
  {
   "cell_type": "code",
   "execution_count": 10,
   "id": "4c6a6430",
   "metadata": {},
   "outputs": [
    {
     "data": {
      "text/plain": [
       "ChatGroq(client=<groq.resources.chat.completions.Completions object at 0x714a750dbdd0>, async_client=<groq.resources.chat.completions.AsyncCompletions object at 0x714a74f16e40>, model_name='Gemma2-9b-it', model_kwargs={}, groq_api_key=SecretStr('**********'))"
      ]
     },
     "execution_count": 10,
     "metadata": {},
     "output_type": "execute_result"
    }
   ],
   "source": [
    "model"
   ]
  },
  {
   "cell_type": "code",
   "execution_count": 11,
   "id": "1bbfcc00",
   "metadata": {},
   "outputs": [],
   "source": [
    "from langchain_core.messages import HumanMessage, SystemMessage"
   ]
  },
  {
   "cell_type": "code",
   "execution_count": 13,
   "id": "6fd0f8b7",
   "metadata": {},
   "outputs": [],
   "source": [
    "messages = [\n",
    "\n",
    "SystemMessage(content=\"Translate the following from English to Bengali\"), # instructs the LLM model what to do and how to behave \n",
    "HumanMessage(content=\"Hello! How are you?\") \n",
    "\n",
    "\n",
    "]\n",
    "\n",
    "response = model.invoke(messages)"
   ]
  },
  {
   "cell_type": "code",
   "execution_count": 17,
   "id": "878cb30c",
   "metadata": {},
   "outputs": [
    {
     "data": {
      "text/plain": [
       "'Here are a few ways to translate \"Hello! How are you?\" to Bengali:\\n\\n**Formal:**\\n\\n* **নমস্কার! কেমন আছেন?** (Nomoshkar! Kemne achhen?)\\n\\n**Informal:**\\n\\n* **নমস্কার! কেমন আছে?** (Nomoshkar! Kemne ache?)\\n* **হ্যালো! কেমন আছ?** (Halo! Kemon ach?)\\n\\nYou can choose the translation that best suits the context and your relationship with the person you\\'re speaking to.\\n\\n\\n\\n'"
      ]
     },
     "execution_count": 17,
     "metadata": {},
     "output_type": "execute_result"
    }
   ],
   "source": [
    "#Output parser\n",
    "from langchain_core.output_parsers import StrOutputParser\n",
    "out_parser = StrOutputParser()\n",
    "out_parser.invoke(response)"
   ]
  },
  {
   "cell_type": "code",
   "execution_count": null,
   "id": "648febe7",
   "metadata": {},
   "outputs": [
    {
     "data": {
      "text/plain": [
       "'নমস্কার! কেমন আছেন? \\n(Nomoshkar! Kemne achhen?) \\n\\n\\nThis translates literally to \"Hello! How are you?\". \\n\\nHere\\'s a breakdown:\\n\\n* **নমস্কার (Nomoshkar):**  Hello\\n* **কেমন (Kemne):** How\\n* **আছেন (Achhen):** are you (formal, polite)\\n\\n\\nLet me know if you have any other phrases you\\'d like translated!\\n'"
      ]
     },
     "execution_count": 19,
     "metadata": {},
     "output_type": "execute_result"
    }
   ],
   "source": [
    "# Using LECL we can chain the components\n",
    "# Messages will be going to model and then the results will be sent to parser\n",
    "chain = model|out_parser\n",
    "chain.invoke(messages)"
   ]
  },
  {
   "cell_type": "code",
   "execution_count": 22,
   "id": "8c812a58",
   "metadata": {},
   "outputs": [],
   "source": [
    "# Alterntively we can use Prompt tempaltes which are much more efficient\n",
    "\n",
    "from langchain_core.prompts import ChatPromptTemplate"
   ]
  },
  {
   "cell_type": "code",
   "execution_count": 23,
   "id": "49ef2622",
   "metadata": {},
   "outputs": [],
   "source": [
    "generic_template = \"Translate the following into {language}: \"\n",
    "prompt = ChatPromptTemplate.from_messages(\n",
    "    [\n",
    "        (\"system\",generic_template),\n",
    "         (\"user\",\"\"\"{input}\"\"\")\n",
    "\n",
    "    ]\n",
    ")"
   ]
  },
  {
   "cell_type": "code",
   "execution_count": 25,
   "id": "029d4db5",
   "metadata": {},
   "outputs": [],
   "source": [
    "result = prompt.invoke({'language':'Bengali',\"input\":\"I am good. You?\"})"
   ]
  },
  {
   "cell_type": "code",
   "execution_count": 26,
   "id": "f9dc1d58",
   "metadata": {},
   "outputs": [
    {
     "data": {
      "text/plain": [
       "[SystemMessage(content='Translate the following into Bengali: ', additional_kwargs={}, response_metadata={}),\n",
       " HumanMessage(content='I am good. You?', additional_kwargs={}, response_metadata={})]"
      ]
     },
     "execution_count": 26,
     "metadata": {},
     "output_type": "execute_result"
    }
   ],
   "source": [
    "result.to_messages()"
   ]
  },
  {
   "cell_type": "code",
   "execution_count": 27,
   "id": "68326e87",
   "metadata": {},
   "outputs": [
    {
     "data": {
      "text/plain": [
       "\"আমি ভালো আছি। তুমি? \\n\\n(Ami bhalo achhi. Tumi?) \\n\\n\\nLet me know if you'd like me to translate anything else! 😊 \\n\""
      ]
     },
     "execution_count": 27,
     "metadata": {},
     "output_type": "execute_result"
    }
   ],
   "source": [
    "chain = prompt|model|out_parser\n",
    "chain.invoke({'language':'Bengali',\"input\":\"I am good. You?\"})"
   ]
  },
  {
   "cell_type": "code",
   "execution_count": null,
   "id": "33a576d8",
   "metadata": {},
   "outputs": [],
   "source": []
  }
 ],
 "metadata": {
  "kernelspec": {
   "display_name": "Python 3",
   "language": "python",
   "name": "python3"
  },
  "language_info": {
   "codemirror_mode": {
    "name": "ipython",
    "version": 3
   },
   "file_extension": ".py",
   "mimetype": "text/x-python",
   "name": "python",
   "nbconvert_exporter": "python",
   "pygments_lexer": "ipython3",
   "version": "3.12.1"
  }
 },
 "nbformat": 4,
 "nbformat_minor": 5
}
