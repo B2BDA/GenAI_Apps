{
 "cells": [
  {
   "cell_type": "code",
   "execution_count": 1,
   "id": "ce751c4d",
   "metadata": {},
   "outputs": [
    {
     "data": {
      "text/plain": [
       "[Document(metadata={'producer': 'Microsoft® Word for Microsoft 365', 'creator': 'Microsoft® Word for Microsoft 365', 'creationdate': '2024-10-18T14:40:05+08:00', 'msip_label_3486a02c-2dfb-4efe-823f-aa2d1f0e6ab7_enabled': 'true', 'msip_label_3486a02c-2dfb-4efe-823f-aa2d1f0e6ab7_setdate': '2024-10-08T15:56:53Z', 'msip_label_3486a02c-2dfb-4efe-823f-aa2d1f0e6ab7_method': 'Privileged', 'msip_label_3486a02c-2dfb-4efe-823f-aa2d1f0e6ab7_name': 'CLAPUBLIC', 'msip_label_3486a02c-2dfb-4efe-823f-aa2d1f0e6ab7_siteid': 'e0fd434d-ba64-497b-90d2-859c472e1a92', 'msip_label_3486a02c-2dfb-4efe-823f-aa2d1f0e6ab7_actionid': '8c75c534-6cc7-4fbb-8718-2dcd08b8899b', 'msip_label_3486a02c-2dfb-4efe-823f-aa2d1f0e6ab7_contentbits': '2', 'title': 'Key Fact Statement', 'author': 'jason.c.f.chow@hsbc.com.hk', 'subject': 'Key Fact Statement', 'keywords': 'RESTRICTED -', 'moddate': '2024-10-18T14:40:05+08:00', 'source': 'docs/key-fact-statement.pdf', 'total_pages': 9, 'page': 0, 'page_label': '1'}, page_content='PUBLIC \\nThe Hongkong and Shanghai Banking Corporation Limited (“we”, “us” or “our”)  \\nKEY FACTS STATEMENT FOR CREDIT CARDS \\nYou are advised to refer to the “Bank tariff guide for HSBC Wealth and Personal Banking Customers” and the Credit Card Terms for \\nyour credit card for more details.  \\nCredit Cards \\nNovember 2024 \\n \\nInterest Rates and Finance Charges  \\nAnnualised   \\nPercentage Rate   \\n(APR) for  \\nPurchase1  \\n35.42% when you open your account and it will be reviewed from time to time.  \\n• If we receive payment of the statement balance in full on or before the payment due date, you do not have to \\npay any finance charge on that statement balance.  \\n• If you do not pay the statement balance in full on or before the payment due date, we may charge, without \\nprior notice, a finance charge even if you have paid the minimum payment due in full. The finance charge is \\nimposed on:  \\n(a) the unpaid statement balance, from the statement date immediately preceding the payment due date \\nuntil we receive payment in full; and  \\n(b) the amount of each new transaction being posted to your card account since that statement date, from \\nthe transaction date until we receive payment in full.  \\n• The finance charge will accrue daily and be calculated at the interest rate of 2.65% per month (i.e. at the \\nAPR listed above).  \\nAPR for Cash \\nAdvance1 \\n35.94% (inclusive of the cash advance and handling fees) when you open your account and it will be \\nreviewed from time to time.  \\n• If we receive payment of the statement balance in full on or before the payment due date, you do not have to \\npay any finance charge on that statement balance.   \\n• If you do not pay the statement balance in full on or before the payment due date, we may charge, without \\nprior notice, a finance charge even if you have paid the minimum payment due in full. The finance charge is \\nimposed on:  \\n(a) the unpaid statement balance, from the statement date immediately preceding the payment due date \\nuntil we receive payment in full; and   \\n(b) the amount of each new transaction being posted to your card account since that statement date, from \\nthe transaction date until we receive payment in full.   \\n• The finance charge will accrue daily and be calculated at the interest rate of 2.65% per month (i.e. at the \\nAPR listed above).   \\nRemarks:   \\n1. Please note that we do not appoint any third parties to refer credit card applications to us and will not process \\nany application that was referred by a third party under beneficial arrangement. For enquiry, please call 2233 \\n3322 for HSBC Premier customers or 2233 3000 for Other Personal Banking customers.   \\n2. Accrual of interest on a cash advance transaction will continue after the statement cut-off date and the \\naccrued interest will only be charged and shown in the next statement. If you wish to fully settle the \\ninterest, you may contact us to ascertain the amount of accrued interest payable following the current \\nstatement cut-off date. For enquiry, please call 2233 3322 for HSBC Premier customers or 2233 3000 \\nfor Other Personal Banking customers. \\n3. To borrow or not to borrow? Borrow only if you can repay!  \\nDelinquent APR  N/A5  \\nInterest Free \\nPeriod  \\nUp to 56 days   \\nMinimum Payment \\nDue  \\nCard type  Minimum Payment Due  \\nHSBC Premier MasterCard / HSBC Red  \\nCredit Card / HSBC Visa Signature Card / \\nHSBC EveryMile Credit Card / Visa Platinum \\nCard (including green credit card) / Visa Gold / \\nGold MasterCard / Visa / MasterCard / iCAN \\nCard  \\n(i) (a) Total fees and charges currently billed to the card \\nstatement plus 1% of the statement balance (excluding any \\nfees and charges currently billed) as at the statement date, \\nor (b) HKD300, whichever is higher; plus   \\n(ii) Overdue or overlimit due, being the overdue minimum \\npayment amount from the previous card statement or \\namount exceeding the credit limit on your card, whichever \\nis higher.   \\nCPD265R17 W \\n                                                   \\nPage 1/4'),\n",
       " Document(metadata={'producer': 'Microsoft® Word for Microsoft 365', 'creator': 'Microsoft® Word for Microsoft 365', 'creationdate': '2024-10-18T14:40:05+08:00', 'msip_label_3486a02c-2dfb-4efe-823f-aa2d1f0e6ab7_enabled': 'true', 'msip_label_3486a02c-2dfb-4efe-823f-aa2d1f0e6ab7_setdate': '2024-10-08T15:56:53Z', 'msip_label_3486a02c-2dfb-4efe-823f-aa2d1f0e6ab7_method': 'Privileged', 'msip_label_3486a02c-2dfb-4efe-823f-aa2d1f0e6ab7_name': 'CLAPUBLIC', 'msip_label_3486a02c-2dfb-4efe-823f-aa2d1f0e6ab7_siteid': 'e0fd434d-ba64-497b-90d2-859c472e1a92', 'msip_label_3486a02c-2dfb-4efe-823f-aa2d1f0e6ab7_actionid': '8c75c534-6cc7-4fbb-8718-2dcd08b8899b', 'msip_label_3486a02c-2dfb-4efe-823f-aa2d1f0e6ab7_contentbits': '2', 'title': 'Key Fact Statement', 'author': 'jason.c.f.chow@hsbc.com.hk', 'subject': 'Key Fact Statement', 'keywords': 'RESTRICTED -', 'moddate': '2024-10-18T14:40:05+08:00', 'source': 'docs/key-fact-statement.pdf', 'total_pages': 9, 'page': 1, 'page_label': '2'}, page_content='PUBLIC \\nHSBC Pulse UnionPay Dual Currency \\nDiamond Card5 / UnionPay Dual Currency  \\nCard  \\n  \\n  \\n  \\n  \\n  \\n  \\n  \\n(i) (a) Total fees and charges currently billed to the HKD sub-\\naccount /RMB sub-account plus 1% of the statement \\nbalance of each sub-account (excluding any fees and \\ncharges currently billed) as at the statement date, or (b) \\nHKD300 for HKD sub-account/ RMB300 for RMB sub-\\naccount, whichever is higher; plus   \\n(ii) Overdue or overlimit due, being the overdue minimum \\npayment amount from the previous card statement or \\namount exceeding the credit limit on your card for each \\nsub-account, whichever is higher.   \\nUS$ Visa Gold Card  Equivalent to the full amount of the statement balance.  \\nFees  \\nAnnual Fee  The annual fee for primary and additional cards are as follows:  \\nCard type2  Primary card  Additional card \\n(separate billing)  \\nAdditional card  \\n(combined billing)  \\nHK dollar personal credit cards  \\nHSBC Premier \\nMasterCard  \\nWaived \\npermanently  \\nN/A  Waived \\npermanently  \\nHSBC Red Credit Card  Waived \\npermanently  \\nN/A  Waived \\npermanently  \\nHSBC Visa Signature \\nCard  \\nHKD2,000  N/A  HKD1,000  \\nHSBC EveryMile Credit \\nCard3 \\nHKD2,000 N/A N/A \\nVisa Platinum Card  \\n(including green credit \\ncard)  \\nHKD1,800  N/A  HKD900  \\nVisa Gold / Gold  \\nMasterCard   \\nHKD600  HKD600  HKD300  \\nVisa / MasterCard   HKD300  HKD300  HKD150  \\niCAN Card   HKD300  N/A  N/A  \\nForeign currency credit card \\nUS$ Visa Gold Card  USD80  USD80  USD40  \\nUnionPay dual currency credit card  \\nHSBC Pulse UnionPay  \\nDual Currency Diamond \\nCard5  \\nHKD1,800  N/A  HKD900  \\nUnionPay Dual Currency \\nCard  \\nHKD300  N/A  HKD150  \\nCash Advance Fee  \\nand Handling Fee  \\nFor each cash advance, we will charge you on the date of the cash advance, a handling fee of 1% on the cash \\nadvance amount, subject to the following minimum charge:   \\n• For over-the-counter cash advance: HK dollar personal credit cards — HKD120; US$ Visa Gold Card — \\nUSD10; UnionPay dual currency credit cards — N/A  \\n• For cash advance made from ATM or through any other channels: HK dollar personal credit cards —\\nHKD100; US$ Visa Gold Card — USD7; UnionPay dual currency credit cards — HKD sub-account: HKD100 \\n/ RMB sub-account: RMB100  \\nBill Payment \\nHandling Fee \\n(applicable for \\npayments to finance \\ncompanies) \\n1% of the Payment Amount per transaction (minimum: HKD120) \\nCPD265R17 W \\n                                                   \\nPage 2/4'),\n",
       " Document(metadata={'producer': 'Microsoft® Word for Microsoft 365', 'creator': 'Microsoft® Word for Microsoft 365', 'creationdate': '2024-10-18T14:40:05+08:00', 'msip_label_3486a02c-2dfb-4efe-823f-aa2d1f0e6ab7_enabled': 'true', 'msip_label_3486a02c-2dfb-4efe-823f-aa2d1f0e6ab7_setdate': '2024-10-08T15:56:53Z', 'msip_label_3486a02c-2dfb-4efe-823f-aa2d1f0e6ab7_method': 'Privileged', 'msip_label_3486a02c-2dfb-4efe-823f-aa2d1f0e6ab7_name': 'CLAPUBLIC', 'msip_label_3486a02c-2dfb-4efe-823f-aa2d1f0e6ab7_siteid': 'e0fd434d-ba64-497b-90d2-859c472e1a92', 'msip_label_3486a02c-2dfb-4efe-823f-aa2d1f0e6ab7_actionid': '8c75c534-6cc7-4fbb-8718-2dcd08b8899b', 'msip_label_3486a02c-2dfb-4efe-823f-aa2d1f0e6ab7_contentbits': '2', 'title': 'Key Fact Statement', 'author': 'jason.c.f.chow@hsbc.com.hk', 'subject': 'Key Fact Statement', 'keywords': 'RESTRICTED -', 'moddate': '2024-10-18T14:40:05+08:00', 'source': 'docs/key-fact-statement.pdf', 'total_pages': 9, 'page': 2, 'page_label': '3'}, page_content='PUBLIC \\n  \\nForeign Currency \\nTransaction Fee4  \\nFor HK dollar personal credit cards and US$ Visa Gold Card:  \\n1.95% of every card transaction which is effected in currencies other than Hong Kong dollars (for HK \\ndollar personal credit cards) / US dollars (for US$ Visa Gold Card)   \\nFor UnionPay dual currency credit cards:  \\n1% of every card transaction which is effected in currencies other than Renminbi and Hong Kong dollars and \\nMacau Pataca (for HSBC Pulse UnionPay Dual Currency Diamond Card5), or in currencies other than Hong \\nKong dollars and Renminbi (for UnionPay Dual Currency Card)  \\nFee relating to   \\nSettling Foreign  \\nCurrency  \\nTransaction in the \\ncurrency of the \\ncredit card \\nCustomers may sometimes be offered the option to settle foreign currency transactions in the currency of the \\ncredit card at the point of sale overseas. Such option is a direct arrangement offered by the overseas merchants \\nand not the card issuer. In such cases, customers are reminded to ask the merchants for the foreign currency \\nexchange rates and the percentage of handling fees to be applied before the transactions are entered into since \\nsettling foreign currency transactions in the currency of the credit card may involve a cost higher than the \\nforeign currency transaction fee. Such handling fees are not charged by the card issuers. \\n \\nIf you choose to make transactions in Hong Kong Dollars (including a refund) incurred outside Hong Kong or \\nwith any merchants not registered in Hong Kong (e.g. internet transactions), we will charge a reimbursement \\ncharge on behalf of Visa/Mastercard International in the amount listed below on the day the transaction is \\nposted. The fee is applicable to transactions initiated by you and/or the merchant depending on the merchant’s \\nsetting. \\n \\nFor HK dollar personal Visa and Mastercard credit cards: \\n1% of every card transaction effected in Hong Kong dollars incurred outside Hong Kong or with any merchants \\nnot registered in Hong Kong \\n \\nFor UnionPay dual currency credit cards, US$ Visa Gold Card: \\nN/A  \\nLate Charge  If you do not pay the minimum payment due in full on or before the payment due date, we may charge, without \\nprior notice, a late charge in addition to the finance charge. The late charge is equivalent to the lower of the \\nminimum payment due or the amount listed below:   \\n• HK dollar personal credit cards — HKD300;   \\n• UnionPay dual currency credit cards — HKD sub-account: HKD300 / RMB sub-account: RMB300;  \\n• US$ Visa Gold Card — N/A.  \\nOverlimit Handling   \\nFee  \\n(Per Billing Cycle)  \\nIf the statement balance (excluding all fees and charges currently billed to your card account) exceeds the \\ncredit limit on your card, we may charge a handling fee in the amount listed below for the over-the-limit facility \\n(including the Excluded Card Transactions) to the extent that you’ve opted in for the over-the-limit facility. If you \\nhave not opted in for the over-the-limit facility, we will only have the right to charge an overlimit handling fee for \\ncertain excluded card transactions including those which do not require our authorisation for effecting payment \\nand those which are approved yet late posted. \\n• HSBC Premier MasterCard — HKD90;  \\n• Other HK dollar personal credit cards — HKD180;  \\n• US$ Visa Gold Card — USD24;  \\n• UnionPay dual currency credit cards — HKD sub-account: HKD180 / RMB sub-account: RMB180.  \\nReturned Cheque /   \\nRejected Autopay   \\nHandling Fee  \\n \\n \\nIf the cheque or autopay is not drawn on an account with us and the cheque or autopay is subsequently \\nreturned or rejected, we will treat this as your informal request for special handling services and may charge, \\nwithout prior notice, a handling fee for such services in the amount listed below:  \\n• HK dollar personal credit cards — HKD100;  \\n• US$ Visa Gold Card — USD13;   \\n• UnionPay dual currency credit cards — HKD sub-account: HKD100 / RMB sub-account: RMB100.  \\nCPD265R17 W \\n                                                   \\nPage 3/4'),\n",
       " Document(metadata={'producer': 'Microsoft® Word for Microsoft 365', 'creator': 'Microsoft® Word for Microsoft 365', 'creationdate': '2024-10-18T14:40:05+08:00', 'msip_label_3486a02c-2dfb-4efe-823f-aa2d1f0e6ab7_enabled': 'true', 'msip_label_3486a02c-2dfb-4efe-823f-aa2d1f0e6ab7_setdate': '2024-10-08T15:56:53Z', 'msip_label_3486a02c-2dfb-4efe-823f-aa2d1f0e6ab7_method': 'Privileged', 'msip_label_3486a02c-2dfb-4efe-823f-aa2d1f0e6ab7_name': 'CLAPUBLIC', 'msip_label_3486a02c-2dfb-4efe-823f-aa2d1f0e6ab7_siteid': 'e0fd434d-ba64-497b-90d2-859c472e1a92', 'msip_label_3486a02c-2dfb-4efe-823f-aa2d1f0e6ab7_actionid': '8c75c534-6cc7-4fbb-8718-2dcd08b8899b', 'msip_label_3486a02c-2dfb-4efe-823f-aa2d1f0e6ab7_contentbits': '2', 'title': 'Key Fact Statement', 'author': 'jason.c.f.chow@hsbc.com.hk', 'subject': 'Key Fact Statement', 'keywords': 'RESTRICTED -', 'moddate': '2024-10-18T14:40:05+08:00', 'source': 'docs/key-fact-statement.pdf', 'total_pages': 9, 'page': 3, 'page_label': '4'}, page_content='PUBLIC \\n \\nAssumptions: \\n• Outstanding Balance = $20,000 \\n• Interest Rate = 2.65% per month (equivalent to an annualized percentage rate of 35.42% on purchase and 35.94% on cash advance) \\n• Assumed No new transaction \\n• Assumed No annual fee and other fees \\n• Repayments are due on the 26th day after the statement date and assumed that repayments are made on or before due date \\n \\nThe below table is based on the above assumptions for illustration only. To calculate the above information applicable to your specific case, \\nyou may visit our Bank website [via HSBC HK website > Borrowing > Use Your Credit Card - See all > Credit Card repayment calculator or \\nvia https://www.hsbc.com.hk/credit-cards/tools/repayment-calculator/] for an online credit card repayment calculator for customized \\ninformation. \\n \\nIf you make no additional charges using this \\ncredit card and each month you pay… \\nYou will pay off the outstanding balance of \\nHKD20,000 in about … \\nAnd you will end up paying an estimated \\ntotal of … \\nOnly the minimum payment 11.5 years HKD57,850 \\nHKD869 3 years \\nHKD31,279 \\n(Savings = HKD26,570) \\n \\nRemarks:  \\n1. The APR is calculated based on a set of assumptions as set out in the relevant guidelines referred to in the Code of Banking \\nPractice and the actual APR applied to your card account may be different.  US$ Visa Gold Card requires payment of the statement \\nbalance in full and the APR (calculated by assuming only 1% of the current balance plus the total fees and charges currently billed \\nto the card statement are settled each month) is for reference only.  \\n2. We will waive the joining fee for any private label cards.  \\n3. The annual fee for HSBC EveryMile Credit Card is HK$2,000. This fee is subject to change or waiver at our discretion. The fee for \\nthe following year will be waived if the annual spending with HSBC EveryMile Credit Card reaches a designated amount. Please \\nvisit hsbc.com.hk/everymile for details. \\n4. The foreign currency transaction fee applicable to HK dollar personal credit cards and US$ Visa Gold Card is inclusive of the \\ntransaction fee of 1% charged to us by Visa/MasterCard Worldwide.  \\n5. “HSBC Pulse UnionPay Dual Currency Diamond Credit Card” is formerly known as “HSBC UnionPay Dual Currency Diamond \\nCredit Card”, both of which are subject to the Credit Card Terms as amended from time to time.  \\n6. Effective 1 January 2023, this standard charge applies to any Credit Card account if account holders receive one or more paper \\nstatement(s) anytime during a calendar year. The following group of customers will be exempt from the annual fee: aged below 18 \\nor 65 and above, recipients of Government’s Comprehensive Social Security Allowance, recipients of Government’s Disability \\nAllowance and the physically disabled or visually impaired. \\n \\nThe English version of this Key Facts Statement prevails to the extent of any inconsistency between the English and the Chinese \\nversions. Any Chinese version of this Key Facts Statement is for reference only.  \\n \\n \\n \\n \\n \\n \\n \\n \\n \\n \\n \\n \\n \\n由香港上海滙豐銀行有限公司刊發  \\nIssued by The Hongkong and Shanghai Banking Corporation Limited                                                                                                 \\nAnnual Paper \\nStatement Fee6 \\nEffective 1 January 2023, if you choose to receive paper statement, we may charge an annual fee to listed \\nbelow per customer for each calendar year:  \\n• HK dollar personal credit cards — HKD60;  \\n• US$ Visa Gold cards — USD8. \\nIllustrative Table For Minimum Payment \\nCPD265R17 W \\n                                                   \\nPage 4/4'),\n",
       " Document(metadata={'producer': 'Microsoft® Word for Microsoft 365', 'creator': 'Microsoft® Word for Microsoft 365', 'creationdate': '2024-10-18T14:40:05+08:00', 'msip_label_3486a02c-2dfb-4efe-823f-aa2d1f0e6ab7_enabled': 'true', 'msip_label_3486a02c-2dfb-4efe-823f-aa2d1f0e6ab7_setdate': '2024-10-08T15:56:53Z', 'msip_label_3486a02c-2dfb-4efe-823f-aa2d1f0e6ab7_method': 'Privileged', 'msip_label_3486a02c-2dfb-4efe-823f-aa2d1f0e6ab7_name': 'CLAPUBLIC', 'msip_label_3486a02c-2dfb-4efe-823f-aa2d1f0e6ab7_siteid': 'e0fd434d-ba64-497b-90d2-859c472e1a92', 'msip_label_3486a02c-2dfb-4efe-823f-aa2d1f0e6ab7_actionid': '8c75c534-6cc7-4fbb-8718-2dcd08b8899b', 'msip_label_3486a02c-2dfb-4efe-823f-aa2d1f0e6ab7_contentbits': '2', 'title': 'Key Fact Statement', 'author': 'jason.c.f.chow@hsbc.com.hk', 'subject': 'Key Fact Statement', 'keywords': 'RESTRICTED -', 'moddate': '2024-10-18T14:40:05+08:00', 'source': 'docs/key-fact-statement.pdf', 'total_pages': 9, 'page': 4, 'page_label': '5'}, page_content='香港上海滙豐銀行有限公司（「本行」） \\n信用卡資料概要 \\n詳情建議閣下參閱「滙豐財富管理及個人銀行業務服務費用簡介」及閣下信用卡的信用卡條款。  \\n信用卡 \\n2024 年 11 月 \\n利息及財務費用  \\n購物簽賬的實際年\\n利率 1  \\n當閣下開立閣下的信用卡戶口時為 35.42%，而本行會不時作出檢討。  \\n• 如本行在到期日或該日前收到結單結欠的全數金額，閣下無需就結單結欠繳付任何財務費\\n用。  \\n• 如閣下在到期日或該日前未有繳付結單結欠的全數金額，本行可能（在不另行通知的情況\\n下）徵收財務費用，即使閣下已全數繳付最低付款額。財務費用就下列金額徵收：  \\n(a) 未清還結單結欠（由緊接到期日前的結單日起至本行收到全數金額為止）；及  \\n(b) 自該結單日起被誌入閣下信用卡戶口的每項新交易金額（由交易日期起至本行收到全數\\n金額為止）。  \\n• 財務費用按日累算並按每月 2.65% 利率計算（即上列的實際年利率）。  \\n現金貸款的實際年\\n利率 1  \\n當閣下開立閣下的信用卡戶口時為 35.94%（已包括現金貸款費及手續費），而本行會不時\\n作出檢討。  \\n• 如本行在到期日或該日前收到結單結欠的全數金額，閣下無需就結單結欠繳付任何財務費\\n用。  \\n• 如閣下在到期日或該日前未有繳付結單結欠的全數金額，本行可能（在不另行通知的情況\\n下）徵收財務費用，即使閣下已全數繳付最低付款額。財務費用就下列金額徵收：  \\n(a) 未清還結單結欠（由緊接到期日前的結單日起至本行收到全數金額為止）；及  \\n(b) 自該結單日起被誌入閣下信用卡戶口的每項新交易金額（由交易日期起至本行收到全數\\n金額為止）。  \\n• 財務費用按日累算並按每月 2.65% 利率計算（即上列的實際年利率）。  \\n備註：  \\n1. 請留意本行並沒有委託任何第三方轉介信用卡申請亦不會辦理任何由第三方在有利益安排\\n下轉介的信用卡申請。如有查詢，請致電熱線 2233 3000。若您是滙豐卓越理財客戶，歡\\n迎致電滙豐卓越理財服務熱線 2233 3322 查詢有關詳情。  \\n2. 現金貸款交易的利息在結單截止日後仍會累積，應計利息只會在下一張結單中計算並顯\\n示，如您打算繳付全數利息，您可以聯絡我們以確定本次結單截止後的應計利息金額。如\\n有查詢，請致電熱線 2233 3000。若您是滙豐卓越理財客戶，歡迎致電滙豐卓越理財服務\\n熱線 2233 3322 。 \\n3. 借定唔借？還得到先好借！ \\nCPD265R17 W \\n                                                               \\n頁次 1/5'),\n",
       " Document(metadata={'producer': 'Microsoft® Word for Microsoft 365', 'creator': 'Microsoft® Word for Microsoft 365', 'creationdate': '2024-10-18T14:40:05+08:00', 'msip_label_3486a02c-2dfb-4efe-823f-aa2d1f0e6ab7_enabled': 'true', 'msip_label_3486a02c-2dfb-4efe-823f-aa2d1f0e6ab7_setdate': '2024-10-08T15:56:53Z', 'msip_label_3486a02c-2dfb-4efe-823f-aa2d1f0e6ab7_method': 'Privileged', 'msip_label_3486a02c-2dfb-4efe-823f-aa2d1f0e6ab7_name': 'CLAPUBLIC', 'msip_label_3486a02c-2dfb-4efe-823f-aa2d1f0e6ab7_siteid': 'e0fd434d-ba64-497b-90d2-859c472e1a92', 'msip_label_3486a02c-2dfb-4efe-823f-aa2d1f0e6ab7_actionid': '8c75c534-6cc7-4fbb-8718-2dcd08b8899b', 'msip_label_3486a02c-2dfb-4efe-823f-aa2d1f0e6ab7_contentbits': '2', 'title': 'Key Fact Statement', 'author': 'jason.c.f.chow@hsbc.com.hk', 'subject': 'Key Fact Statement', 'keywords': 'RESTRICTED -', 'moddate': '2024-10-18T14:40:05+08:00', 'source': 'docs/key-fact-statement.pdf', 'total_pages': 9, 'page': 5, 'page_label': '6'}, page_content='PUBLIC \\n拖欠款項的實際年\\n利率  \\n不適用  \\n免息還款期  長達 56 日 \\n最低付款額  信用卡種類  最低付款額  \\n滙豐卓越理財萬事達卡 ／滙豐 Red 信用卡\\n／滙豐 Visa Signature 卡 ／滙豐 EveryMile \\n信用卡 ／Visa 白金卡（包括 green 信用\\n卡）／滙財金卡 ／萬事達金卡 ／滙財卡  \\n／萬事達卡 ／iCAN 卡  \\n(i) (a) 當期誌入結單的所有費用及收費，加上\\n結單日結單結欠（扣除當期誌入的任何費用\\n及收費）的 1%，或 (b) 300 港元，以較高\\n者為準；加上  \\n(ii) 過期款項或超額款項，即上期結單的逾期最\\n低付款額或超出閣下信用卡的信用限額的金\\n額，以較高者為準。  \\n滙豐 Pulse 銀聯雙幣鑽石卡 5 ／銀聯雙幣卡  (i) (a) 當期誌入港幣子戶口／人民幣子戶口的所\\n有費用及收費，加上結單日各子戶口的結單\\n結欠（不包括當期誌入的任何費用及收費）\\n的 1%，或 (b) 300 港元（港幣子戶 口）／\\n300 元人民幣（人民幣子戶口），以較高者\\n為準；加上  \\n(ii) 各子戶口過期款項或超額款項，即上期結單\\n的逾期最低付款額或超出閣下信用卡的信用\\n限額的金額，以較高者為準。  \\n美元滙財金卡  相當於結單結欠的全部款項  \\n 費用  \\n年費  \\n \\n \\n \\n \\n \\n \\n \\n \\n \\n \\n \\n \\n \\n \\n \\n \\n \\n \\n \\n \\n \\n基本卡及附屬卡的年費如下：  \\n信用卡種類 2   基本卡   附屬卡（獨立戶口）  附屬卡（綜合戶口）  \\n港元個人信用卡  \\n滙豐卓越理財萬事達卡   永久豁免   不適用   永久豁免  \\n滙豐 Red 信用卡   永久豁免   不適用   永久豁免  \\n滙豐 Visa Signature 卡   2,000 港元   不適用   1,000 港元  \\n滙豐 EveryMile 信用卡 3  2,000 港元  不適用   不適用  \\nVisa 白金卡（包括  \\ngreen 信用卡）  \\n 1,800 港元   不適用   900 港元  \\n滙財金卡 ／萬事達金卡   600 港元   600 港元   300 港元  \\n滙財卡 ／萬事達卡   300 港元   300 港元   150 港元  \\n iCAN 卡   300 港元   不適用   不適用  \\n外幣信用卡 \\n美元滙財金卡   80 美元   80 美元   40 美元 \\nCPD265R17 W \\n                                                               \\n頁次 2/5'),\n",
       " Document(metadata={'producer': 'Microsoft® Word for Microsoft 365', 'creator': 'Microsoft® Word for Microsoft 365', 'creationdate': '2024-10-18T14:40:05+08:00', 'msip_label_3486a02c-2dfb-4efe-823f-aa2d1f0e6ab7_enabled': 'true', 'msip_label_3486a02c-2dfb-4efe-823f-aa2d1f0e6ab7_setdate': '2024-10-08T15:56:53Z', 'msip_label_3486a02c-2dfb-4efe-823f-aa2d1f0e6ab7_method': 'Privileged', 'msip_label_3486a02c-2dfb-4efe-823f-aa2d1f0e6ab7_name': 'CLAPUBLIC', 'msip_label_3486a02c-2dfb-4efe-823f-aa2d1f0e6ab7_siteid': 'e0fd434d-ba64-497b-90d2-859c472e1a92', 'msip_label_3486a02c-2dfb-4efe-823f-aa2d1f0e6ab7_actionid': '8c75c534-6cc7-4fbb-8718-2dcd08b8899b', 'msip_label_3486a02c-2dfb-4efe-823f-aa2d1f0e6ab7_contentbits': '2', 'title': 'Key Fact Statement', 'author': 'jason.c.f.chow@hsbc.com.hk', 'subject': 'Key Fact Statement', 'keywords': 'RESTRICTED -', 'moddate': '2024-10-18T14:40:05+08:00', 'source': 'docs/key-fact-statement.pdf', 'total_pages': 9, 'page': 6, 'page_label': '7'}, page_content='PUBLIC \\n銀聯雙幣信用卡  \\n滙豐 Pulse 銀聯雙幣鑽\\n石卡 5  \\n  1,800 港元   不適用    900 港元  \\n銀聯雙幣卡    300 港元   不適用    150 港元 \\n現金貸款費及手續費  就每項現金貸款交易，本行會在現金貸款當日收取現金貸款額 1% 的手續費，但須受限於下列\\n最低收費：  \\n• 於櫃枱提取現金貸款：港元個人信用卡 – 120 港元；美元滙財金卡 – 10 美元；銀聯雙幣信\\n用卡 – 不適用  \\n• 於自動櫃員機或透過任何其他渠道提取現金貸款：港元個人信用卡 – 100 港元；美元滙財\\n金卡 – 7 美元；銀聯雙幣信用卡 – 港幣子戶口：100 港元／人民幣子戶口： 100 元人民幣   \\n繳付賬單手續費 \\n（適用於向金融機\\n構繳付賬單） \\n繳費額之 1%（每次交易）（最低為港幣 120 元） \\n 外幣交易費4  就港元個人信用卡及美元滙財金卡：  \\n就每項非港元（就港元個人信用卡）或非美元（就美元滙財金卡）進行的信用卡交易，會徵收\\n交易金額的 1.95%。  \\n就銀聯雙幣信用卡：  \\n就每項非港元／澳門幣／人民幣（就滙豐 Pulse 銀聯雙幣鑽石信用卡 5）或非港元／人民幣 \\n（就銀聯雙幣信用卡）進行的信用卡交易，所用外幣匯率已包括交易金額 1%的手續費。  \\n以信用卡貨幣支付\\n外幣簽賬的有關費\\n用  \\n客戶在外地消費時，有時候可選擇以信用卡貨幣支付外幣簽賬。此選項屬海外商戶的直接安   \\n排，而非由信用卡發卡機構提供。客戶應於簽賬前向該商戶查詢有關匯率及手續費的詳情，  \\n因為以信用卡貨幣支付外幣簽賬，所涉及的費用可能會較以外幣簽賬的有關費用為高。相關手\\n續費並非由信用卡發卡機構收取。 \\n \\n如您選擇在香港以外或在非香港註冊的商戶（例如網上簽賬）以港元進行的信用卡交易（包括\\n退款），我們會在相關交易誌賬當日代 Visa/Mastercard International 收取下列金額的交易徵\\n費。交易徵費適用於由您及/或商戶發起的交易，並取決於商戶的設定。 \\n \\n就港元個人Visa 及萬事達卡信用卡: \\n就每項在香港以外或在非香港註冊的商戶以港元進行的信用卡交易，會徵收交易金額的 1 %。 \\n \\n就銀聯雙幣信用卡及美元滙財金卡： \\n不適用 \\n \\n 逾期費用  如閣下在到期日或該日前未有全數繳付最低付款額，除財務費用外本行可能（在不另行通知  的\\n情況下）徵收逾期費用。逾期費用為最低付款額或下列金額，以較低者為準：  \\n• 港元個人信用卡 – 300 港元  \\n• 銀聯雙幣信用卡 – 港幣子戶口: 300 港元 / 人民幣子戶口: 300 元人民幣  \\n• 美元滙財金卡 – 不適用  \\nCPD265R17 W \\n                                                               \\n頁次 3/5'),\n",
       " Document(metadata={'producer': 'Microsoft® Word for Microsoft 365', 'creator': 'Microsoft® Word for Microsoft 365', 'creationdate': '2024-10-18T14:40:05+08:00', 'msip_label_3486a02c-2dfb-4efe-823f-aa2d1f0e6ab7_enabled': 'true', 'msip_label_3486a02c-2dfb-4efe-823f-aa2d1f0e6ab7_setdate': '2024-10-08T15:56:53Z', 'msip_label_3486a02c-2dfb-4efe-823f-aa2d1f0e6ab7_method': 'Privileged', 'msip_label_3486a02c-2dfb-4efe-823f-aa2d1f0e6ab7_name': 'CLAPUBLIC', 'msip_label_3486a02c-2dfb-4efe-823f-aa2d1f0e6ab7_siteid': 'e0fd434d-ba64-497b-90d2-859c472e1a92', 'msip_label_3486a02c-2dfb-4efe-823f-aa2d1f0e6ab7_actionid': '8c75c534-6cc7-4fbb-8718-2dcd08b8899b', 'msip_label_3486a02c-2dfb-4efe-823f-aa2d1f0e6ab7_contentbits': '2', 'title': 'Key Fact Statement', 'author': 'jason.c.f.chow@hsbc.com.hk', 'subject': 'Key Fact Statement', 'keywords': 'RESTRICTED -', 'moddate': '2024-10-18T14:40:05+08:00', 'source': 'docs/key-fact-statement.pdf', 'total_pages': 9, 'page': 7, 'page_label': '8'}, page_content='PUBLIC \\n超出信用限額手續\\n費   \\n  (就每結賬周期)  \\n如果結單結欠（扣除當時已記入您信用卡戶口的所有費用及收費）超出您信用卡的信用限額，\\n而您曾接受超出信用限額信貸安排，我們可向您收取下列超出信用限額信貸手續費（包括例外\\n信用卡交易）。如您並沒有接受超出信用限額信貸安排，我們只能就某些例外信用卡交易（包\\n括無需本行授權而可進行的交易及獲批核但延遲誌賬的交易）收取超出信用限額手續費。  \\n• 滙豐卓越理財信用卡 – 90 港元；  \\n• 其他港元個人信用卡 – 180 港元；  \\n• 美元滙財金卡 – 24 美元；  \\n• 銀聯雙幣信用卡 – 港幣子戶口：180 港元／人民幣子戶口： 180 元人民幣 \\n退票／自動繳費退回\\n手續費  \\n如支票或自動繳費並非從在本行開立的戶口支取，而支票或自動繳費被退回，本行將視之為 \\n閣下臨時要求本行提供的特別服務及可能（在不另行通知的情況下）徵收下列有關的手續費：  \\n• 港元個人信用卡 – 100 港元  \\n• 美元滙財金卡 – 13 美元  \\n• 銀聯雙幣信用卡 – 港幣子戶口：100 港元／人民幣子戶口：100 元人民幣  \\n郵寄結單服務年費6 由 2023 年 1 月 1 日起，如您選擇接收郵寄結單，本行可能會在每年向每位客戶收取以下年費:  \\n•     港元個人信用卡 – 60 港元  \\n•     美元滙財金卡 – 8 美元 \\n  \\nCPD265R17 W \\n                                                               \\n頁次 4/5'),\n",
       " Document(metadata={'producer': 'Microsoft® Word for Microsoft 365', 'creator': 'Microsoft® Word for Microsoft 365', 'creationdate': '2024-10-18T14:40:05+08:00', 'msip_label_3486a02c-2dfb-4efe-823f-aa2d1f0e6ab7_enabled': 'true', 'msip_label_3486a02c-2dfb-4efe-823f-aa2d1f0e6ab7_setdate': '2024-10-08T15:56:53Z', 'msip_label_3486a02c-2dfb-4efe-823f-aa2d1f0e6ab7_method': 'Privileged', 'msip_label_3486a02c-2dfb-4efe-823f-aa2d1f0e6ab7_name': 'CLAPUBLIC', 'msip_label_3486a02c-2dfb-4efe-823f-aa2d1f0e6ab7_siteid': 'e0fd434d-ba64-497b-90d2-859c472e1a92', 'msip_label_3486a02c-2dfb-4efe-823f-aa2d1f0e6ab7_actionid': '8c75c534-6cc7-4fbb-8718-2dcd08b8899b', 'msip_label_3486a02c-2dfb-4efe-823f-aa2d1f0e6ab7_contentbits': '2', 'title': 'Key Fact Statement', 'author': 'jason.c.f.chow@hsbc.com.hk', 'subject': 'Key Fact Statement', 'keywords': 'RESTRICTED -', 'moddate': '2024-10-18T14:40:05+08:00', 'source': 'docs/key-fact-statement.pdf', 'total_pages': 9, 'page': 8, 'page_label': '9'}, page_content='PUBLIC \\n \\n假設: \\n• 結欠為港幣 20,000 元 \\n• 利率: 每月 2.65%（相當於購物簽賬的實際年利率為 35.42%，而現金借貸的實際年利率為 35.94%） \\n• 假設沒有新交易 \\n• 假設沒有年費和其他費用 \\n• 結單日期後第 26 日到期還款並假設於到期日或之前還款 \\n \\n以下例子只供參考，但必須乎合上述的假設。如要計算適用於閣下特定情況的上述資料，您可透過本行網站上的信用卡\\n還款計算機 [香港滙豐網站 > 借貸 > 使用您的信用卡 - 查看全部 > 信用卡還款計算機或到 https://www.hsbc.com.hk/zh-\\nhk/credit-cards/tools/repayment-calculator/] 並輸入總結欠銀碼，以取得較準確的資料。 \\n \\n假設您的信用卡沒有額外收費，而每\\n個月繳付… \\n您償還港幣 20,000 元的欠款約需… 及預計需繳付之總額為… \\n只支付最低還款額 11.5 年 港幣 57,850 元 \\n港幣 869 元 3 年 港幣 31,279 元 \\n(節省金額 =港幣 26,570 元) \\n \\n \\n註：  \\n1. 實際年利率乃根據銀行營運守則提及的有關指引所列的一套準則計算，與實際適用於閣下信用卡戶口的實際年利率或有差異。美元滙\\n財金卡須全數繳付結單結欠金額，實際年利率（按假設每月只清還當時結欠的 1%及當期月結單誌入的所有費用計算）僅供參考。  \\n2. 本行會豁免任何優惠卡的入會費。  \\n3. 滙豐 EveryMile 信用卡的年費為港幣 2,000 元。本行可自行決定更改或豁免年費。如該年度滙豐 EveryMile 信用卡的簽賬達指定金\\n額，下年度則可獲享年費豁免。詳情請瀏覽 hsbc.com.hk/everymile。 \\n4. 適用於港元個人信用卡及美元滙財金卡的外幣交易費已包含 Visa/ 萬事達卡國際組織向本行收取之 1% 交易徵費。  \\n5. 「滙豐 Pulse 銀聯雙幣鑽石信用卡」原為「滙豐銀聯雙幣鑽石信用卡」，兩者均受按本行不時修改之信用卡條款所約束。 \\n6. 由 2023 年1 月1 日開始，郵寄結單年費適用於客戶選擇以郵寄方式收取結單的任何信用卡戶口。如客戶持有有關戶口並於同一年度\\n內收取任何郵寄結單將會被徵收年費。18 歲以下或年滿 65 歲或以上之人士、綜合社會保障援助受助人、政府傷殘津貼受助人、身體\\n傷殘或視覺有障礙之人士可獲豁免收費。  \\n本資料概要的英文及中文版本如有任何不一致，概以英文版本為準。本資料概要的任何中文版本僅供參考。  \\n \\n \\n \\n \\n \\n \\n \\n \\n \\n \\n \\n由香港上海滙豐銀行有限公司刊發  \\nIssued by The Hongkong and Shanghai Banking Corporation Limited                                                                                                      頁次 5/5 \\n最低還款額說明表 \\nCPD265R17 W CPD265R17 W')]"
      ]
     },
     "execution_count": 1,
     "metadata": {},
     "output_type": "execute_result"
    }
   ],
   "source": [
    "from langchain_community.document_loaders import PyPDFLoader \n",
    "\n",
    "# PDF Based Document Loader\n",
    "pdf_loader = PyPDFLoader(r'docs/key-fact-statement.pdf')\n",
    "docs = pdf_loader.load()\n",
    "docs"
   ]
  },
  {
   "cell_type": "code",
   "execution_count": 44,
   "id": "f91f1542",
   "metadata": {},
   "outputs": [],
   "source": [
    "from langchain_text_splitters import RecursiveCharacterTextSplitter, CharacterTextSplitter, HTMLHeaderTextSplitter, RecursiveJsonSplitter\n",
    "\n",
    "# Recursive Text Splitter split text based on \\n \\n\\n \" \" ,\"\" This helps to split takes so that symanticity is maintained between splitted texts.\n",
    "# Character Text Splitter split based based on user provided seperator. Chunk size is measured by number of characters\n",
    "# HTML text spliiter splits text based on HTML element. It is context aware meaning it will group together chunks of text which are semantically related "
   ]
  },
  {
   "cell_type": "code",
   "execution_count": 15,
   "id": "c091c0b5",
   "metadata": {},
   "outputs": [],
   "source": [
    "text_splitter = RecursiveCharacterTextSplitter(chunk_size = 500, chunk_overlap = 50 )\n",
    "# divide document into 500 text size and overalap of 50 characters\n",
    "\n",
    "final_docs = text_splitter.split_documents(docs)"
   ]
  },
  {
   "cell_type": "code",
   "execution_count": 16,
   "id": "175817e6",
   "metadata": {},
   "outputs": [
    {
     "name": "stdout",
     "output_type": "stream",
     "text": [
      "page_content='PUBLIC \n",
      "The Hongkong and Shanghai Banking Corporation Limited (“we”, “us” or “our”)  \n",
      "KEY FACTS STATEMENT FOR CREDIT CARDS \n",
      "You are advised to refer to the “Bank tariff guide for HSBC Wealth and Personal Banking Customers” and the Credit Card Terms for \n",
      "your credit card for more details.  \n",
      "Credit Cards \n",
      "November 2024 \n",
      " \n",
      "Interest Rates and Finance Charges  \n",
      "Annualised   \n",
      "Percentage Rate   \n",
      "(APR) for  \n",
      "Purchase1  \n",
      "35.42% when you open your account and it will be reviewed from time to time.' metadata={'producer': 'Microsoft® Word for Microsoft 365', 'creator': 'Microsoft® Word for Microsoft 365', 'creationdate': '2024-10-18T14:40:05+08:00', 'msip_label_3486a02c-2dfb-4efe-823f-aa2d1f0e6ab7_enabled': 'true', 'msip_label_3486a02c-2dfb-4efe-823f-aa2d1f0e6ab7_setdate': '2024-10-08T15:56:53Z', 'msip_label_3486a02c-2dfb-4efe-823f-aa2d1f0e6ab7_method': 'Privileged', 'msip_label_3486a02c-2dfb-4efe-823f-aa2d1f0e6ab7_name': 'CLAPUBLIC', 'msip_label_3486a02c-2dfb-4efe-823f-aa2d1f0e6ab7_siteid': 'e0fd434d-ba64-497b-90d2-859c472e1a92', 'msip_label_3486a02c-2dfb-4efe-823f-aa2d1f0e6ab7_actionid': '8c75c534-6cc7-4fbb-8718-2dcd08b8899b', 'msip_label_3486a02c-2dfb-4efe-823f-aa2d1f0e6ab7_contentbits': '2', 'title': 'Key Fact Statement', 'author': 'jason.c.f.chow@hsbc.com.hk', 'subject': 'Key Fact Statement', 'keywords': 'RESTRICTED -', 'moddate': '2024-10-18T14:40:05+08:00', 'source': 'docs/key-fact-statement.pdf', 'total_pages': 9, 'page': 0, 'page_label': '1'}\n"
     ]
    }
   ],
   "source": [
    "print(final_docs[0])"
   ]
  },
  {
   "cell_type": "code",
   "execution_count": 17,
   "id": "4864c35a",
   "metadata": {},
   "outputs": [
    {
     "name": "stdout",
     "output_type": "stream",
     "text": [
      "page_content='• If we receive payment of the statement balance in full on or before the payment due date, you do not have to \n",
      "pay any finance charge on that statement balance.  \n",
      "• If you do not pay the statement balance in full on or before the payment due date, we may charge, without \n",
      "prior notice, a finance charge even if you have paid the minimum payment due in full. The finance charge is \n",
      "imposed on:  \n",
      "(a) the unpaid statement balance, from the statement date immediately preceding the payment due date' metadata={'producer': 'Microsoft® Word for Microsoft 365', 'creator': 'Microsoft® Word for Microsoft 365', 'creationdate': '2024-10-18T14:40:05+08:00', 'msip_label_3486a02c-2dfb-4efe-823f-aa2d1f0e6ab7_enabled': 'true', 'msip_label_3486a02c-2dfb-4efe-823f-aa2d1f0e6ab7_setdate': '2024-10-08T15:56:53Z', 'msip_label_3486a02c-2dfb-4efe-823f-aa2d1f0e6ab7_method': 'Privileged', 'msip_label_3486a02c-2dfb-4efe-823f-aa2d1f0e6ab7_name': 'CLAPUBLIC', 'msip_label_3486a02c-2dfb-4efe-823f-aa2d1f0e6ab7_siteid': 'e0fd434d-ba64-497b-90d2-859c472e1a92', 'msip_label_3486a02c-2dfb-4efe-823f-aa2d1f0e6ab7_actionid': '8c75c534-6cc7-4fbb-8718-2dcd08b8899b', 'msip_label_3486a02c-2dfb-4efe-823f-aa2d1f0e6ab7_contentbits': '2', 'title': 'Key Fact Statement', 'author': 'jason.c.f.chow@hsbc.com.hk', 'subject': 'Key Fact Statement', 'keywords': 'RESTRICTED -', 'moddate': '2024-10-18T14:40:05+08:00', 'source': 'docs/key-fact-statement.pdf', 'total_pages': 9, 'page': 0, 'page_label': '1'}\n"
     ]
    }
   ],
   "source": [
    "print(final_docs[1])"
   ]
  },
  {
   "cell_type": "code",
   "execution_count": 34,
   "id": "e27811a1",
   "metadata": {},
   "outputs": [],
   "source": [
    "text_splitter = CharacterTextSplitter(separator=\"\",chunk_size = 500, chunk_overlap = 50 )\n",
    "# divide document into 500 text size and overalap of 50 characters\n",
    "\n",
    "final_docs = text_splitter.split_documents(docs)"
   ]
  },
  {
   "cell_type": "code",
   "execution_count": 35,
   "id": "05b72f1b",
   "metadata": {},
   "outputs": [
    {
     "name": "stdout",
     "output_type": "stream",
     "text": [
      "and it will be reviewed from time to time.  \n",
      "• If we receive payment of the statement balance in full on or before the payment due date, you do not have to \n",
      "pay any finance charge on that statement balance.  \n",
      "• If you do not pay the statement balance in full on or before the payment due date, we may charge, without \n",
      "prior notice, a finance charge even if you have paid the minimum payment due in full. The finance charge is \n",
      "imposed on:  \n",
      "(a) the unpaid statement balance, from the statement date i\n"
     ]
    }
   ],
   "source": [
    "print(final_docs[1].page_content)"
   ]
  },
  {
   "cell_type": "code",
   "execution_count": 36,
   "id": "a14632c8",
   "metadata": {},
   "outputs": [
    {
     "name": "stdout",
     "output_type": "stream",
     "text": [
      "PUBLIC \n",
      "The Hongkong and Shanghai Banking Corporation Limited (“we”, “us” or “our”)  \n",
      "KEY FACTS STATEMENT FOR CREDIT CARDS \n",
      "You are advised to refer to the “Bank tariff guide for HSBC Wealth and Personal Banking Customers” and the Credit Card Terms for \n",
      "your credit card for more details.  \n",
      "Credit Cards \n",
      "November 2024 \n",
      " \n",
      "Interest Rates and Finance Charges  \n",
      "Annualised   \n",
      "Percentage Rate   \n",
      "(APR) for  \n",
      "Purchase1  \n",
      "35.42% when you open your account and it will be reviewed from time to time.  \n",
      "• If\n"
     ]
    }
   ],
   "source": [
    "print(final_docs[0].page_content)"
   ]
  },
  {
   "cell_type": "code",
   "execution_count": null,
   "id": "fad434f3",
   "metadata": {},
   "outputs": [],
   "source": [
    "# as you can see a text overlap was noted"
   ]
  },
  {
   "cell_type": "code",
   "execution_count": 42,
   "id": "992ea352",
   "metadata": {},
   "outputs": [],
   "source": [
    "url = \"https://www.hsbc.com.hk/credit-cards/apply/\"\n",
    "header_2_spit_on = [('h1', 'header1'), ('h2', 'header2') , ('h3', 'header3'), ('h4', 'header4')]"
   ]
  },
  {
   "cell_type": "code",
   "execution_count": 43,
   "id": "97924768",
   "metadata": {},
   "outputs": [
    {
     "data": {
      "text/plain": [
       "[Document(metadata={}, page_content='window.modalsConfiguration = {\"globalWhitelist\":[\"https://play.google.com/store/apps/details?id\\\\u003dhk.com.hsbc.hsbchkmobilebanking\\\\u0026referrer\\\\u003dutm_source%3DM_SB_PWS_HPS_E\",\"https://itunes.apple.com/app/apple-store/id1164066737?pt\\\\u003d118152957\\\\u0026ct\\\\u003dM_SB_PWS_HPS_E\\\\u0026mt\\\\u003d8\"],\"modals\":{\"/content/hsbc/hk/en_hk/configuration/modals/you-are-leaving-our-website\":{\"modalUrl\":\"/configuration/modals/you-are-leaving-our-website.modal/\",\"whitelist\":[\"*hsbc.com.hk*\",\"*www.hsbc.com.hk*\",\"*www.commercial.hsbc.com.hk*\",\"*www.services.online-banking.hsbc.com.hk*\",\"*www.ebanking.hsbc.com.hk*\",\"*www.personal.hsbc.com.hk*\",\"*payme.hsbc.com.hk*\",\"*www.redhotoffers.hsbc.com.hk*\",\"*www.warrants.hsbc.com.hk*\",\"*insights.hsbc.com.hk*\",\"*www.personal.ebanking.hsbc.com.hk*\",\"*retailbank.hsbc.com.hk*\",\"*www.business.hsbc.com.hk*\",\"*www.broking.hsbc.com.hk*\",\"*www.about.hsbc.com.hk*\",\"*www.gbm.hsbc.com*\",\"*www.hsbcprivatebank.com*\",\"*www.hsbcnet.com*\",\"*www.expatexplorer.hsbc.com*\",\"*www.payme.hsbc.com.hk*\",\"*www1.member-hsbc-group.com*\",\"*www.digitalcounterservices.hsbc.com.hk*\",\"*www.hsbc.com*\",\"*www.homeandaway.hsbc.com*\",\"*www.iccmap.hsbc.com.hk*\",\"*www.etf.hsbc.com*\",\"*hsss.hsbc.co.uk*\",\"*www.hsbcadvance.com*\",\"*financialplanningpublic.hk.personal-banking.hsbc.com*\",\"*mi.hsbc.com.hk*\",\"*www.stock.express.hsbc.com.hk*\",\"*www.hsbc.gr*\",\"*www.fatca.hsbc.com*\",\"*www.crs.hsbc.com*\",\"*www1.ebanking.hsbc.com.hk*\",\"*fatca.hsbc.com*\",\"*www.hsbcpremier.com*\",\"*www.assetmanagement.hsbc.com*\",\"*hsbc.mobi*\",\"*www.hsbcpremierlocator.com*\",\"*www.hkinfo.assetmanagement.hsbc.com*\",\"*www.ebroking.hsbc.com.hk*\",\"*www.hsbc.com.au*\",\"*www.hsbc.com.tw*\",\"*www.banking.hsbc.com.hk*\",\"*insurance.hsbc.com.hk*\",\"*www.hsbc.ae*\",\"*www.offshore.hsbc.com*\",\"*www.hsbc.com.sg*\",\"*www.video.hsbc.com.hk*\",\"*hsbc.com*\",\"*www2.ebanking.hsbc.com.hk*\",\"*www.hsbc.com.cn*\",\"*www.thechinfamily.hk*\",\"*www.axa.com.hk*\",\"*inet.axa.com.hk*\",\"*https://inet.axa.com.hk/B/H/Motor/MotorInsurance?Source\\\\u003dPWS\\\\u0026LangTag\\\\u003dzh\\\\u0026CountryTag\\\\u003dHK\\\\u0026EntityTag\\\\u003dHK *\",\"*https://inet.axa.com.hk/B/H/Motor/MotorInsurance?Source\\\\u003dPWS\\\\u0026LangTag\\\\u003den\\\\u0026CountryTag\\\\u003dHK\\\\u0026EntityTag\\\\u003dHK *\",\"*www.hsbc.ca*\",\"*www.us.hsbc.com*\",\"*internationalservices.hsbc.com*\",\"*www.expat.hsbc.com*\",\"*ebank.pingan.com.cn*\",\"*https://zh.surveymonkey.com/r/VBFYF6W*\",\"*https://bit.ly/3XdvXpF*\",\"*https://bit.ly/MPFRPeoplesChoice24*\",\"*https://zh.surveymonkey.com/r/FLZ9GZJ*\",\"*https://mpfratings.com.hk/2025-peoples-choice/*\"],\"blacklist\":[\"http\",\"https://cyberdefender.hk/scameterplus\"],\"triggerOn\":\"click\",\"logoutOnAction\":false,\"authorizedOnly\":false,\"anonymousOnly\":false,\"enableOnLogonLinks\":false,\"enabled\":true,\"showOnce\":false,\"modalType\":\"genericModal\"},\"/content/hsbc/hk/en_hk/configuration/modals/you-are-leaving-our-website-hsbc\":{\"modalUrl\":\"/configuration/modals/you-are-leaving-our-website-hsbc.modal/\",\"whitelist\":[],\"blacklist\":[\"www.expat.hsbc.com\",\"www.us.hsbc.com\",\"www.hsbc.ca\",\"internationalservices.hsbc.com\"],\"triggerOn\":\"click\",\"logoutOnAction\":false,\"authorizedOnly\":false,\"anonymousOnly\":false,\"enableOnLogonLinks\":false,\"enabled\":true,\"showOnce\":false,\"modalType\":\"genericModal\"},\"/content/hsbc/hk/en_hk/configuration/modals/mpf-survey-modal\":{\"modalUrl\":\"/configuration/modals/mpf-survey-modal.modal/\",\"whitelist\":[],\"blacklist\":[],\"triggerOn\":\"load\",\"logoutOnAction\":false,\"authorizedOnly\":false,\"anonymousOnly\":false,\"enableOnLogonLinks\":false,\"enabled\":true,\"showOnce\":true,\"modalType\":\"genericModal\"},\"/content/hsbc/hk/en_hk/configuration/modals/mpf-scheme-vote\":{\"modalUrl\":\"/configuration/modals/mpf-scheme-vote.modal/\",\"whitelist\":[],\"blacklist\":[\"https://bit.ly/3XdvXpF\"],\"triggerOn\":\"click\",\"logoutOnAction\":false,\"authorizedOnly\":false,\"anonymousOnly\":false,\"enableOnLogonLinks\":false,\"enabled\":true,\"showOnce\":false,\"modalType\":\"genericModal\"},\"/content/hsbc/hk/en_hk/configuration/modals/you-are-leaving-our-website-cn\":{\"modalUrl\":\"/configuration/modals/you-are-leaving-our-website-cn.modal/\",\"whitelist\":[],\"blacklist\":[\"hsbc.com.cn\",\"www.hsbc.com.cn\"],\"triggerOn\":\"click\",\"logoutOnAction\":false,\"authorizedOnly\":false,\"anonymousOnly\":false,\"enableOnLogonLinks\":false,\"enabled\":true,\"showOnce\":false,\"modalType\":\"genericModal\"},\"/content/hsbc/hk/en_hk/configuration/modals/axa-modal\":{\"modalUrl\":\"/configuration/modals/axa-modal.modal/\",\"whitelist\":[],\"blacklist\":[\"https://inet.axa.com.hk/B/H/Motor/MotorInsurance?Source\\\\u003dPWS\\\\u0026LangTag\\\\u003den\\\\u0026CountryTag\\\\u003dHK\\\\u0026EntityTag\\\\u003dHK \",\"https://inet.axa.com.hk/B/H/Motor/MotorInsurance?Source\\\\u003dPWS\\\\u0026LangTag\\\\u003dzh\\\\u0026CountryTag\\\\u003dHK\\\\u0026EntityTag\\\\u003dHK\",\"inet.axa.com.hk\",\"www.axa.com.hk\"],\"triggerOn\":\"click\",\"logoutOnAction\":false,\"authorizedOnly\":false,\"anonymousOnly\":false,\"enableOnLogonLinks\":false,\"enabled\":true,\"showOnce\":false,\"modalType\":\"genericModal\"},\"/content/hsbc/hk/en_hk/configuration/modals/mpf-surveymonkey\":{\"modalUrl\":\"/configuration/modals/mpf-surveymonkey.modal/\",\"whitelist\":[],\"blacklist\":[\"https://zh.surveymonkey.com/r/VBFYF6W\"],\"triggerOn\":\"click\",\"logoutOnAction\":false,\"authorizedOnly\":false,\"anonymousOnly\":false,\"enableOnLogonLinks\":false,\"enabled\":true,\"showOnce\":false,\"modalType\":\"genericModal\"},\"/content/hsbc/hk/en_hk/configuration/modals/mpf-scheme-vote-2024\":{\"modalUrl\":\"/configuration/modals/mpf-scheme-vote-2024.modal/\",\"whitelist\":[],\"blacklist\":[\"https://bit.ly/MPFRPeoplesChoice24\"],\"triggerOn\":\"click\",\"logoutOnAction\":false,\"authorizedOnly\":false,\"anonymousOnly\":false,\"enableOnLogonLinks\":false,\"enabled\":true,\"showOnce\":false,\"modalType\":\"genericModal\"},\"/content/hsbc/hk/en_hk/configuration/modals/mpf-scheme-vote-2025\":{\"modalUrl\":\"/configuration/modals/mpf-scheme-vote-2025.modal/\",\"whitelist\":[],\"blacklist\":[\"https://mpfratings.com.hk/2025-peoples-choice/\"],\"triggerOn\":\"click\",\"logoutOnAction\":false,\"authorizedOnly\":false,\"anonymousOnly\":false,\"enableOnLogonLinks\":false,\"enabled\":true,\"showOnce\":false,\"modalType\":\"genericModal\"},\"/content/hsbc/hk/en_hk/configuration/modals/thechinfamily-modal\":{\"modalUrl\":\"/configuration/modals/thechinfamily-modal.modal/\",\"whitelist\":[],\"blacklist\":[\"www.thechinfamily.hk\"],\"triggerOn\":\"click\",\"logoutOnAction\":false,\"authorizedOnly\":false,\"anonymousOnly\":false,\"enableOnLogonLinks\":false,\"enabled\":true,\"showOnce\":false,\"modalType\":\"genericModal\"},\"/content/hsbc/hk/en_hk/configuration/modals/mpf-surveymonkey-2025\":{\"modalUrl\":\"/configuration/modals/mpf-surveymonkey-2025.modal/\",\"whitelist\":[],\"blacklist\":[\"https://zh.surveymonkey.com/r/FLZ9GZJ\"],\"triggerOn\":\"click\",\"logoutOnAction\":false,\"authorizedOnly\":false,\"anonymousOnly\":false,\"enableOnLogonLinks\":false,\"enabled\":true,\"showOnce\":false,\"modalType\":\"genericModal\"},\"/content/hsbc/hk/en_hk/configuration/modals/dep-mode-modal\":{\"modalUrl\":\"/configuration/modals/dep-mode-modal.modal/\",\"whitelist\":[],\"blacklist\":[\"dep-default-page.dep\"],\"triggerOn\":\"click\",\"logoutOnAction\":false,\"authorizedOnly\":false,\"anonymousOnly\":false,\"enableOnLogonLinks\":false,\"enabled\":true,\"showOnce\":false,\"modalType\":\"pwsModal\"}}};'),\n",
       " Document(metadata={'header2': 'Beware of phishing SMS'}, page_content='Beware of phishing SMS'),\n",
       " Document(metadata={'header2': 'Beware of phishing SMS'}, page_content=\"We'll never send you any hyperlinks asking you to log on to your account or share sensitive personal information. Use the Scameter+ App to verify the SMS information.  \\nWe use cookies to give you the best possible experience on our website. By continuing to browse this site, you give consent for cookies to be used. For more details please read our .  \\nCookie Policy  \\nclose cookie banner  \\nSkip page header and navigation  \\nPersonal  \\nBusiness  \\nGlobal Banking and Markets  \\nGlobal Private Banking  \\nEnglish  \\nList of languages  \\nEnglish  \\nSelected  \\n繁體  \\n简体  \\nLog on  \\nLog off  \\nHSBC Online Banking  \\nRegister for Personal Internet Banking  \\nStock Trading  \\nBusiness Internet Banking  \\nHSBCnet  \\nBanking  \\nAccounts & Services\"),\n",
       " Document(metadata={'header2': 'All-in-One Accounts'}, page_content='All-in-One Accounts'),\n",
       " Document(metadata={'header2': 'All-in-One Accounts'}, page_content='HSBC One  \\nHSBC Premier  \\nHSBC Premier Elite  \\nHSBC Global Private Banking'),\n",
       " Document(metadata={'header2': 'Employee Banking Solutions'}, page_content='Employee Banking Solutions'),\n",
       " Document(metadata={'header2': 'Employee Banking Solutions'}, page_content='See all'),\n",
       " Document(metadata={'header2': 'Deposits'}, page_content='Deposits'),\n",
       " Document(metadata={'header2': 'Deposits'}, page_content='Savings Accounts  \\nTime Deposits  \\nCurrent Accounts'),\n",
       " Document(metadata={'header2': 'Debit Cards'}, page_content='Debit Cards'),\n",
       " Document(metadata={'header2': 'Debit Cards'}, page_content='Global Private Banking Mastercard® Debit Card  \\nMastercard® Debit Card'),\n",
       " Document(metadata={'header2': 'HSBC Mobile Apps'}, page_content='HSBC Mobile Apps'),\n",
       " Document(metadata={'header2': 'HSBC Mobile Apps'}, page_content='HSBC HK App  \\nHSBC Reward+  \\nHSBC HK Easy Invest  \\nPayMe by HSBC  \\nHSBC HK App - Lite Mode'),\n",
       " Document(metadata={'header2': 'Currency & RMB Services'}, page_content='Currency & RMB Services'),\n",
       " Document(metadata={'header2': 'Currency & RMB Services'}, page_content='24-hour Currency Exchange  \\nRenminbi Services  \\nSee all Renminbi Services'),\n",
       " Document(metadata={'header2': 'Budget'}, page_content='Budget'),\n",
       " Document(metadata={'header2': 'Budget'}, page_content='See all'),\n",
       " Document(metadata={'header2': 'Well+'}, page_content='Well+'),\n",
       " Document(metadata={'header2': 'Well+'}, page_content='See all'),\n",
       " Document(metadata={'header2': 'HSBC Finfit'}, page_content='HSBC Finfit'),\n",
       " Document(metadata={'header2': 'HSBC Finfit'}, page_content='See all'),\n",
       " Document(metadata={'header2': 'Services & Payments'}, page_content='Services & Payments'),\n",
       " Document(metadata={'header2': 'Services & Payments'}, page_content='Payments and transfers  \\neCheque Services  \\neStatement and eAdvice'),\n",
       " Document(metadata={'header2': 'MPF'}, page_content='MPF'),\n",
       " Document(metadata={'header2': 'MPF'}, page_content='See all'),\n",
       " Document(metadata={'header2': 'International Services'}, page_content='International Services'),\n",
       " Document(metadata={'header2': 'International Services'}, page_content='Open a Hong Kong account  \\nOpen an overseas account  \\nSee all'),\n",
       " Document(metadata={'header2': 'Greater Bay Area Services'}, page_content='Greater Bay Area Services'),\n",
       " Document(metadata={'header2': 'Greater Bay Area Services'}, page_content='See all'),\n",
       " Document(metadata={'header2': 'Sustainability & Inclusive Banking'}, page_content='Sustainability & Inclusive Banking'),\n",
       " Document(metadata={'header2': 'Sustainability & Inclusive Banking'}, page_content='ESG Hub  \\nCommunity Banking'),\n",
       " Document(metadata={'header2': 'Help and support'}, page_content='Help and support'),\n",
       " Document(metadata={'header2': 'Help and support'}, page_content='Cyber Security and Fraud Hub  \\nAccessibility  \\nView topics'),\n",
       " Document(metadata={'header2': 'Ways to Bank'}, page_content='Ways to Bank'),\n",
       " Document(metadata={}, page_content='The refreshed HSBC HK App  \\nHSBC HK App - Lite Mode  \\nMobile Account Opening  \\nHSBC Online Banking  \\nBranch Banking  \\nExpress Banking  \\nPhone Banking  \\nImportant Notices  \\nFaster Payment System (FPS)  \\nMobile Cash Withdrawal  \\nMobile Cheque Deposit  \\nSee all  \\nBorrowing  \\nCards & Loans'),\n",
       " Document(metadata={'header2': 'Credit Cards'}, page_content='Credit Cards'),\n",
       " Document(metadata={'header2': 'Credit Cards'}, page_content='HSBC EveryMile Credit Card  \\nHSBC Red Credit Card  \\nVisa Signature Card  \\nVisa Platinum Card  \\nPremier MasterCard  \\nHSBC Pulse Dual Currency Card  \\nVisa Gold Card for Students  \\nVisa Gold Card  \\nUnionPay Dual Currency Card  \\nApply for a new credit card  \\nCompare Credit Cards'),\n",
       " Document(metadata={'header2': 'Overdrafts'}, page_content='Overdrafts'),\n",
       " Document(metadata={'header2': 'Overdrafts'}, page_content='See all'),\n",
       " Document(metadata={'header2': 'Use Your Credit Card'}, page_content='Use Your Credit Card'),\n",
       " Document(metadata={'header2': 'Use Your Credit Card'}, page_content='Cards Promotions  \\nHSBC Reward+  \\nMobile Payments  \\nHSBC Virtual Credit Card  \\nOctopus Auto Top-up  \\nCash Advance  \\nSpending Instalment Plan  \\nAll-You-Can-Split  \\nCash Instalment Plan  \\nInterest-free Merchant Instalment Plan  \\nSee all'),\n",
       " Document(metadata={'header2': 'Mortgages'}, page_content='Mortgages'),\n",
       " Document(metadata={'header2': 'Mortgages'}, page_content='Home Mortgage Loans  \\nHome-related Loans  \\nMortgage Repayment Options  \\nSee all mortgages'),\n",
       " Document(metadata={'header2': 'Loans'}, page_content='Loans'),\n",
       " Document(metadata={'header2': 'Loans'}, page_content='Personal Instalment Loan  \\nPersonal Instalment Loan Redraw  \\nRevolving Credit Facility  \\nBalance Consolidation Program  \\nPersonal Tax Loan  \\nElectric Vehicle Personal Instalment Loan  \\nSmart Tips on Loans  \\nSee all loans'),\n",
       " Document(metadata={'header2': 'Tools & Forms'}, page_content='Tools & Forms'),\n",
       " Document(metadata={}, page_content='Credit Cards Application  \\nAdditional Card Application  \\nLoans Application  \\nSubmit documents for credit/debit cards  \\nSubmit documents for Credit Limit Increase  \\nSubmit documents for Loans  \\nSubmit documents for Cash Instalment Plan  \\nInstant Mortgage Assessment  \\nProperty Valuation Tool  \\nForm and Document Download  \\nInvesting  \\nSecurities & Currency Exchange'),\n",
       " Document(metadata={'header2': 'Wealth Products'}, page_content='Wealth Products'),\n",
       " Document(metadata={'header2': 'Wealth Products'}, page_content='Stocks  \\nUnit Trusts  \\nBonds/CDs  \\nStructured Products  \\nWarrants & CBBCs  \\nLatest IPOs  \\nGold trading services  \\nESG and sustainable investing  \\nHSBC Gold Token  \\nSee all investments'),\n",
       " Document(metadata={'header2': 'Wealth Financing'}, page_content='Wealth Financing'),\n",
       " Document(metadata={'header2': 'Wealth Financing'}, page_content='Wealth Portfolio Lending'),\n",
       " Document(metadata={'header2': 'Wealth Mobile Solutions'}, page_content='Wealth Mobile Solutions'),\n",
       " Document(metadata={'header2': 'Wealth Mobile Solutions'}, page_content='HSBC Top Trader Club  \\nHSBC Trade25  \\nHSBC HK Easy Invest  \\nFlexInvest'),\n",
       " Document(metadata={'header2': 'Currency Exchange'}, page_content='Currency Exchange'),\n",
       " Document(metadata={'header2': 'Currency Exchange'}, page_content='Currency Exchange Rates'),\n",
       " Document(metadata={'header2': 'Start Investing'}, page_content='Start Investing'),\n",
       " Document(metadata={'header2': 'Start Investing'}, page_content='Investment Account Opening  \\nInvestment platform guide'),\n",
       " Document(metadata={'header2': 'Wealth Management'}, page_content='Wealth Management'),\n",
       " Document(metadata={'header2': 'Wealth Management'}, page_content='Hybrid Wealth Management  \\nFuture Planner  \\nRetirement  \\nWealth Portfolio Intelligence Service  \\nCapital Investment Entrant Scheme'),\n",
       " Document(metadata={'header2': 'Wealth Insights'}, page_content='Wealth Insights'),\n",
       " Document(metadata={'header2': 'Wealth Insights'}, page_content='Our House Views'),\n",
       " Document(metadata={'header2': 'Greater Bay Area Services'}, page_content='Greater Bay Area Services'),\n",
       " Document(metadata={'header2': 'Greater Bay Area Services'}, page_content='HSBC GBA Wealth Management Connect'),\n",
       " Document(metadata={'header2': 'Quick Links'}, page_content='Quick Links'),\n",
       " Document(metadata={}, page_content='View my Investments  \\nTrade Stocks Online  \\nBuy Unit Trusts Online  \\nBuy Bonds/CDs Online  \\nExchange Currency Online  \\nOur US dollar best lending rate  \\nOur HK dollar best lending rate  \\nInsurance  \\nProtection & Planning'),\n",
       " Document(metadata={'header2': 'Insurance'}, page_content='Insurance'),\n",
       " Document(metadata={'header2': 'Insurance'}, page_content='Life Protection  \\nSaving & retirement insurance  \\nInvestment-linked insurance  \\nMedical & critical illness insurance  \\nHome & helper insurance  \\nSee all insurance plans'),\n",
       " Document(metadata={'header2': 'Buy Online'}, page_content='Buy Online'),\n",
       " Document(metadata={'header2': 'Buy Online'}, page_content='VHIS Flexi plan  \\nSwift Guard Critical Illness  \\nSwift Save  \\nFamily Protector Term Life  \\nHome contents\\xa0insurance  \\nTravel insurance  \\nSee plans you can buy online'),\n",
       " Document(metadata={'header2': 'More from HSBC Life'}, page_content='More from HSBC Life'),\n",
       " Document(metadata={'header2': 'More from HSBC Life'}, page_content='HSBC Healthpass  \\nWell+  \\nHealthyLife App  \\nORSO  \\nLIFE Talk: insurance guide  \\nAbout HSBC Life'),\n",
       " Document(metadata={'header2': 'Already a customer?'}, page_content='Already a customer?'),\n",
       " Document(metadata={}, page_content='Submit a claim  \\nManage your policy  \\nForms and documents  \\nInvestment performance  \\nImportant information  \\nInsights  \\nAnalysis & Market Data'),\n",
       " Document(metadata={'header2': 'New to Investing'}, page_content='New to Investing'),\n",
       " Document(metadata={'header2': 'New to Investing'}, page_content='Start Investing in 5 Steps  \\nLearn to invest in 7 days  \\nMust-read for Investment Newbies  \\nLearn about Bonds  \\nSet & Reach Goals with HSBC FinFit'),\n",
       " Document(metadata={'header2': 'Advanced Investor'}, page_content='Advanced Investor'),\n",
       " Document(metadata={'header2': 'Advanced Investor'}, page_content='HSBC Investment Views  \\nFX Insights  \\nRegional Investment Opportunities  \\nESG Outlook'),\n",
       " Document(metadata={'header2': 'Wealth Tool'}, page_content='Wealth Tool'),\n",
       " Document(metadata={}, page_content='Browse for Funds  \\nBond/CD Screener  \\nStock Quotes  \\nOffers  \\nLatest Rewards'),\n",
       " Document(metadata={'header2': 'HSBC Latest Offers'}, page_content='HSBC Latest Offers'),\n",
       " Document(metadata={'header2': 'HSBC Latest Offers'}, page_content='See more offers'),\n",
       " Document(metadata={'header2': 'Credit Cards Offers'}, page_content='Credit Cards Offers'),\n",
       " Document(metadata={'header2': 'Credit Cards Offers'}, page_content='Year-round Privileges  \\nRewardCash Rebate  \\nRewards of Your Choice  \\nRewardCash Certificate Scheme  \\nInstant RewardCash redemption at merchants  \\nMileage Programme  \\nSee more'),\n",
       " Document(metadata={'header2': 'Card Financial Flexibility'}, page_content='Card Financial Flexibility'),\n",
       " Document(metadata={'header2': 'Card Financial Flexibility'}, page_content='Spending Instalment Plan  \\nCash Instalment Plan'),\n",
       " Document(metadata={'header2': 'Investment Offers'}, page_content='Investment Offers'),\n",
       " Document(metadata={'header2': 'Investment Offers'}, page_content='Currency Exchange  \\nFlexInvest  \\nSee more'),\n",
       " Document(metadata={'header2': 'Loans Offers'}, page_content='Loans Offers'),\n",
       " Document(metadata={'header2': 'Loans Offers'}, page_content='Personal Instalment Loan'),\n",
       " Document(metadata={'header2': 'Accounts Offers'}, page_content='Accounts Offers'),\n",
       " Document(metadata={'header2': 'Accounts Offers'}, page_content='HSBC Premier Elite  \\nHSBC Premier  \\nHSBC One  \\nDeposits'),\n",
       " Document(metadata={'header2': 'Mortgages Offers'}, page_content='Mortgages Offers'),\n",
       " Document(metadata={'header2': 'Mortgages Offers'}, page_content='HIBOR-based Mortgage'),\n",
       " Document(metadata={'header2': 'Debit Card Offers'}, page_content='Debit Card Offers'),\n",
       " Document(metadata={'header2': 'Debit Card Offers'}, page_content='See more offers'),\n",
       " Document(metadata={'header2': 'Quick Links'}, page_content='Quick Links'),\n",
       " Document(metadata={}, page_content='Form and Document Download  \\nFees & Charges  \\nWebsite Information  \\nMenu  \\nBanking  \\nAccounts & Services'),\n",
       " Document(metadata={'header2': 'All-in-One Accounts'}, page_content='All-in-One Accounts'),\n",
       " Document(metadata={'header2': 'All-in-One Accounts'}, page_content='HSBC One  \\nHSBC Premier  \\nHSBC Premier Elite  \\nHSBC Global Private Banking'),\n",
       " Document(metadata={'header2': 'Employee Banking Solutions'}, page_content='Employee Banking Solutions'),\n",
       " Document(metadata={'header2': 'Employee Banking Solutions'}, page_content='See all'),\n",
       " Document(metadata={'header2': 'Deposits'}, page_content='Deposits'),\n",
       " Document(metadata={'header2': 'Deposits'}, page_content='Savings Accounts  \\nTime Deposits  \\nCurrent Accounts'),\n",
       " Document(metadata={'header2': 'Debit Cards'}, page_content='Debit Cards'),\n",
       " Document(metadata={'header2': 'Debit Cards'}, page_content='Global Private Banking Mastercard® Debit Card  \\nMastercard® Debit Card'),\n",
       " Document(metadata={'header2': 'HSBC Mobile Apps'}, page_content='HSBC Mobile Apps'),\n",
       " Document(metadata={'header2': 'HSBC Mobile Apps'}, page_content='HSBC HK App  \\nHSBC Reward+  \\nHSBC HK Easy Invest  \\nPayMe by HSBC  \\nHSBC HK App - Lite Mode'),\n",
       " Document(metadata={'header2': 'Currency & RMB Services'}, page_content='Currency & RMB Services'),\n",
       " Document(metadata={'header2': 'Currency & RMB Services'}, page_content='24-hour Currency Exchange  \\nRenminbi Services  \\nSee all Renminbi Services'),\n",
       " Document(metadata={'header2': 'Budget'}, page_content='Budget'),\n",
       " Document(metadata={'header2': 'Budget'}, page_content='See all'),\n",
       " Document(metadata={'header2': 'Well+'}, page_content='Well+'),\n",
       " Document(metadata={'header2': 'Well+'}, page_content='See all'),\n",
       " Document(metadata={'header2': 'HSBC Finfit'}, page_content='HSBC Finfit'),\n",
       " Document(metadata={'header2': 'HSBC Finfit'}, page_content='See all'),\n",
       " Document(metadata={'header2': 'Services & Payments'}, page_content='Services & Payments'),\n",
       " Document(metadata={'header2': 'Services & Payments'}, page_content='Payments and transfers  \\neCheque Services  \\neStatement and eAdvice'),\n",
       " Document(metadata={'header2': 'MPF'}, page_content='MPF'),\n",
       " Document(metadata={'header2': 'MPF'}, page_content='See all'),\n",
       " Document(metadata={'header2': 'International Services'}, page_content='International Services'),\n",
       " Document(metadata={'header2': 'International Services'}, page_content='Open a Hong Kong account  \\nOpen an overseas account  \\nSee all'),\n",
       " Document(metadata={'header2': 'Greater Bay Area Services'}, page_content='Greater Bay Area Services'),\n",
       " Document(metadata={'header2': 'Greater Bay Area Services'}, page_content='See all'),\n",
       " Document(metadata={'header2': 'Sustainability & Inclusive Banking'}, page_content='Sustainability & Inclusive Banking'),\n",
       " Document(metadata={'header2': 'Sustainability & Inclusive Banking'}, page_content='ESG Hub  \\nCommunity Banking'),\n",
       " Document(metadata={'header2': 'Help and support'}, page_content='Help and support'),\n",
       " Document(metadata={'header2': 'Help and support'}, page_content='Cyber Security and Fraud Hub  \\nAccessibility  \\nView topics'),\n",
       " Document(metadata={'header2': 'Ways to Bank'}, page_content='Ways to Bank'),\n",
       " Document(metadata={}, page_content='The refreshed HSBC HK App  \\nHSBC HK App - Lite Mode  \\nMobile Account Opening  \\nHSBC Online Banking  \\nBranch Banking  \\nExpress Banking  \\nPhone Banking  \\nImportant Notices  \\nFaster Payment System (FPS)  \\nMobile Cash Withdrawal  \\nMobile Cheque Deposit  \\nSee all  \\nBorrowing  \\nCards & Loans'),\n",
       " Document(metadata={'header2': 'Credit Cards'}, page_content='Credit Cards'),\n",
       " Document(metadata={'header2': 'Credit Cards'}, page_content='HSBC EveryMile Credit Card  \\nHSBC Red Credit Card  \\nVisa Signature Card  \\nVisa Platinum Card  \\nPremier MasterCard  \\nHSBC Pulse Dual Currency Card  \\nVisa Gold Card for Students  \\nVisa Gold Card  \\nUnionPay Dual Currency Card  \\nApply for a new credit card  \\nCompare Credit Cards'),\n",
       " Document(metadata={'header2': 'Overdrafts'}, page_content='Overdrafts'),\n",
       " Document(metadata={'header2': 'Overdrafts'}, page_content='See all'),\n",
       " Document(metadata={'header2': 'Use Your Credit Card'}, page_content='Use Your Credit Card'),\n",
       " Document(metadata={'header2': 'Use Your Credit Card'}, page_content='Cards Promotions  \\nHSBC Reward+  \\nMobile Payments  \\nHSBC Virtual Credit Card  \\nOctopus Auto Top-up  \\nCash Advance  \\nSpending Instalment Plan  \\nAll-You-Can-Split  \\nCash Instalment Plan  \\nInterest-free Merchant Instalment Plan  \\nSee all'),\n",
       " Document(metadata={'header2': 'Mortgages'}, page_content='Mortgages'),\n",
       " Document(metadata={'header2': 'Mortgages'}, page_content='Home Mortgage Loans  \\nHome-related Loans  \\nMortgage Repayment Options  \\nSee all mortgages'),\n",
       " Document(metadata={'header2': 'Loans'}, page_content='Loans'),\n",
       " Document(metadata={'header2': 'Loans'}, page_content='Personal Instalment Loan  \\nPersonal Instalment Loan Redraw  \\nRevolving Credit Facility  \\nBalance Consolidation Program  \\nPersonal Tax Loan  \\nElectric Vehicle Personal Instalment Loan  \\nSmart Tips on Loans  \\nSee all loans'),\n",
       " Document(metadata={'header2': 'Tools & Forms'}, page_content='Tools & Forms'),\n",
       " Document(metadata={}, page_content='Credit Cards Application  \\nAdditional Card Application  \\nLoans Application  \\nSubmit documents for credit/debit cards  \\nSubmit documents for Credit Limit Increase  \\nSubmit documents for Loans  \\nSubmit documents for Cash Instalment Plan  \\nInstant Mortgage Assessment  \\nProperty Valuation Tool  \\nForm and Document Download  \\nInvesting  \\nSecurities & Currency Exchange'),\n",
       " Document(metadata={'header2': 'Wealth Products'}, page_content='Wealth Products'),\n",
       " Document(metadata={'header2': 'Wealth Products'}, page_content='Stocks  \\nUnit Trusts  \\nBonds/CDs  \\nStructured Products  \\nWarrants & CBBCs  \\nLatest IPOs  \\nGold trading services  \\nESG and sustainable investing  \\nHSBC Gold Token  \\nSee all investments'),\n",
       " Document(metadata={'header2': 'Wealth Financing'}, page_content='Wealth Financing'),\n",
       " Document(metadata={'header2': 'Wealth Financing'}, page_content='Wealth Portfolio Lending'),\n",
       " Document(metadata={'header2': 'Wealth Mobile Solutions'}, page_content='Wealth Mobile Solutions'),\n",
       " Document(metadata={'header2': 'Wealth Mobile Solutions'}, page_content='HSBC Top Trader Club  \\nHSBC Trade25  \\nHSBC HK Easy Invest  \\nFlexInvest'),\n",
       " Document(metadata={'header2': 'Currency Exchange'}, page_content='Currency Exchange'),\n",
       " Document(metadata={'header2': 'Currency Exchange'}, page_content='Currency Exchange Rates'),\n",
       " Document(metadata={'header2': 'Start Investing'}, page_content='Start Investing'),\n",
       " Document(metadata={'header2': 'Start Investing'}, page_content='Investment Account Opening  \\nInvestment platform guide'),\n",
       " Document(metadata={'header2': 'Wealth Management'}, page_content='Wealth Management'),\n",
       " Document(metadata={'header2': 'Wealth Management'}, page_content='Hybrid Wealth Management  \\nFuture Planner  \\nRetirement  \\nWealth Portfolio Intelligence Service  \\nCapital Investment Entrant Scheme'),\n",
       " Document(metadata={'header2': 'Wealth Insights'}, page_content='Wealth Insights'),\n",
       " Document(metadata={'header2': 'Wealth Insights'}, page_content='Our House Views'),\n",
       " Document(metadata={'header2': 'Greater Bay Area Services'}, page_content='Greater Bay Area Services'),\n",
       " Document(metadata={'header2': 'Greater Bay Area Services'}, page_content='HSBC GBA Wealth Management Connect'),\n",
       " Document(metadata={'header2': 'Quick Links'}, page_content='Quick Links'),\n",
       " Document(metadata={}, page_content='View my Investments  \\nTrade Stocks Online  \\nBuy Unit Trusts Online  \\nBuy Bonds/CDs Online  \\nExchange Currency Online  \\nOur US dollar best lending rate  \\nOur HK dollar best lending rate  \\nInsurance  \\nProtection & Planning'),\n",
       " Document(metadata={'header2': 'Insurance'}, page_content='Insurance'),\n",
       " Document(metadata={'header2': 'Insurance'}, page_content='Life Protection  \\nSaving & retirement insurance  \\nInvestment-linked insurance  \\nMedical & critical illness insurance  \\nHome & helper insurance  \\nSee all insurance plans'),\n",
       " Document(metadata={'header2': 'Buy Online'}, page_content='Buy Online'),\n",
       " Document(metadata={'header2': 'Buy Online'}, page_content='VHIS Flexi plan  \\nSwift Guard Critical Illness  \\nSwift Save  \\nFamily Protector Term Life  \\nHome contents\\xa0insurance  \\nTravel insurance  \\nSee plans you can buy online'),\n",
       " Document(metadata={'header2': 'More from HSBC Life'}, page_content='More from HSBC Life'),\n",
       " Document(metadata={'header2': 'More from HSBC Life'}, page_content='HSBC Healthpass  \\nWell+  \\nHealthyLife App  \\nORSO  \\nLIFE Talk: insurance guide  \\nAbout HSBC Life'),\n",
       " Document(metadata={'header2': 'Already a customer?'}, page_content='Already a customer?'),\n",
       " Document(metadata={}, page_content='Submit a claim  \\nManage your policy  \\nForms and documents  \\nInvestment performance  \\nImportant information  \\nInsights  \\nAnalysis & Market Data'),\n",
       " Document(metadata={'header2': 'New to Investing'}, page_content='New to Investing'),\n",
       " Document(metadata={'header2': 'New to Investing'}, page_content='Start Investing in 5 Steps  \\nLearn to invest in 7 days  \\nMust-read for Investment Newbies  \\nLearn about Bonds  \\nSet & Reach Goals with HSBC FinFit'),\n",
       " Document(metadata={'header2': 'Advanced Investor'}, page_content='Advanced Investor'),\n",
       " Document(metadata={'header2': 'Advanced Investor'}, page_content='HSBC Investment Views  \\nFX Insights  \\nRegional Investment Opportunities  \\nESG Outlook'),\n",
       " Document(metadata={'header2': 'Wealth Tool'}, page_content='Wealth Tool'),\n",
       " Document(metadata={}, page_content='Browse for Funds  \\nBond/CD Screener  \\nStock Quotes  \\nOffers  \\nLatest Rewards'),\n",
       " Document(metadata={'header2': 'HSBC Latest Offers'}, page_content='HSBC Latest Offers'),\n",
       " Document(metadata={'header2': 'HSBC Latest Offers'}, page_content='See more offers'),\n",
       " Document(metadata={'header2': 'Credit Cards Offers'}, page_content='Credit Cards Offers'),\n",
       " Document(metadata={'header2': 'Credit Cards Offers'}, page_content='Year-round Privileges  \\nRewardCash Rebate  \\nRewards of Your Choice  \\nRewardCash Certificate Scheme  \\nInstant RewardCash redemption at merchants  \\nMileage Programme  \\nSee more'),\n",
       " Document(metadata={'header2': 'Card Financial Flexibility'}, page_content='Card Financial Flexibility'),\n",
       " Document(metadata={'header2': 'Card Financial Flexibility'}, page_content='Spending Instalment Plan  \\nCash Instalment Plan'),\n",
       " Document(metadata={'header2': 'Investment Offers'}, page_content='Investment Offers'),\n",
       " Document(metadata={'header2': 'Investment Offers'}, page_content='Currency Exchange  \\nFlexInvest  \\nSee more'),\n",
       " Document(metadata={'header2': 'Loans Offers'}, page_content='Loans Offers'),\n",
       " Document(metadata={'header2': 'Loans Offers'}, page_content='Personal Instalment Loan'),\n",
       " Document(metadata={'header2': 'Accounts Offers'}, page_content='Accounts Offers'),\n",
       " Document(metadata={'header2': 'Accounts Offers'}, page_content='HSBC Premier Elite  \\nHSBC Premier  \\nHSBC One  \\nDeposits'),\n",
       " Document(metadata={'header2': 'Mortgages Offers'}, page_content='Mortgages Offers'),\n",
       " Document(metadata={'header2': 'Mortgages Offers'}, page_content='HIBOR-based Mortgage'),\n",
       " Document(metadata={'header2': 'Debit Card Offers'}, page_content='Debit Card Offers'),\n",
       " Document(metadata={'header2': 'Debit Card Offers'}, page_content='See more offers'),\n",
       " Document(metadata={'header2': 'Quick Links'}, page_content='Quick Links'),\n",
       " Document(metadata={}, page_content='Form and Document Download  \\nFees & Charges  \\nWebsite Information  \\nEnglish  \\nEnglish  \\nEnglish  \\nSelected  \\n繁體  \\n简体  \\nBusiness  \\nGlobal Banking and Markets  \\nPrivate Banking  \\nWarrants & CBBCs  \\nClose menu  \\nLog on  \\nExpanded  \\nCollapsed  \\nLog off  \\nHSBC Online Banking  \\nRegister for Personal Internet Banking  \\nStock Trading  \\nBusiness Internet Banking  \\nHSBCnet  \\nTop of main content'),\n",
       " Document(metadata={'header1': 'Apply for a credit card'}, page_content='Apply for a credit card'),\n",
       " Document(metadata={'header1': 'Apply for a credit card'}, page_content='Open up a world of possibilities with an HSBC credit card  \\nHSBC HK  \\nCredit Cards  \\nApply for Credit Cards Online'),\n",
       " Document(metadata={'header1': 'Apply for a credit card', 'header2': 'Credit Card Key Facts Statement'}, page_content='Credit Card Key Facts Statement'),\n",
       " Document(metadata={'header1': 'Apply for a credit card', 'header2': 'Credit Card Key Facts Statement'}, page_content='Credit Card Key Facts Statement (PDF)'),\n",
       " Document(metadata={'header1': 'Apply for a credit card', 'header2': 'HSBC EveryMile Credit Card'}, page_content='HSBC EveryMile Credit Card'),\n",
       " Document(metadata={'header1': 'Apply for a credit card'}, page_content='The credit card that takes you wherever you want to go, every day  \\nWelcome offer  \\nApply online to get up to $800 RewardCash (or 16,000 miles)[@cards-welcomeoffer]  \\nEarn miles at a rate as low as HKD0.4 = 1 mile[@cards-milescalculation]  \\nExtra $200 RewardCash for new credit card customers who successfully apply for a Cash Instalment Plan[@cards-cash-instalment-200rc-offer]  \\nFirst year annual fee waiver[@cards-annualfeewaiver]  \\nEnjoy an \"Interest-free Payment Holiday\" for the first two months[@cards-em-payment-holiday-offer]  \\nRewards  \\nEarn miles on your spending at an unlimited rate as low as HKD2 = 1 mile  \\nConvert your RewardCash to miles / points at 15 frequent flyer and hotel loyalty programmes at a preferential rate [@cards-preferentialrate]  \\nLog on and apply  \\nLog on and apply  This link will open in a new window  \\nApply as an existing customer  \\nApply as an existing customer for HSBC EveryMile Credit Card This link will open in a new window  \\nApply as a new customer  \\nApply as a new customer for HSBC EveryMile Credit Card This link will open in a new window'),\n",
       " Document(metadata={'header1': 'Apply for a credit card', 'header2': 'HSBC Red Credit Card'}, page_content='HSBC Red Credit Card'),\n",
       " Document(metadata={'header1': 'Apply for a credit card'}, page_content='The credit card that makes it easy to earn rewards  \\nWelcome offer  \\nExtra $200 RewardCash for new credit card customers who successfully apply for a Cash Instalment Plan[@cards-cash-instalment-200rc-offer]  \\nPerpetual annual fee waiver  \\nRewards  \\nUp to 4% RewardCash every time you shop online[@cards-redcard421]  \\nEarn 1% RewardCash on designated spending categories[@cards-redcard421]  \\nLog on and apply  \\nLog on and apply  This link will open in a new window  \\nApply as an existing customer  \\nApply as an existing customer for HSBC Red Credit Card This link will open in a new window  \\nApply as a new customer  \\nApply as a new customer for HSBC Red Credit Card This link will open in a new window'),\n",
       " Document(metadata={'header1': 'Apply for a credit card', 'header2': 'HSBC Visa Signature Card'}, page_content='HSBC Visa Signature Card'),\n",
       " Document(metadata={'header1': 'Apply for a credit card'}, page_content='The credit card that elevates your lifestyle with dining and leisure privileges  \\nWelcome offer  \\nApply online to get up to $800 RewardCash[@cards-welcomeoffer]  \\nExtra $200 RewardCash for new credit card customers who successfully apply for a Cash Instalment Plan[@cards-cash-instalment-200rc-offer]  \\nFirst 2-year annual fee waiver  \\nRewards  \\nUp to 2.4% RewardCash for spending in the  \\nRewards of Your Choice category  \\nExclusive extra 1.2% RewardCash rebate on all categories of the  \\nRed Hot Rewards of Your Choice programme  \\nLog on and apply  \\nLog on and apply  This link will open in a new window  \\nApply as an existing customer  \\nApply as an existing customer for HSBC Visa Signature Card This link will open in a new window  \\nApply as a new customer  \\nApply as a new customer for HSBC Visa Signature Card This link will open in a new window'),\n",
       " Document(metadata={'header1': 'Apply for a credit card', 'header2': 'HSBC Premier Mastercard®'}, page_content='HSBC Premier Mastercard®'),\n",
       " Document(metadata={'header1': 'Apply for a credit card'}, page_content='The credit card that opens doors to a world of opportunity, no matter where you are.  \\nWelcome offer  \\nApply online to get up to $800 RewardCash[@cards-welcomeoffer]  \\nExtra $200 RewardCash for new credit card customers who successfully apply for a Cash Instalment Plan[@cards-cash-instalment-200rc-offer]  \\nPerpetual annual fee waiver  \\nRewards  \\nUp to 2.4% RewardCash for spending in the  \\nRewards of Your Choice category  \\nReceive by simply paying your new policy premiums to HSBC Life  \\nup to $6,000 extra RewardCash  \\nApply now  \\nApply now for HSBC Premier Mastercard This link will open in a new window'),\n",
       " Document(metadata={'header1': 'Apply for a credit card', 'header2': 'HSBC Visa Platinum Card'}, page_content='HSBC Visa Platinum Card'),\n",
       " Document(metadata={'header1': 'Apply for a credit card'}, page_content='The credit card that takes your rewards to the next level  \\nWelcome offer  \\nUp to $600 RewardCash[@cards-welcomeoffer]  \\nExtra $200 RewardCash for new credit card customers who successfully apply for a Cash Instalment Plan[@cards-cash-instalment-200rc-offer]  \\nFirst 2-year annual fee waiver  \\nRewards  \\nUp to 2.4% RewardCash for spending in the  \\nRewards of Your Choice category  \\n(=2.4% rebate) by linking your card in MoneyBack App  \\nEarn 6X MoneyBack Points  \\non Member Day at PARKnSHOP, Watsons and FORTRESS  \\n8% shopping discount  \\nLog on and apply  \\nLog on and apply  This link will open in a new window  \\nApply as an existing customer  \\nApply as an existing customer for HSBC Visa Platinum Card This link will open in a new window  \\nApply as a new customer  \\nApply as a new customer for HSBC Visa Platinum Card This link will open in a new window'),\n",
       " Document(metadata={'header1': 'Apply for a credit card', 'header2': 'HSBC Pulse UnionPay Dual Currency Diamond Credit Card'}, page_content='HSBC Pulse UnionPay Dual Currency Diamond Credit Card'),\n",
       " Document(metadata={'header1': 'Apply for a credit card'}, page_content='The credit card that rewards you for spending at home and in mainland China  \\nWelcome offer  \\nApply online to get up to $800 RewardCash[@cards-welcomeoffer]  \\nExtra $200 RewardCash for new credit card customers who successfully apply for a Cash Instalment Plan[@cards-cash-instalment-200rc-offer]  \\nFirst 2-year annual fee waiver  \\nRewards  \\nUp to 2.4% RewardCash for spending in the  \\nRewards of Your Choice category  \\nUp to extra thru QR Code Payment and/or Mobile Payment in Mainland China and Macau  \\n2% exclusive RewardCash rebate  \\nMark up fee waiver for transactions in Renminbi (RMB)  \\nLog on and apply  \\nLog on and apply  This link will open in a new window  \\nApply as an existing customer  \\nApply as an existing customer for HSBC Pulse UnionPay Dual Currency Diamond Credit Card This link will open in a new window  \\nApply as a new customer  \\nApply as a new customer for HSBC Pulse UnionPay Dual Currency Diamond Credit Card This link will open in a new window'),\n",
       " Document(metadata={'header1': 'Apply for a credit card', 'header2': 'HSBC UnionPay Dual Currency Credit Card'}, page_content='HSBC UnionPay Dual Currency Credit Card'),\n",
       " Document(metadata={'header1': 'Apply for a credit card'}, page_content='Manage your spending at home, in mainland China and beyond all on a single card.  \\nWelcome offer  \\nUp to $600 RewardCash[@cards-welcomeoffer]  \\nExtra $200 RewardCash for new credit card customers who successfully apply for a Cash Instalment Plan[@cards-cash-instalment-200rc-offer]  \\nFirst 2-year annual fee waiver  \\nRewards  \\nUp to 2.4% RewardCash for spending in the  \\nRewards of Your Choice category  \\nMark up fee waiver for transactions in Renminbi (RMB)  \\nLog on and apply  \\nLog on and apply  This link will open in a new window  \\nApply as an existing customer  \\nApply as an existing customer for HSBC UnionPay Dual Currency Credit Card This link will open in a new window  \\nApply as a new customer  \\nApply as a new customer for HSBC UnionPay Dual Currency Credit Card This link will open in a new window'),\n",
       " Document(metadata={'header1': 'Apply for a credit card', 'header2': 'HSBC Visa Gold Card'}, page_content='HSBC Visa Gold Card'),\n",
       " Document(metadata={'header1': 'Apply for a credit card'}, page_content='Enjoy exclusive privileges worldwide and earn RewardCash every time you use your card.  \\nWelcome offer  \\nUp to $600 RewardCash[@cards-welcomeoffer]  \\nExtra $200 RewardCash for new credit card customers who successfully apply for a Cash Instalment Plan[@cards-cash-instalment-200rc-offer]  \\nFirst 2-year annual fee waiver  \\nRewards  \\nUp to 2.4% RewardCash for spending in the  \\nRewards of Your Choice category  \\nLog on and apply  \\nLog on and apply  This link will open in a new window  \\nApply as an existing customer  \\nApply as an existing customer for HSBC Visa Gold Card This link will open in a new window  \\nApply as a new customer  \\nApply as a new customer for HSBC Visa Gold Card This link will open in a new window'),\n",
       " Document(metadata={'header1': 'Apply for a credit card', 'header2': 'HSBC Visa Gold Card for Students'}, page_content='HSBC Visa Gold Card for Students'),\n",
       " Document(metadata={'header1': 'Apply for a credit card'}, page_content=\"This credit card for university students lets you enjoy rewards while you're studying in higher education  \\nWelcome offer  \\nUp to $300 RewardCash[@cards-visagoldstudent-welcome-tnc]  \\nPerpetual annual fee waiver  \\nRewards  \\non tuition fee payments  \\nUp to 2.4% RewardCash rebate  \\nUp to 2.4% RewardCash for spending in the  \\nRewards of Your Choice category  \\nApply now  \\nApply now for HSBC Visa Gold Card for Students This link will open in a new window\"),\n",
       " Document(metadata={'header1': 'Apply for a credit card', 'header2': 'Notes'}, page_content='Notes'),\n",
       " Document(metadata={'header1': 'Apply for a credit card', 'header2': 'Notes', 'header3': 'Important information'}, page_content='Important information'),\n",
       " Document(metadata={}, page_content='View our .  \\nCredit Card Key Facts Statement  \\nT&Cs apply.  \\nTo borrow or not to borrow? Borrow only if you can repay!  \\nBack to top  \\nHelp and support'),\n",
       " Document(metadata={'header3': 'Contact HSBC'}, page_content='Contact HSBC'),\n",
       " Document(metadata={}, page_content='Write, call or send a message'),\n",
       " Document(metadata={'header3': 'Find a branch'}, page_content='Find a branch'),\n",
       " Document(metadata={}, page_content='And your nearest Express Banking location'),\n",
       " Document(metadata={'header3': 'Help and Support'}, page_content='Help and Support'),\n",
       " Document(metadata={}, page_content='See FAQs, forms and fees & charges'),\n",
       " Document(metadata={'header3': 'About HSBC'}, page_content='About HSBC'),\n",
       " Document(metadata={}, page_content='Careers, media, investor and  corporate information  \\nPrivacy and Security  \\nTerms of Use  \\nOnline Security  \\nRegulatory Disclosures  \\nMore  \\n©\\xa0Copyright. The Hongkong and Shanghai Banking Corporation Limited \\xa02002-2025. All rights reserved  \\nThis website is designed for use in Hong Kong.  \\nCross-border disclosure  \\nThis is blank file acting as a renderer for ttm cloudservice  \\nThis is blank file acting as a renderer for appd cloudservice')]"
      ]
     },
     "execution_count": 43,
     "metadata": {},
     "output_type": "execute_result"
    }
   ],
   "source": [
    "html_text_splitter = HTMLHeaderTextSplitter(headers_to_split_on= header_2_spit_on)\n",
    "html_splits = html_text_splitter.split_text_from_url(url)\n",
    "html_splits"
   ]
  },
  {
   "cell_type": "code",
   "execution_count": 69,
   "id": "8151b13d",
   "metadata": {},
   "outputs": [],
   "source": [
    "import json, requests\n",
    "\n",
    "json_data = requests.get(\"https://microsoftedge.github.io/Demos/json-dummy-data/5MB.json\").json()"
   ]
  },
  {
   "cell_type": "code",
   "execution_count": null,
   "id": "c4c4f014",
   "metadata": {},
   "outputs": [],
   "source": [
    "json_splitter = RecursiveJsonSplitter(max_chunk_size=100)\n",
    "json_chunks = json_splitter.split_json(json_data, convert_lists= True)\n"
   ]
  },
  {
   "cell_type": "code",
   "execution_count": 75,
   "id": "b1501c73",
   "metadata": {},
   "outputs": [
    {
     "name": "stdout",
     "output_type": "stream",
     "text": [
      "{'0': {'name': 'Adeel Solangi', 'language': 'Sindhi', 'id': 'V59OF92YF627HFY0'}}\n",
      "{'0': {'bio': 'Donec lobortis eleifend condimentum. Cras dictum dolor lacinia lectus vehicula rutrum. Maecenas quis nisi nunc. Nam tristique feugiat est vitae mollis. Maecenas quis nisi nunc.'}}\n",
      "{'0': {'version': 6.1}, '1': {'name': 'Afzal Ghaffar', 'language': 'Sindhi'}}\n",
      "{'1': {'id': 'ENTOCR13RSCLZ6KU', 'bio': 'Aliquam sollicitudin ante ligula, eget malesuada nibh efficitur et. Pellentesque massa sem, scelerisque sit amet odio id, cursus tempor urna. Etiam congue dignissim volutpat. Vestibulum pharetra libero et velit gravida euismod.'}}\n"
     ]
    }
   ],
   "source": [
    "for chunk in json_chunks[:4]:\n",
    "    print(chunk)"
   ]
  },
  {
   "cell_type": "code",
   "execution_count": 76,
   "id": "a559560a",
   "metadata": {},
   "outputs": [],
   "source": [
    "json_docs = json_splitter.create_documents(texts=json_data)"
   ]
  },
  {
   "cell_type": "code",
   "execution_count": 77,
   "id": "b5da6c08",
   "metadata": {},
   "outputs": [
    {
     "name": "stdout",
     "output_type": "stream",
     "text": [
      "page_content='{\"name\": \"Adeel Solangi\", \"language\": \"Sindhi\", \"id\": \"V59OF92YF627HFY0\"}'\n",
      "page_content='{\"bio\": \"Donec lobortis eleifend condimentum. Cras dictum dolor lacinia lectus vehicula rutrum. Maecenas quis nisi nunc. Nam tristique feugiat est vitae mollis. Maecenas quis nisi nunc.\"}'\n",
      "page_content='{\"version\": 6.1}'\n",
      "page_content='{\"name\": \"Afzal Ghaffar\", \"language\": \"Sindhi\", \"id\": \"ENTOCR13RSCLZ6KU\"}'\n"
     ]
    }
   ],
   "source": [
    "for chunk in json_docs[:4]:\n",
    "    print(chunk)"
   ]
  }
 ],
 "metadata": {
  "kernelspec": {
   "display_name": "Python 3",
   "language": "python",
   "name": "python3"
  },
  "language_info": {
   "codemirror_mode": {
    "name": "ipython",
    "version": 3
   },
   "file_extension": ".py",
   "mimetype": "text/x-python",
   "name": "python",
   "nbconvert_exporter": "python",
   "pygments_lexer": "ipython3",
   "version": "3.12.1"
  }
 },
 "nbformat": 4,
 "nbformat_minor": 5
}
