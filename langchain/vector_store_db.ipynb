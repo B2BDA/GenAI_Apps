{
 "cells": [
  {
   "cell_type": "code",
   "execution_count": 1,
   "id": "f60e3355",
   "metadata": {},
   "outputs": [],
   "source": [
    "from langchain_community.document_loaders import PyPDFLoader \n",
    "\n",
    "# PDF Based Document Loader\n",
    "pdf_loader = PyPDFLoader(r'docs/key-fact-statement.pdf')\n",
    "docs = pdf_loader.load()\n",
    "from langchain_text_splitters import RecursiveCharacterTextSplitter, CharacterTextSplitter, HTMLHeaderTextSplitter, RecursiveJsonSplitter\n",
    "text_splitter = RecursiveCharacterTextSplitter(chunk_size = 500, chunk_overlap = 50 )\n",
    "# divide document into 500 text size and overalap of 50 characters\n",
    "\n",
    "final_docs = text_splitter.split_documents(docs)"
   ]
  },
  {
   "cell_type": "code",
   "execution_count": 2,
   "id": "eef192ab",
   "metadata": {},
   "outputs": [
    {
     "data": {
      "text/plain": [
       "True"
      ]
     },
     "execution_count": 2,
     "metadata": {},
     "output_type": "execute_result"
    }
   ],
   "source": [
    "import os\n",
    "from dotenv import load_dotenv\n",
    "load_dotenv()"
   ]
  },
  {
   "cell_type": "code",
   "execution_count": 3,
   "id": "92cab50b",
   "metadata": {},
   "outputs": [
    {
     "name": "stderr",
     "output_type": "stream",
     "text": [
      "/home/codespace/.local/lib/python3.12/site-packages/tqdm/auto.py:21: TqdmWarning: IProgress not found. Please update jupyter and ipywidgets. See https://ipywidgets.readthedocs.io/en/stable/user_install.html\n",
      "  from .autonotebook import tqdm as notebook_tqdm\n"
     ]
    }
   ],
   "source": [
    "os.environ['GOOGLE_API_KEY'] = os.getenv(\"GOOGLE_API_KEY\")\n",
    "from langchain_google_genai import GoogleGenerativeAIEmbeddings\n",
    "\n",
    "embeddings = GoogleGenerativeAIEmbeddings(model=\"models/embedding-001\")\n"
   ]
  },
  {
   "cell_type": "code",
   "execution_count": 4,
   "id": "b437de0d",
   "metadata": {},
   "outputs": [],
   "source": [
    "__import__('pysqlite3')\n",
    "import sys\n",
    "sys.modules['sqlite3'] = sys.modules.pop('pysqlite3')\n",
    "from langchain_community.vectorstores import Chroma\n",
    "db = Chroma.from_documents(final_docs, embeddings)"
   ]
  },
  {
   "cell_type": "code",
   "execution_count": 10,
   "id": "b1a31c78",
   "metadata": {},
   "outputs": [],
   "source": [
    "query = \"APR for Visa Gold\"\n",
    "retrieved_result = db.similarity_search(query)"
   ]
  },
  {
   "cell_type": "code",
   "execution_count": 11,
   "id": "38c4e10d",
   "metadata": {},
   "outputs": [
    {
     "data": {
      "text/plain": [
       "[Document(metadata={'author': 'jason.c.f.chow@hsbc.com.hk', 'creationdate': '2024-10-18T14:40:05+08:00', 'creator': 'Microsoft® Word for Microsoft 365', 'keywords': 'RESTRICTED -', 'moddate': '2024-10-18T14:40:05+08:00', 'msip_label_3486a02c-2dfb-4efe-823f-aa2d1f0e6ab7_actionid': '8c75c534-6cc7-4fbb-8718-2dcd08b8899b', 'msip_label_3486a02c-2dfb-4efe-823f-aa2d1f0e6ab7_contentbits': '2', 'msip_label_3486a02c-2dfb-4efe-823f-aa2d1f0e6ab7_enabled': 'true', 'msip_label_3486a02c-2dfb-4efe-823f-aa2d1f0e6ab7_method': 'Privileged', 'msip_label_3486a02c-2dfb-4efe-823f-aa2d1f0e6ab7_name': 'CLAPUBLIC', 'msip_label_3486a02c-2dfb-4efe-823f-aa2d1f0e6ab7_setdate': '2024-10-08T15:56:53Z', 'msip_label_3486a02c-2dfb-4efe-823f-aa2d1f0e6ab7_siteid': 'e0fd434d-ba64-497b-90d2-859c472e1a92', 'page': 3, 'page_label': '4', 'producer': 'Microsoft® Word for Microsoft 365', 'source': 'docs/key-fact-statement.pdf', 'subject': 'Key Fact Statement', 'title': 'Key Fact Statement', 'total_pages': 9}, page_content='Practice and the actual APR applied to your card account may be different.  US$ Visa Gold Card requires payment of the statement \\nbalance in full and the APR (calculated by assuming only 1% of the current balance plus the total fees and charges currently billed \\nto the card statement are settled each month) is for reference only.  \\n2. We will waive the joining fee for any private label cards.'),\n",
       " Document(metadata={'author': 'jason.c.f.chow@hsbc.com.hk', 'creationdate': '2024-10-18T14:40:05+08:00', 'creator': 'Microsoft® Word for Microsoft 365', 'keywords': 'RESTRICTED -', 'moddate': '2024-10-18T14:40:05+08:00', 'msip_label_3486a02c-2dfb-4efe-823f-aa2d1f0e6ab7_actionid': '8c75c534-6cc7-4fbb-8718-2dcd08b8899b', 'msip_label_3486a02c-2dfb-4efe-823f-aa2d1f0e6ab7_contentbits': '2', 'msip_label_3486a02c-2dfb-4efe-823f-aa2d1f0e6ab7_enabled': 'true', 'msip_label_3486a02c-2dfb-4efe-823f-aa2d1f0e6ab7_method': 'Privileged', 'msip_label_3486a02c-2dfb-4efe-823f-aa2d1f0e6ab7_name': 'CLAPUBLIC', 'msip_label_3486a02c-2dfb-4efe-823f-aa2d1f0e6ab7_setdate': '2024-10-08T15:56:53Z', 'msip_label_3486a02c-2dfb-4efe-823f-aa2d1f0e6ab7_siteid': 'e0fd434d-ba64-497b-90d2-859c472e1a92', 'page': 0, 'page_label': '1', 'producer': 'Microsoft® Word for Microsoft 365', 'source': 'docs/key-fact-statement.pdf', 'subject': 'Key Fact Statement', 'title': 'Key Fact Statement', 'total_pages': 9}, page_content='APR listed above).   \\nRemarks:   \\n1. Please note that we do not appoint any third parties to refer credit card applications to us and will not process \\nany application that was referred by a third party under beneficial arrangement. For enquiry, please call 2233 \\n3322 for HSBC Premier customers or 2233 3000 for Other Personal Banking customers.   \\n2. Accrual of interest on a cash advance transaction will continue after the statement cut-off date and the'),\n",
       " Document(metadata={'author': 'jason.c.f.chow@hsbc.com.hk', 'creationdate': '2024-10-18T14:40:05+08:00', 'creator': 'Microsoft® Word for Microsoft 365', 'keywords': 'RESTRICTED -', 'moddate': '2024-10-18T14:40:05+08:00', 'msip_label_3486a02c-2dfb-4efe-823f-aa2d1f0e6ab7_actionid': '8c75c534-6cc7-4fbb-8718-2dcd08b8899b', 'msip_label_3486a02c-2dfb-4efe-823f-aa2d1f0e6ab7_contentbits': '2', 'msip_label_3486a02c-2dfb-4efe-823f-aa2d1f0e6ab7_enabled': 'true', 'msip_label_3486a02c-2dfb-4efe-823f-aa2d1f0e6ab7_method': 'Privileged', 'msip_label_3486a02c-2dfb-4efe-823f-aa2d1f0e6ab7_name': 'CLAPUBLIC', 'msip_label_3486a02c-2dfb-4efe-823f-aa2d1f0e6ab7_setdate': '2024-10-08T15:56:53Z', 'msip_label_3486a02c-2dfb-4efe-823f-aa2d1f0e6ab7_siteid': 'e0fd434d-ba64-497b-90d2-859c472e1a92', 'page': 0, 'page_label': '1', 'producer': 'Microsoft® Word for Microsoft 365', 'source': 'docs/key-fact-statement.pdf', 'subject': 'Key Fact Statement', 'title': 'Key Fact Statement', 'total_pages': 9}, page_content='until we receive payment in full; and  \\n(b) the amount of each new transaction being posted to your card account since that statement date, from \\nthe transaction date until we receive payment in full.  \\n• The finance charge will accrue daily and be calculated at the interest rate of 2.65% per month (i.e. at the \\nAPR listed above).  \\nAPR for Cash \\nAdvance1 \\n35.94% (inclusive of the cash advance and handling fees) when you open your account and it will be \\nreviewed from time to time.'),\n",
       " Document(metadata={'author': 'jason.c.f.chow@hsbc.com.hk', 'creationdate': '2024-10-18T14:40:05+08:00', 'creator': 'Microsoft® Word for Microsoft 365', 'keywords': 'RESTRICTED -', 'moddate': '2024-10-18T14:40:05+08:00', 'msip_label_3486a02c-2dfb-4efe-823f-aa2d1f0e6ab7_actionid': '8c75c534-6cc7-4fbb-8718-2dcd08b8899b', 'msip_label_3486a02c-2dfb-4efe-823f-aa2d1f0e6ab7_contentbits': '2', 'msip_label_3486a02c-2dfb-4efe-823f-aa2d1f0e6ab7_enabled': 'true', 'msip_label_3486a02c-2dfb-4efe-823f-aa2d1f0e6ab7_method': 'Privileged', 'msip_label_3486a02c-2dfb-4efe-823f-aa2d1f0e6ab7_name': 'CLAPUBLIC', 'msip_label_3486a02c-2dfb-4efe-823f-aa2d1f0e6ab7_setdate': '2024-10-08T15:56:53Z', 'msip_label_3486a02c-2dfb-4efe-823f-aa2d1f0e6ab7_siteid': 'e0fd434d-ba64-497b-90d2-859c472e1a92', 'page': 0, 'page_label': '1', 'producer': 'Microsoft® Word for Microsoft 365', 'source': 'docs/key-fact-statement.pdf', 'subject': 'Key Fact Statement', 'title': 'Key Fact Statement', 'total_pages': 9}, page_content='imposed on:  \\n(a) the unpaid statement balance, from the statement date immediately preceding the payment due date \\nuntil we receive payment in full; and   \\n(b) the amount of each new transaction being posted to your card account since that statement date, from \\nthe transaction date until we receive payment in full.   \\n• The finance charge will accrue daily and be calculated at the interest rate of 2.65% per month (i.e. at the \\nAPR listed above).   \\nRemarks:')]"
      ]
     },
     "execution_count": 11,
     "metadata": {},
     "output_type": "execute_result"
    }
   ],
   "source": [
    "retrieved_result"
   ]
  },
  {
   "cell_type": "code",
   "execution_count": null,
   "id": "2ce01c3a",
   "metadata": {},
   "outputs": [],
   "source": []
  }
 ],
 "metadata": {
  "kernelspec": {
   "display_name": "Python 3",
   "language": "python",
   "name": "python3"
  },
  "language_info": {
   "codemirror_mode": {
    "name": "ipython",
    "version": 3
   },
   "file_extension": ".py",
   "mimetype": "text/x-python",
   "name": "python",
   "nbconvert_exporter": "python",
   "pygments_lexer": "ipython3",
   "version": "3.12.1"
  }
 },
 "nbformat": 4,
 "nbformat_minor": 5
}
