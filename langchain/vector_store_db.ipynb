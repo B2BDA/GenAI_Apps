{
 "cells": [
  {
   "cell_type": "code",
   "execution_count": 13,
   "id": "f60e3355",
   "metadata": {},
   "outputs": [],
   "source": [
    "from langchain_community.document_loaders import PyPDFLoader \n",
    "\n",
    "# PDF Based Document Loader\n",
    "pdf_loader = PyPDFLoader(r'docs/key-fact-statement.pdf')\n",
    "docs = pdf_loader.load()\n",
    "from langchain_text_splitters import RecursiveCharacterTextSplitter, CharacterTextSplitter, HTMLHeaderTextSplitter, RecursiveJsonSplitter\n",
    "text_splitter = RecursiveCharacterTextSplitter(chunk_size = 500, chunk_overlap = 50 )\n",
    "# divide document into 500 text size and overalap of 50 characters\n",
    "\n",
    "final_docs = text_splitter.split_documents(docs)"
   ]
  },
  {
   "cell_type": "code",
   "execution_count": 14,
   "id": "eef192ab",
   "metadata": {},
   "outputs": [
    {
     "data": {
      "text/plain": [
       "True"
      ]
     },
     "execution_count": 14,
     "metadata": {},
     "output_type": "execute_result"
    }
   ],
   "source": [
    "import os\n",
    "from dotenv import load_dotenv\n",
    "load_dotenv()"
   ]
  },
  {
   "cell_type": "code",
   "execution_count": 15,
   "id": "92cab50b",
   "metadata": {},
   "outputs": [],
   "source": [
    "os.environ['GOOGLE_API_KEY'] = os.getenv(\"GOOGLE_API_KEY\")\n",
    "from langchain_google_genai import GoogleGenerativeAIEmbeddings\n",
    "\n",
    "embeddings = GoogleGenerativeAIEmbeddings(model=\"models/embedding-001\")\n"
   ]
  },
  {
   "cell_type": "code",
   "execution_count": 16,
   "id": "b437de0d",
   "metadata": {},
   "outputs": [],
   "source": [
    "__import__('pysqlite3')\n",
    "import sys\n",
    "sys.modules['sqlite3'] = sys.modules.pop('pysqlite3')\n",
    "from langchain_community.vectorstores import Chroma\n",
    "db = Chroma.from_documents(final_docs, embeddings)"
   ]
  },
  {
   "cell_type": "code",
   "execution_count": 17,
   "id": "b1a31c78",
   "metadata": {},
   "outputs": [],
   "source": [
    "query = \"APR for Visa Gold\"\n",
    "retrieved_result = db.similarity_search(query)"
   ]
  },
  {
   "cell_type": "code",
   "execution_count": 18,
   "id": "38c4e10d",
   "metadata": {},
   "outputs": [
    {
     "data": {
      "text/plain": [
       "[Document(metadata={'author': 'jason.c.f.chow@hsbc.com.hk', 'creationdate': '2024-10-18T14:40:05+08:00', 'creator': 'Microsoft® Word for Microsoft 365', 'keywords': 'RESTRICTED -', 'moddate': '2024-10-18T14:40:05+08:00', 'msip_label_3486a02c-2dfb-4efe-823f-aa2d1f0e6ab7_actionid': '8c75c534-6cc7-4fbb-8718-2dcd08b8899b', 'msip_label_3486a02c-2dfb-4efe-823f-aa2d1f0e6ab7_contentbits': '2', 'msip_label_3486a02c-2dfb-4efe-823f-aa2d1f0e6ab7_enabled': 'true', 'msip_label_3486a02c-2dfb-4efe-823f-aa2d1f0e6ab7_method': 'Privileged', 'msip_label_3486a02c-2dfb-4efe-823f-aa2d1f0e6ab7_name': 'CLAPUBLIC', 'msip_label_3486a02c-2dfb-4efe-823f-aa2d1f0e6ab7_setdate': '2024-10-08T15:56:53Z', 'msip_label_3486a02c-2dfb-4efe-823f-aa2d1f0e6ab7_siteid': 'e0fd434d-ba64-497b-90d2-859c472e1a92', 'page': 3, 'page_label': '4', 'producer': 'Microsoft® Word for Microsoft 365', 'source': 'docs/key-fact-statement.pdf', 'subject': 'Key Fact Statement', 'title': 'Key Fact Statement', 'total_pages': 9}, page_content='Practice and the actual APR applied to your card account may be different.  US$ Visa Gold Card requires payment of the statement \\nbalance in full and the APR (calculated by assuming only 1% of the current balance plus the total fees and charges currently billed \\nto the card statement are settled each month) is for reference only.  \\n2. We will waive the joining fee for any private label cards.'),\n",
       " Document(metadata={'author': 'jason.c.f.chow@hsbc.com.hk', 'creationdate': '2024-10-18T14:40:05+08:00', 'creator': 'Microsoft® Word for Microsoft 365', 'keywords': 'RESTRICTED -', 'moddate': '2024-10-18T14:40:05+08:00', 'msip_label_3486a02c-2dfb-4efe-823f-aa2d1f0e6ab7_actionid': '8c75c534-6cc7-4fbb-8718-2dcd08b8899b', 'msip_label_3486a02c-2dfb-4efe-823f-aa2d1f0e6ab7_contentbits': '2', 'msip_label_3486a02c-2dfb-4efe-823f-aa2d1f0e6ab7_enabled': 'true', 'msip_label_3486a02c-2dfb-4efe-823f-aa2d1f0e6ab7_method': 'Privileged', 'msip_label_3486a02c-2dfb-4efe-823f-aa2d1f0e6ab7_name': 'CLAPUBLIC', 'msip_label_3486a02c-2dfb-4efe-823f-aa2d1f0e6ab7_setdate': '2024-10-08T15:56:53Z', 'msip_label_3486a02c-2dfb-4efe-823f-aa2d1f0e6ab7_siteid': 'e0fd434d-ba64-497b-90d2-859c472e1a92', 'page': 3, 'page_label': '4', 'producer': 'Microsoft® Word for Microsoft 365', 'source': 'docs/key-fact-statement.pdf', 'subject': 'Key Fact Statement', 'title': 'Key Fact Statement', 'total_pages': 9}, page_content='Practice and the actual APR applied to your card account may be different.  US$ Visa Gold Card requires payment of the statement \\nbalance in full and the APR (calculated by assuming only 1% of the current balance plus the total fees and charges currently billed \\nto the card statement are settled each month) is for reference only.  \\n2. We will waive the joining fee for any private label cards.'),\n",
       " Document(metadata={'author': 'jason.c.f.chow@hsbc.com.hk', 'creationdate': '2024-10-18T14:40:05+08:00', 'creator': 'Microsoft® Word for Microsoft 365', 'keywords': 'RESTRICTED -', 'moddate': '2024-10-18T14:40:05+08:00', 'msip_label_3486a02c-2dfb-4efe-823f-aa2d1f0e6ab7_actionid': '8c75c534-6cc7-4fbb-8718-2dcd08b8899b', 'msip_label_3486a02c-2dfb-4efe-823f-aa2d1f0e6ab7_contentbits': '2', 'msip_label_3486a02c-2dfb-4efe-823f-aa2d1f0e6ab7_enabled': 'true', 'msip_label_3486a02c-2dfb-4efe-823f-aa2d1f0e6ab7_method': 'Privileged', 'msip_label_3486a02c-2dfb-4efe-823f-aa2d1f0e6ab7_name': 'CLAPUBLIC', 'msip_label_3486a02c-2dfb-4efe-823f-aa2d1f0e6ab7_setdate': '2024-10-08T15:56:53Z', 'msip_label_3486a02c-2dfb-4efe-823f-aa2d1f0e6ab7_siteid': 'e0fd434d-ba64-497b-90d2-859c472e1a92', 'page': 0, 'page_label': '1', 'producer': 'Microsoft® Word for Microsoft 365', 'source': 'docs/key-fact-statement.pdf', 'subject': 'Key Fact Statement', 'title': 'Key Fact Statement', 'total_pages': 9}, page_content='APR listed above).   \\nRemarks:   \\n1. Please note that we do not appoint any third parties to refer credit card applications to us and will not process \\nany application that was referred by a third party under beneficial arrangement. For enquiry, please call 2233 \\n3322 for HSBC Premier customers or 2233 3000 for Other Personal Banking customers.   \\n2. Accrual of interest on a cash advance transaction will continue after the statement cut-off date and the'),\n",
       " Document(metadata={'author': 'jason.c.f.chow@hsbc.com.hk', 'creationdate': '2024-10-18T14:40:05+08:00', 'creator': 'Microsoft® Word for Microsoft 365', 'keywords': 'RESTRICTED -', 'moddate': '2024-10-18T14:40:05+08:00', 'msip_label_3486a02c-2dfb-4efe-823f-aa2d1f0e6ab7_actionid': '8c75c534-6cc7-4fbb-8718-2dcd08b8899b', 'msip_label_3486a02c-2dfb-4efe-823f-aa2d1f0e6ab7_contentbits': '2', 'msip_label_3486a02c-2dfb-4efe-823f-aa2d1f0e6ab7_enabled': 'true', 'msip_label_3486a02c-2dfb-4efe-823f-aa2d1f0e6ab7_method': 'Privileged', 'msip_label_3486a02c-2dfb-4efe-823f-aa2d1f0e6ab7_name': 'CLAPUBLIC', 'msip_label_3486a02c-2dfb-4efe-823f-aa2d1f0e6ab7_setdate': '2024-10-08T15:56:53Z', 'msip_label_3486a02c-2dfb-4efe-823f-aa2d1f0e6ab7_siteid': 'e0fd434d-ba64-497b-90d2-859c472e1a92', 'page': 0, 'page_label': '1', 'producer': 'Microsoft® Word for Microsoft 365', 'source': 'docs/key-fact-statement.pdf', 'subject': 'Key Fact Statement', 'title': 'Key Fact Statement', 'total_pages': 9}, page_content='APR listed above).   \\nRemarks:   \\n1. Please note that we do not appoint any third parties to refer credit card applications to us and will not process \\nany application that was referred by a third party under beneficial arrangement. For enquiry, please call 2233 \\n3322 for HSBC Premier customers or 2233 3000 for Other Personal Banking customers.   \\n2. Accrual of interest on a cash advance transaction will continue after the statement cut-off date and the')]"
      ]
     },
     "execution_count": 18,
     "metadata": {},
     "output_type": "execute_result"
    }
   ],
   "source": [
    "retrieved_result"
   ]
  },
  {
   "cell_type": "code",
   "execution_count": 19,
   "id": "2ce01c3a",
   "metadata": {},
   "outputs": [],
   "source": [
    "# FAISS DB\n",
    "# Facebook AI Similarity Search. Lib to efficiently perform similarity search and clustering of dense vectors. It contains algo that searches dense of any size even if it doesn't fit in the RAM. Also has supporting code for eval and param tuning"
   ]
  },
  {
   "cell_type": "code",
   "execution_count": 20,
   "id": "86dc5b92",
   "metadata": {},
   "outputs": [],
   "source": [
    "from langchain_community.document_loaders import PyPDFLoader\n",
    "from langchain_community.vectorstores import FAISS\n",
    "from langchain_ollama import OllamaEmbeddings\n",
    "from langchain.text_splitter import RecursiveCharacterTextSplitter"
   ]
  },
  {
   "cell_type": "code",
   "execution_count": 21,
   "id": "6e029362",
   "metadata": {},
   "outputs": [],
   "source": [
    "loader = PyPDFLoader(file_path = r'docs/key-fact-statement.pdf')\n",
    "docs = loader.load()"
   ]
  },
  {
   "cell_type": "code",
   "execution_count": 22,
   "id": "c6de7071",
   "metadata": {},
   "outputs": [],
   "source": [
    "splitter = RecursiveCharacterTextSplitter(chunk_size = 500, chunk_overlap = 50)"
   ]
  },
  {
   "cell_type": "code",
   "execution_count": 23,
   "id": "9be21de4",
   "metadata": {},
   "outputs": [],
   "source": [
    "final_docs = splitter.split_documents(docs)"
   ]
  },
  {
   "cell_type": "code",
   "execution_count": 24,
   "id": "1ce4dc5d",
   "metadata": {},
   "outputs": [],
   "source": [
    "embeddings = OllamaEmbeddings(model='gemma:2b', base_url=\"http://127.0.0.1:11434\")\n",
    "db = FAISS.from_documents(final_docs, embeddings)"
   ]
  },
  {
   "cell_type": "code",
   "execution_count": 25,
   "id": "3abd9386",
   "metadata": {},
   "outputs": [
    {
     "data": {
      "text/plain": [
       "<langchain_community.vectorstores.faiss.FAISS at 0x70064c0ba8a0>"
      ]
     },
     "execution_count": 25,
     "metadata": {},
     "output_type": "execute_result"
    }
   ],
   "source": [
    "db"
   ]
  },
  {
   "cell_type": "code",
   "execution_count": 26,
   "id": "26e9e26f",
   "metadata": {},
   "outputs": [],
   "source": [
    "query = \"APR\""
   ]
  },
  {
   "cell_type": "code",
   "execution_count": 27,
   "id": "222a639a",
   "metadata": {},
   "outputs": [],
   "source": [
    "results = db.similarity_search(query)"
   ]
  },
  {
   "cell_type": "code",
   "execution_count": 28,
   "id": "c90848fa",
   "metadata": {},
   "outputs": [
    {
     "name": "stdout",
     "output_type": "stream",
     "text": [
      "PUBLIC \n",
      "The Hongkong and Shanghai Banking Corporation Limited (“we”, “us” or “our”)  \n",
      "KEY FACTS STATEMENT FOR CREDIT CARDS \n",
      "You are advised to refer to the “Bank tariff guide for HSBC Wealth and Personal Banking Customers” and the Credit Card Terms for \n",
      "your credit card for more details.  \n",
      "Credit Cards \n",
      "November 2024 \n",
      " \n",
      "Interest Rates and Finance Charges  \n",
      "Annualised   \n",
      "Percentage Rate   \n",
      "(APR) for  \n",
      "Purchase1  \n",
      "35.42% when you open your account and it will be reviewed from time to time.\n"
     ]
    }
   ],
   "source": [
    "print(results[0].page_content)"
   ]
  },
  {
   "cell_type": "code",
   "execution_count": 29,
   "id": "5fbfb781",
   "metadata": {},
   "outputs": [],
   "source": [
    "# Retrievers --> Vector stores can be converted to Retriever class. This allows us to use it in other langchain methods."
   ]
  },
  {
   "cell_type": "code",
   "execution_count": 30,
   "id": "4931817e",
   "metadata": {},
   "outputs": [],
   "source": [
    "retriever = db.as_retriever()"
   ]
  },
  {
   "cell_type": "code",
   "execution_count": 31,
   "id": "fb04eee3",
   "metadata": {},
   "outputs": [
    {
     "data": {
      "text/plain": [
       "[Document(id='bbcfc3d9-e8f3-4529-9e9b-34b7666e18f3', metadata={'producer': 'Microsoft® Word for Microsoft 365', 'creator': 'Microsoft® Word for Microsoft 365', 'creationdate': '2024-10-18T14:40:05+08:00', 'msip_label_3486a02c-2dfb-4efe-823f-aa2d1f0e6ab7_enabled': 'true', 'msip_label_3486a02c-2dfb-4efe-823f-aa2d1f0e6ab7_setdate': '2024-10-08T15:56:53Z', 'msip_label_3486a02c-2dfb-4efe-823f-aa2d1f0e6ab7_method': 'Privileged', 'msip_label_3486a02c-2dfb-4efe-823f-aa2d1f0e6ab7_name': 'CLAPUBLIC', 'msip_label_3486a02c-2dfb-4efe-823f-aa2d1f0e6ab7_siteid': 'e0fd434d-ba64-497b-90d2-859c472e1a92', 'msip_label_3486a02c-2dfb-4efe-823f-aa2d1f0e6ab7_actionid': '8c75c534-6cc7-4fbb-8718-2dcd08b8899b', 'msip_label_3486a02c-2dfb-4efe-823f-aa2d1f0e6ab7_contentbits': '2', 'title': 'Key Fact Statement', 'author': 'jason.c.f.chow@hsbc.com.hk', 'subject': 'Key Fact Statement', 'keywords': 'RESTRICTED -', 'moddate': '2024-10-18T14:40:05+08:00', 'source': 'docs/key-fact-statement.pdf', 'total_pages': 9, 'page': 0, 'page_label': '1'}, page_content='PUBLIC \\nThe Hongkong and Shanghai Banking Corporation Limited (“we”, “us” or “our”)  \\nKEY FACTS STATEMENT FOR CREDIT CARDS \\nYou are advised to refer to the “Bank tariff guide for HSBC Wealth and Personal Banking Customers” and the Credit Card Terms for \\nyour credit card for more details.  \\nCredit Cards \\nNovember 2024 \\n \\nInterest Rates and Finance Charges  \\nAnnualised   \\nPercentage Rate   \\n(APR) for  \\nPurchase1  \\n35.42% when you open your account and it will be reviewed from time to time.'),\n",
       " Document(id='c0b9ec34-37ec-45aa-be7b-56060e86796d', metadata={'producer': 'Microsoft® Word for Microsoft 365', 'creator': 'Microsoft® Word for Microsoft 365', 'creationdate': '2024-10-18T14:40:05+08:00', 'msip_label_3486a02c-2dfb-4efe-823f-aa2d1f0e6ab7_enabled': 'true', 'msip_label_3486a02c-2dfb-4efe-823f-aa2d1f0e6ab7_setdate': '2024-10-08T15:56:53Z', 'msip_label_3486a02c-2dfb-4efe-823f-aa2d1f0e6ab7_method': 'Privileged', 'msip_label_3486a02c-2dfb-4efe-823f-aa2d1f0e6ab7_name': 'CLAPUBLIC', 'msip_label_3486a02c-2dfb-4efe-823f-aa2d1f0e6ab7_siteid': 'e0fd434d-ba64-497b-90d2-859c472e1a92', 'msip_label_3486a02c-2dfb-4efe-823f-aa2d1f0e6ab7_actionid': '8c75c534-6cc7-4fbb-8718-2dcd08b8899b', 'msip_label_3486a02c-2dfb-4efe-823f-aa2d1f0e6ab7_contentbits': '2', 'title': 'Key Fact Statement', 'author': 'jason.c.f.chow@hsbc.com.hk', 'subject': 'Key Fact Statement', 'keywords': 'RESTRICTED -', 'moddate': '2024-10-18T14:40:05+08:00', 'source': 'docs/key-fact-statement.pdf', 'total_pages': 9, 'page': 3, 'page_label': '4'}, page_content='• US$ Visa Gold cards — USD8. \\nIllustrative Table For Minimum Payment \\nCPD265R17 W \\n                                                   \\nPage 4/4'),\n",
       " Document(id='482af5b6-7f35-4d3e-a185-bd58de440f1e', metadata={'producer': 'Microsoft® Word for Microsoft 365', 'creator': 'Microsoft® Word for Microsoft 365', 'creationdate': '2024-10-18T14:40:05+08:00', 'msip_label_3486a02c-2dfb-4efe-823f-aa2d1f0e6ab7_enabled': 'true', 'msip_label_3486a02c-2dfb-4efe-823f-aa2d1f0e6ab7_setdate': '2024-10-08T15:56:53Z', 'msip_label_3486a02c-2dfb-4efe-823f-aa2d1f0e6ab7_method': 'Privileged', 'msip_label_3486a02c-2dfb-4efe-823f-aa2d1f0e6ab7_name': 'CLAPUBLIC', 'msip_label_3486a02c-2dfb-4efe-823f-aa2d1f0e6ab7_siteid': 'e0fd434d-ba64-497b-90d2-859c472e1a92', 'msip_label_3486a02c-2dfb-4efe-823f-aa2d1f0e6ab7_actionid': '8c75c534-6cc7-4fbb-8718-2dcd08b8899b', 'msip_label_3486a02c-2dfb-4efe-823f-aa2d1f0e6ab7_contentbits': '2', 'title': 'Key Fact Statement', 'author': 'jason.c.f.chow@hsbc.com.hk', 'subject': 'Key Fact Statement', 'keywords': 'RESTRICTED -', 'moddate': '2024-10-18T14:40:05+08:00', 'source': 'docs/key-fact-statement.pdf', 'total_pages': 9, 'page': 2, 'page_label': '3'}, page_content='and not the card issuer. In such cases, customers are reminded to ask the merchants for the foreign currency \\nexchange rates and the percentage of handling fees to be applied before the transactions are entered into since \\nsettling foreign currency transactions in the currency of the credit card may involve a cost higher than the \\nforeign currency transaction fee. Such handling fees are not charged by the card issuers.'),\n",
       " Document(id='f735a1b9-8c11-4d37-b049-1d686a79b183', metadata={'producer': 'Microsoft® Word for Microsoft 365', 'creator': 'Microsoft® Word for Microsoft 365', 'creationdate': '2024-10-18T14:40:05+08:00', 'msip_label_3486a02c-2dfb-4efe-823f-aa2d1f0e6ab7_enabled': 'true', 'msip_label_3486a02c-2dfb-4efe-823f-aa2d1f0e6ab7_setdate': '2024-10-08T15:56:53Z', 'msip_label_3486a02c-2dfb-4efe-823f-aa2d1f0e6ab7_method': 'Privileged', 'msip_label_3486a02c-2dfb-4efe-823f-aa2d1f0e6ab7_name': 'CLAPUBLIC', 'msip_label_3486a02c-2dfb-4efe-823f-aa2d1f0e6ab7_siteid': 'e0fd434d-ba64-497b-90d2-859c472e1a92', 'msip_label_3486a02c-2dfb-4efe-823f-aa2d1f0e6ab7_actionid': '8c75c534-6cc7-4fbb-8718-2dcd08b8899b', 'msip_label_3486a02c-2dfb-4efe-823f-aa2d1f0e6ab7_contentbits': '2', 'title': 'Key Fact Statement', 'author': 'jason.c.f.chow@hsbc.com.hk', 'subject': 'Key Fact Statement', 'keywords': 'RESTRICTED -', 'moddate': '2024-10-18T14:40:05+08:00', 'source': 'docs/key-fact-statement.pdf', 'total_pages': 9, 'page': 0, 'page_label': '1'}, page_content='until we receive payment in full; and  \\n(b) the amount of each new transaction being posted to your card account since that statement date, from \\nthe transaction date until we receive payment in full.  \\n• The finance charge will accrue daily and be calculated at the interest rate of 2.65% per month (i.e. at the \\nAPR listed above).  \\nAPR for Cash \\nAdvance1 \\n35.94% (inclusive of the cash advance and handling fees) when you open your account and it will be \\nreviewed from time to time.')]"
      ]
     },
     "execution_count": 31,
     "metadata": {},
     "output_type": "execute_result"
    }
   ],
   "source": [
    "retriever.invoke(query)"
   ]
  },
  {
   "cell_type": "code",
   "execution_count": 32,
   "id": "5b3e3ed5",
   "metadata": {},
   "outputs": [],
   "source": [
    "# FIASS methods of Similarity Search with Score\n",
    "# It returns documents + L2 distance (Manhattan Distance)\n",
    "# Lower score is better"
   ]
  },
  {
   "cell_type": "code",
   "execution_count": 33,
   "id": "9ba00094",
   "metadata": {},
   "outputs": [],
   "source": [
    "docs_w_score = db.similarity_search_with_score(query)"
   ]
  },
  {
   "cell_type": "code",
   "execution_count": 34,
   "id": "20e6b40e",
   "metadata": {},
   "outputs": [
    {
     "data": {
      "text/plain": [
       "[(Document(id='bbcfc3d9-e8f3-4529-9e9b-34b7666e18f3', metadata={'producer': 'Microsoft® Word for Microsoft 365', 'creator': 'Microsoft® Word for Microsoft 365', 'creationdate': '2024-10-18T14:40:05+08:00', 'msip_label_3486a02c-2dfb-4efe-823f-aa2d1f0e6ab7_enabled': 'true', 'msip_label_3486a02c-2dfb-4efe-823f-aa2d1f0e6ab7_setdate': '2024-10-08T15:56:53Z', 'msip_label_3486a02c-2dfb-4efe-823f-aa2d1f0e6ab7_method': 'Privileged', 'msip_label_3486a02c-2dfb-4efe-823f-aa2d1f0e6ab7_name': 'CLAPUBLIC', 'msip_label_3486a02c-2dfb-4efe-823f-aa2d1f0e6ab7_siteid': 'e0fd434d-ba64-497b-90d2-859c472e1a92', 'msip_label_3486a02c-2dfb-4efe-823f-aa2d1f0e6ab7_actionid': '8c75c534-6cc7-4fbb-8718-2dcd08b8899b', 'msip_label_3486a02c-2dfb-4efe-823f-aa2d1f0e6ab7_contentbits': '2', 'title': 'Key Fact Statement', 'author': 'jason.c.f.chow@hsbc.com.hk', 'subject': 'Key Fact Statement', 'keywords': 'RESTRICTED -', 'moddate': '2024-10-18T14:40:05+08:00', 'source': 'docs/key-fact-statement.pdf', 'total_pages': 9, 'page': 0, 'page_label': '1'}, page_content='PUBLIC \\nThe Hongkong and Shanghai Banking Corporation Limited (“we”, “us” or “our”)  \\nKEY FACTS STATEMENT FOR CREDIT CARDS \\nYou are advised to refer to the “Bank tariff guide for HSBC Wealth and Personal Banking Customers” and the Credit Card Terms for \\nyour credit card for more details.  \\nCredit Cards \\nNovember 2024 \\n \\nInterest Rates and Finance Charges  \\nAnnualised   \\nPercentage Rate   \\n(APR) for  \\nPurchase1  \\n35.42% when you open your account and it will be reviewed from time to time.'),\n",
       "  np.float32(0.90015626)),\n",
       " (Document(id='c0b9ec34-37ec-45aa-be7b-56060e86796d', metadata={'producer': 'Microsoft® Word for Microsoft 365', 'creator': 'Microsoft® Word for Microsoft 365', 'creationdate': '2024-10-18T14:40:05+08:00', 'msip_label_3486a02c-2dfb-4efe-823f-aa2d1f0e6ab7_enabled': 'true', 'msip_label_3486a02c-2dfb-4efe-823f-aa2d1f0e6ab7_setdate': '2024-10-08T15:56:53Z', 'msip_label_3486a02c-2dfb-4efe-823f-aa2d1f0e6ab7_method': 'Privileged', 'msip_label_3486a02c-2dfb-4efe-823f-aa2d1f0e6ab7_name': 'CLAPUBLIC', 'msip_label_3486a02c-2dfb-4efe-823f-aa2d1f0e6ab7_siteid': 'e0fd434d-ba64-497b-90d2-859c472e1a92', 'msip_label_3486a02c-2dfb-4efe-823f-aa2d1f0e6ab7_actionid': '8c75c534-6cc7-4fbb-8718-2dcd08b8899b', 'msip_label_3486a02c-2dfb-4efe-823f-aa2d1f0e6ab7_contentbits': '2', 'title': 'Key Fact Statement', 'author': 'jason.c.f.chow@hsbc.com.hk', 'subject': 'Key Fact Statement', 'keywords': 'RESTRICTED -', 'moddate': '2024-10-18T14:40:05+08:00', 'source': 'docs/key-fact-statement.pdf', 'total_pages': 9, 'page': 3, 'page_label': '4'}, page_content='• US$ Visa Gold cards — USD8. \\nIllustrative Table For Minimum Payment \\nCPD265R17 W \\n                                                   \\nPage 4/4'),\n",
       "  np.float32(0.90382445)),\n",
       " (Document(id='482af5b6-7f35-4d3e-a185-bd58de440f1e', metadata={'producer': 'Microsoft® Word for Microsoft 365', 'creator': 'Microsoft® Word for Microsoft 365', 'creationdate': '2024-10-18T14:40:05+08:00', 'msip_label_3486a02c-2dfb-4efe-823f-aa2d1f0e6ab7_enabled': 'true', 'msip_label_3486a02c-2dfb-4efe-823f-aa2d1f0e6ab7_setdate': '2024-10-08T15:56:53Z', 'msip_label_3486a02c-2dfb-4efe-823f-aa2d1f0e6ab7_method': 'Privileged', 'msip_label_3486a02c-2dfb-4efe-823f-aa2d1f0e6ab7_name': 'CLAPUBLIC', 'msip_label_3486a02c-2dfb-4efe-823f-aa2d1f0e6ab7_siteid': 'e0fd434d-ba64-497b-90d2-859c472e1a92', 'msip_label_3486a02c-2dfb-4efe-823f-aa2d1f0e6ab7_actionid': '8c75c534-6cc7-4fbb-8718-2dcd08b8899b', 'msip_label_3486a02c-2dfb-4efe-823f-aa2d1f0e6ab7_contentbits': '2', 'title': 'Key Fact Statement', 'author': 'jason.c.f.chow@hsbc.com.hk', 'subject': 'Key Fact Statement', 'keywords': 'RESTRICTED -', 'moddate': '2024-10-18T14:40:05+08:00', 'source': 'docs/key-fact-statement.pdf', 'total_pages': 9, 'page': 2, 'page_label': '3'}, page_content='and not the card issuer. In such cases, customers are reminded to ask the merchants for the foreign currency \\nexchange rates and the percentage of handling fees to be applied before the transactions are entered into since \\nsettling foreign currency transactions in the currency of the credit card may involve a cost higher than the \\nforeign currency transaction fee. Such handling fees are not charged by the card issuers.'),\n",
       "  np.float32(0.90701675)),\n",
       " (Document(id='f735a1b9-8c11-4d37-b049-1d686a79b183', metadata={'producer': 'Microsoft® Word for Microsoft 365', 'creator': 'Microsoft® Word for Microsoft 365', 'creationdate': '2024-10-18T14:40:05+08:00', 'msip_label_3486a02c-2dfb-4efe-823f-aa2d1f0e6ab7_enabled': 'true', 'msip_label_3486a02c-2dfb-4efe-823f-aa2d1f0e6ab7_setdate': '2024-10-08T15:56:53Z', 'msip_label_3486a02c-2dfb-4efe-823f-aa2d1f0e6ab7_method': 'Privileged', 'msip_label_3486a02c-2dfb-4efe-823f-aa2d1f0e6ab7_name': 'CLAPUBLIC', 'msip_label_3486a02c-2dfb-4efe-823f-aa2d1f0e6ab7_siteid': 'e0fd434d-ba64-497b-90d2-859c472e1a92', 'msip_label_3486a02c-2dfb-4efe-823f-aa2d1f0e6ab7_actionid': '8c75c534-6cc7-4fbb-8718-2dcd08b8899b', 'msip_label_3486a02c-2dfb-4efe-823f-aa2d1f0e6ab7_contentbits': '2', 'title': 'Key Fact Statement', 'author': 'jason.c.f.chow@hsbc.com.hk', 'subject': 'Key Fact Statement', 'keywords': 'RESTRICTED -', 'moddate': '2024-10-18T14:40:05+08:00', 'source': 'docs/key-fact-statement.pdf', 'total_pages': 9, 'page': 0, 'page_label': '1'}, page_content='until we receive payment in full; and  \\n(b) the amount of each new transaction being posted to your card account since that statement date, from \\nthe transaction date until we receive payment in full.  \\n• The finance charge will accrue daily and be calculated at the interest rate of 2.65% per month (i.e. at the \\nAPR listed above).  \\nAPR for Cash \\nAdvance1 \\n35.94% (inclusive of the cash advance and handling fees) when you open your account and it will be \\nreviewed from time to time.'),\n",
       "  np.float32(0.9139983))]"
      ]
     },
     "execution_count": 34,
     "metadata": {},
     "output_type": "execute_result"
    }
   ],
   "source": [
    "docs_w_score"
   ]
  },
  {
   "cell_type": "code",
   "execution_count": 35,
   "id": "04be534b",
   "metadata": {},
   "outputs": [],
   "source": [
    "# Pass vector to query instead of passing text\n",
    "embed_query = embeddings.embed_query(query)"
   ]
  },
  {
   "cell_type": "code",
   "execution_count": 36,
   "id": "e8e15f23",
   "metadata": {},
   "outputs": [
    {
     "data": {
      "text/plain": [
       "[Document(id='bbcfc3d9-e8f3-4529-9e9b-34b7666e18f3', metadata={'producer': 'Microsoft® Word for Microsoft 365', 'creator': 'Microsoft® Word for Microsoft 365', 'creationdate': '2024-10-18T14:40:05+08:00', 'msip_label_3486a02c-2dfb-4efe-823f-aa2d1f0e6ab7_enabled': 'true', 'msip_label_3486a02c-2dfb-4efe-823f-aa2d1f0e6ab7_setdate': '2024-10-08T15:56:53Z', 'msip_label_3486a02c-2dfb-4efe-823f-aa2d1f0e6ab7_method': 'Privileged', 'msip_label_3486a02c-2dfb-4efe-823f-aa2d1f0e6ab7_name': 'CLAPUBLIC', 'msip_label_3486a02c-2dfb-4efe-823f-aa2d1f0e6ab7_siteid': 'e0fd434d-ba64-497b-90d2-859c472e1a92', 'msip_label_3486a02c-2dfb-4efe-823f-aa2d1f0e6ab7_actionid': '8c75c534-6cc7-4fbb-8718-2dcd08b8899b', 'msip_label_3486a02c-2dfb-4efe-823f-aa2d1f0e6ab7_contentbits': '2', 'title': 'Key Fact Statement', 'author': 'jason.c.f.chow@hsbc.com.hk', 'subject': 'Key Fact Statement', 'keywords': 'RESTRICTED -', 'moddate': '2024-10-18T14:40:05+08:00', 'source': 'docs/key-fact-statement.pdf', 'total_pages': 9, 'page': 0, 'page_label': '1'}, page_content='PUBLIC \\nThe Hongkong and Shanghai Banking Corporation Limited (“we”, “us” or “our”)  \\nKEY FACTS STATEMENT FOR CREDIT CARDS \\nYou are advised to refer to the “Bank tariff guide for HSBC Wealth and Personal Banking Customers” and the Credit Card Terms for \\nyour credit card for more details.  \\nCredit Cards \\nNovember 2024 \\n \\nInterest Rates and Finance Charges  \\nAnnualised   \\nPercentage Rate   \\n(APR) for  \\nPurchase1  \\n35.42% when you open your account and it will be reviewed from time to time.'),\n",
       " Document(id='c0b9ec34-37ec-45aa-be7b-56060e86796d', metadata={'producer': 'Microsoft® Word for Microsoft 365', 'creator': 'Microsoft® Word for Microsoft 365', 'creationdate': '2024-10-18T14:40:05+08:00', 'msip_label_3486a02c-2dfb-4efe-823f-aa2d1f0e6ab7_enabled': 'true', 'msip_label_3486a02c-2dfb-4efe-823f-aa2d1f0e6ab7_setdate': '2024-10-08T15:56:53Z', 'msip_label_3486a02c-2dfb-4efe-823f-aa2d1f0e6ab7_method': 'Privileged', 'msip_label_3486a02c-2dfb-4efe-823f-aa2d1f0e6ab7_name': 'CLAPUBLIC', 'msip_label_3486a02c-2dfb-4efe-823f-aa2d1f0e6ab7_siteid': 'e0fd434d-ba64-497b-90d2-859c472e1a92', 'msip_label_3486a02c-2dfb-4efe-823f-aa2d1f0e6ab7_actionid': '8c75c534-6cc7-4fbb-8718-2dcd08b8899b', 'msip_label_3486a02c-2dfb-4efe-823f-aa2d1f0e6ab7_contentbits': '2', 'title': 'Key Fact Statement', 'author': 'jason.c.f.chow@hsbc.com.hk', 'subject': 'Key Fact Statement', 'keywords': 'RESTRICTED -', 'moddate': '2024-10-18T14:40:05+08:00', 'source': 'docs/key-fact-statement.pdf', 'total_pages': 9, 'page': 3, 'page_label': '4'}, page_content='• US$ Visa Gold cards — USD8. \\nIllustrative Table For Minimum Payment \\nCPD265R17 W \\n                                                   \\nPage 4/4'),\n",
       " Document(id='482af5b6-7f35-4d3e-a185-bd58de440f1e', metadata={'producer': 'Microsoft® Word for Microsoft 365', 'creator': 'Microsoft® Word for Microsoft 365', 'creationdate': '2024-10-18T14:40:05+08:00', 'msip_label_3486a02c-2dfb-4efe-823f-aa2d1f0e6ab7_enabled': 'true', 'msip_label_3486a02c-2dfb-4efe-823f-aa2d1f0e6ab7_setdate': '2024-10-08T15:56:53Z', 'msip_label_3486a02c-2dfb-4efe-823f-aa2d1f0e6ab7_method': 'Privileged', 'msip_label_3486a02c-2dfb-4efe-823f-aa2d1f0e6ab7_name': 'CLAPUBLIC', 'msip_label_3486a02c-2dfb-4efe-823f-aa2d1f0e6ab7_siteid': 'e0fd434d-ba64-497b-90d2-859c472e1a92', 'msip_label_3486a02c-2dfb-4efe-823f-aa2d1f0e6ab7_actionid': '8c75c534-6cc7-4fbb-8718-2dcd08b8899b', 'msip_label_3486a02c-2dfb-4efe-823f-aa2d1f0e6ab7_contentbits': '2', 'title': 'Key Fact Statement', 'author': 'jason.c.f.chow@hsbc.com.hk', 'subject': 'Key Fact Statement', 'keywords': 'RESTRICTED -', 'moddate': '2024-10-18T14:40:05+08:00', 'source': 'docs/key-fact-statement.pdf', 'total_pages': 9, 'page': 2, 'page_label': '3'}, page_content='and not the card issuer. In such cases, customers are reminded to ask the merchants for the foreign currency \\nexchange rates and the percentage of handling fees to be applied before the transactions are entered into since \\nsettling foreign currency transactions in the currency of the credit card may involve a cost higher than the \\nforeign currency transaction fee. Such handling fees are not charged by the card issuers.'),\n",
       " Document(id='f735a1b9-8c11-4d37-b049-1d686a79b183', metadata={'producer': 'Microsoft® Word for Microsoft 365', 'creator': 'Microsoft® Word for Microsoft 365', 'creationdate': '2024-10-18T14:40:05+08:00', 'msip_label_3486a02c-2dfb-4efe-823f-aa2d1f0e6ab7_enabled': 'true', 'msip_label_3486a02c-2dfb-4efe-823f-aa2d1f0e6ab7_setdate': '2024-10-08T15:56:53Z', 'msip_label_3486a02c-2dfb-4efe-823f-aa2d1f0e6ab7_method': 'Privileged', 'msip_label_3486a02c-2dfb-4efe-823f-aa2d1f0e6ab7_name': 'CLAPUBLIC', 'msip_label_3486a02c-2dfb-4efe-823f-aa2d1f0e6ab7_siteid': 'e0fd434d-ba64-497b-90d2-859c472e1a92', 'msip_label_3486a02c-2dfb-4efe-823f-aa2d1f0e6ab7_actionid': '8c75c534-6cc7-4fbb-8718-2dcd08b8899b', 'msip_label_3486a02c-2dfb-4efe-823f-aa2d1f0e6ab7_contentbits': '2', 'title': 'Key Fact Statement', 'author': 'jason.c.f.chow@hsbc.com.hk', 'subject': 'Key Fact Statement', 'keywords': 'RESTRICTED -', 'moddate': '2024-10-18T14:40:05+08:00', 'source': 'docs/key-fact-statement.pdf', 'total_pages': 9, 'page': 0, 'page_label': '1'}, page_content='until we receive payment in full; and  \\n(b) the amount of each new transaction being posted to your card account since that statement date, from \\nthe transaction date until we receive payment in full.  \\n• The finance charge will accrue daily and be calculated at the interest rate of 2.65% per month (i.e. at the \\nAPR listed above).  \\nAPR for Cash \\nAdvance1 \\n35.94% (inclusive of the cash advance and handling fees) when you open your account and it will be \\nreviewed from time to time.')]"
      ]
     },
     "execution_count": 36,
     "metadata": {},
     "output_type": "execute_result"
    }
   ],
   "source": [
    "db.similarity_search_by_vector(embed_query)"
   ]
  },
  {
   "cell_type": "code",
   "execution_count": 37,
   "id": "2c0b1cc1",
   "metadata": {},
   "outputs": [],
   "source": [
    "#Save Vector store DB\n",
    "db.save_local(\"FIASS_Index\")"
   ]
  },
  {
   "cell_type": "code",
   "execution_count": 38,
   "id": "2471afbf",
   "metadata": {},
   "outputs": [],
   "source": [
    "# Load Vector DB\n",
    "new_db = FAISS.load_local(\"FIASS_Index\", embeddings, allow_dangerous_deserialization=True)"
   ]
  },
  {
   "cell_type": "code",
   "execution_count": 40,
   "id": "5e5bf3cc",
   "metadata": {},
   "outputs": [
    {
     "data": {
      "text/plain": [
       "[Document(id='bbcfc3d9-e8f3-4529-9e9b-34b7666e18f3', metadata={'producer': 'Microsoft® Word for Microsoft 365', 'creator': 'Microsoft® Word for Microsoft 365', 'creationdate': '2024-10-18T14:40:05+08:00', 'msip_label_3486a02c-2dfb-4efe-823f-aa2d1f0e6ab7_enabled': 'true', 'msip_label_3486a02c-2dfb-4efe-823f-aa2d1f0e6ab7_setdate': '2024-10-08T15:56:53Z', 'msip_label_3486a02c-2dfb-4efe-823f-aa2d1f0e6ab7_method': 'Privileged', 'msip_label_3486a02c-2dfb-4efe-823f-aa2d1f0e6ab7_name': 'CLAPUBLIC', 'msip_label_3486a02c-2dfb-4efe-823f-aa2d1f0e6ab7_siteid': 'e0fd434d-ba64-497b-90d2-859c472e1a92', 'msip_label_3486a02c-2dfb-4efe-823f-aa2d1f0e6ab7_actionid': '8c75c534-6cc7-4fbb-8718-2dcd08b8899b', 'msip_label_3486a02c-2dfb-4efe-823f-aa2d1f0e6ab7_contentbits': '2', 'title': 'Key Fact Statement', 'author': 'jason.c.f.chow@hsbc.com.hk', 'subject': 'Key Fact Statement', 'keywords': 'RESTRICTED -', 'moddate': '2024-10-18T14:40:05+08:00', 'source': 'docs/key-fact-statement.pdf', 'total_pages': 9, 'page': 0, 'page_label': '1'}, page_content='PUBLIC \\nThe Hongkong and Shanghai Banking Corporation Limited (“we”, “us” or “our”)  \\nKEY FACTS STATEMENT FOR CREDIT CARDS \\nYou are advised to refer to the “Bank tariff guide for HSBC Wealth and Personal Banking Customers” and the Credit Card Terms for \\nyour credit card for more details.  \\nCredit Cards \\nNovember 2024 \\n \\nInterest Rates and Finance Charges  \\nAnnualised   \\nPercentage Rate   \\n(APR) for  \\nPurchase1  \\n35.42% when you open your account and it will be reviewed from time to time.'),\n",
       " Document(id='c0b9ec34-37ec-45aa-be7b-56060e86796d', metadata={'producer': 'Microsoft® Word for Microsoft 365', 'creator': 'Microsoft® Word for Microsoft 365', 'creationdate': '2024-10-18T14:40:05+08:00', 'msip_label_3486a02c-2dfb-4efe-823f-aa2d1f0e6ab7_enabled': 'true', 'msip_label_3486a02c-2dfb-4efe-823f-aa2d1f0e6ab7_setdate': '2024-10-08T15:56:53Z', 'msip_label_3486a02c-2dfb-4efe-823f-aa2d1f0e6ab7_method': 'Privileged', 'msip_label_3486a02c-2dfb-4efe-823f-aa2d1f0e6ab7_name': 'CLAPUBLIC', 'msip_label_3486a02c-2dfb-4efe-823f-aa2d1f0e6ab7_siteid': 'e0fd434d-ba64-497b-90d2-859c472e1a92', 'msip_label_3486a02c-2dfb-4efe-823f-aa2d1f0e6ab7_actionid': '8c75c534-6cc7-4fbb-8718-2dcd08b8899b', 'msip_label_3486a02c-2dfb-4efe-823f-aa2d1f0e6ab7_contentbits': '2', 'title': 'Key Fact Statement', 'author': 'jason.c.f.chow@hsbc.com.hk', 'subject': 'Key Fact Statement', 'keywords': 'RESTRICTED -', 'moddate': '2024-10-18T14:40:05+08:00', 'source': 'docs/key-fact-statement.pdf', 'total_pages': 9, 'page': 3, 'page_label': '4'}, page_content='• US$ Visa Gold cards — USD8. \\nIllustrative Table For Minimum Payment \\nCPD265R17 W \\n                                                   \\nPage 4/4'),\n",
       " Document(id='482af5b6-7f35-4d3e-a185-bd58de440f1e', metadata={'producer': 'Microsoft® Word for Microsoft 365', 'creator': 'Microsoft® Word for Microsoft 365', 'creationdate': '2024-10-18T14:40:05+08:00', 'msip_label_3486a02c-2dfb-4efe-823f-aa2d1f0e6ab7_enabled': 'true', 'msip_label_3486a02c-2dfb-4efe-823f-aa2d1f0e6ab7_setdate': '2024-10-08T15:56:53Z', 'msip_label_3486a02c-2dfb-4efe-823f-aa2d1f0e6ab7_method': 'Privileged', 'msip_label_3486a02c-2dfb-4efe-823f-aa2d1f0e6ab7_name': 'CLAPUBLIC', 'msip_label_3486a02c-2dfb-4efe-823f-aa2d1f0e6ab7_siteid': 'e0fd434d-ba64-497b-90d2-859c472e1a92', 'msip_label_3486a02c-2dfb-4efe-823f-aa2d1f0e6ab7_actionid': '8c75c534-6cc7-4fbb-8718-2dcd08b8899b', 'msip_label_3486a02c-2dfb-4efe-823f-aa2d1f0e6ab7_contentbits': '2', 'title': 'Key Fact Statement', 'author': 'jason.c.f.chow@hsbc.com.hk', 'subject': 'Key Fact Statement', 'keywords': 'RESTRICTED -', 'moddate': '2024-10-18T14:40:05+08:00', 'source': 'docs/key-fact-statement.pdf', 'total_pages': 9, 'page': 2, 'page_label': '3'}, page_content='and not the card issuer. In such cases, customers are reminded to ask the merchants for the foreign currency \\nexchange rates and the percentage of handling fees to be applied before the transactions are entered into since \\nsettling foreign currency transactions in the currency of the credit card may involve a cost higher than the \\nforeign currency transaction fee. Such handling fees are not charged by the card issuers.'),\n",
       " Document(id='f735a1b9-8c11-4d37-b049-1d686a79b183', metadata={'producer': 'Microsoft® Word for Microsoft 365', 'creator': 'Microsoft® Word for Microsoft 365', 'creationdate': '2024-10-18T14:40:05+08:00', 'msip_label_3486a02c-2dfb-4efe-823f-aa2d1f0e6ab7_enabled': 'true', 'msip_label_3486a02c-2dfb-4efe-823f-aa2d1f0e6ab7_setdate': '2024-10-08T15:56:53Z', 'msip_label_3486a02c-2dfb-4efe-823f-aa2d1f0e6ab7_method': 'Privileged', 'msip_label_3486a02c-2dfb-4efe-823f-aa2d1f0e6ab7_name': 'CLAPUBLIC', 'msip_label_3486a02c-2dfb-4efe-823f-aa2d1f0e6ab7_siteid': 'e0fd434d-ba64-497b-90d2-859c472e1a92', 'msip_label_3486a02c-2dfb-4efe-823f-aa2d1f0e6ab7_actionid': '8c75c534-6cc7-4fbb-8718-2dcd08b8899b', 'msip_label_3486a02c-2dfb-4efe-823f-aa2d1f0e6ab7_contentbits': '2', 'title': 'Key Fact Statement', 'author': 'jason.c.f.chow@hsbc.com.hk', 'subject': 'Key Fact Statement', 'keywords': 'RESTRICTED -', 'moddate': '2024-10-18T14:40:05+08:00', 'source': 'docs/key-fact-statement.pdf', 'total_pages': 9, 'page': 0, 'page_label': '1'}, page_content='until we receive payment in full; and  \\n(b) the amount of each new transaction being posted to your card account since that statement date, from \\nthe transaction date until we receive payment in full.  \\n• The finance charge will accrue daily and be calculated at the interest rate of 2.65% per month (i.e. at the \\nAPR listed above).  \\nAPR for Cash \\nAdvance1 \\n35.94% (inclusive of the cash advance and handling fees) when you open your account and it will be \\nreviewed from time to time.')]"
      ]
     },
     "execution_count": 40,
     "metadata": {},
     "output_type": "execute_result"
    }
   ],
   "source": [
    "new_db.similarity_search(query)"
   ]
  },
  {
   "cell_type": "code",
   "execution_count": 41,
   "id": "006c93e8",
   "metadata": {},
   "outputs": [],
   "source": [
    "# Chroma DB is AI Native Vector Store Database"
   ]
  },
  {
   "cell_type": "code",
   "execution_count": 1,
   "id": "f5004304",
   "metadata": {},
   "outputs": [],
   "source": [
    "__import__('pysqlite3')\n",
    "import sys\n",
    "sys.modules['sqlite3'] = sys.modules.pop('pysqlite3')\n",
    "from langchain_chroma import Chroma\n",
    "from langchain_community.document_loaders import PyPDFLoader\n",
    "from langchain_ollama import OllamaEmbeddings\n",
    "from langchain.text_splitter import RecursiveCharacterTextSplitter"
   ]
  },
  {
   "cell_type": "code",
   "execution_count": 2,
   "id": "79293e25",
   "metadata": {},
   "outputs": [],
   "source": [
    "pdf_loader = PyPDFLoader(file_path='docs/key-fact-statement.pdf')"
   ]
  },
  {
   "cell_type": "code",
   "execution_count": 3,
   "id": "5bd298b9",
   "metadata": {},
   "outputs": [],
   "source": [
    "docs = pdf_loader.load()"
   ]
  },
  {
   "cell_type": "code",
   "execution_count": 4,
   "id": "d057b3d6",
   "metadata": {},
   "outputs": [],
   "source": [
    "splitter = RecursiveCharacterTextSplitter(chunk_size = 1000, chunk_overlap = 50)"
   ]
  },
  {
   "cell_type": "code",
   "execution_count": 5,
   "id": "2e3f286c",
   "metadata": {},
   "outputs": [],
   "source": [
    "final_docs = splitter.split_documents(docs)"
   ]
  },
  {
   "cell_type": "code",
   "execution_count": 6,
   "id": "7163c137",
   "metadata": {},
   "outputs": [],
   "source": [
    "embeddings = OllamaEmbeddings(model='gemma:2b', base_url=\"http://127.0.0.1:11434\")\n"
   ]
  },
  {
   "cell_type": "code",
   "execution_count": 7,
   "id": "512886d4",
   "metadata": {},
   "outputs": [],
   "source": [
    "db = Chroma.from_documents(final_docs, embeddings)"
   ]
  },
  {
   "cell_type": "code",
   "execution_count": 9,
   "id": "a8eb8ed2",
   "metadata": {},
   "outputs": [
    {
     "data": {
      "text/plain": [
       "[Document(id='f79dbc8b-4908-4950-b05d-ec08bc540e9b', metadata={'author': 'jason.c.f.chow@hsbc.com.hk', 'creationdate': '2024-10-18T14:40:05+08:00', 'creator': 'Microsoft® Word for Microsoft 365', 'keywords': 'RESTRICTED -', 'moddate': '2024-10-18T14:40:05+08:00', 'msip_label_3486a02c-2dfb-4efe-823f-aa2d1f0e6ab7_actionid': '8c75c534-6cc7-4fbb-8718-2dcd08b8899b', 'msip_label_3486a02c-2dfb-4efe-823f-aa2d1f0e6ab7_contentbits': '2', 'msip_label_3486a02c-2dfb-4efe-823f-aa2d1f0e6ab7_enabled': 'true', 'msip_label_3486a02c-2dfb-4efe-823f-aa2d1f0e6ab7_method': 'Privileged', 'msip_label_3486a02c-2dfb-4efe-823f-aa2d1f0e6ab7_name': 'CLAPUBLIC', 'msip_label_3486a02c-2dfb-4efe-823f-aa2d1f0e6ab7_setdate': '2024-10-08T15:56:53Z', 'msip_label_3486a02c-2dfb-4efe-823f-aa2d1f0e6ab7_siteid': 'e0fd434d-ba64-497b-90d2-859c472e1a92', 'page': 1, 'page_label': '2', 'producer': 'Microsoft® Word for Microsoft 365', 'source': 'docs/key-fact-statement.pdf', 'subject': 'Key Fact Statement', 'title': 'Key Fact Statement', 'total_pages': 9}, page_content='PUBLIC \\nHSBC Pulse UnionPay Dual Currency \\nDiamond Card5 / UnionPay Dual Currency  \\nCard  \\n  \\n  \\n  \\n  \\n  \\n  \\n  \\n(i) (a) Total fees and charges currently billed to the HKD sub-\\naccount /RMB sub-account plus 1% of the statement \\nbalance of each sub-account (excluding any fees and \\ncharges currently billed) as at the statement date, or (b) \\nHKD300 for HKD sub-account/ RMB300 for RMB sub-\\naccount, whichever is higher; plus   \\n(ii) Overdue or overlimit due, being the overdue minimum \\npayment amount from the previous card statement or \\namount exceeding the credit limit on your card for each \\nsub-account, whichever is higher.   \\nUS$ Visa Gold Card  Equivalent to the full amount of the statement balance.  \\nFees  \\nAnnual Fee  The annual fee for primary and additional cards are as follows:  \\nCard type2  Primary card  Additional card \\n(separate billing)  \\nAdditional card  \\n(combined billing)  \\nHK dollar personal credit cards  \\nHSBC Premier \\nMasterCard  \\nWaived \\npermanently  \\nN/A  Waived'),\n",
       " Document(id='204a7455-211f-46e4-b771-bfc5ccf7359a', metadata={'author': 'jason.c.f.chow@hsbc.com.hk', 'creationdate': '2024-10-18T14:40:05+08:00', 'creator': 'Microsoft® Word for Microsoft 365', 'keywords': 'RESTRICTED -', 'moddate': '2024-10-18T14:40:05+08:00', 'msip_label_3486a02c-2dfb-4efe-823f-aa2d1f0e6ab7_actionid': '8c75c534-6cc7-4fbb-8718-2dcd08b8899b', 'msip_label_3486a02c-2dfb-4efe-823f-aa2d1f0e6ab7_contentbits': '2', 'msip_label_3486a02c-2dfb-4efe-823f-aa2d1f0e6ab7_enabled': 'true', 'msip_label_3486a02c-2dfb-4efe-823f-aa2d1f0e6ab7_method': 'Privileged', 'msip_label_3486a02c-2dfb-4efe-823f-aa2d1f0e6ab7_name': 'CLAPUBLIC', 'msip_label_3486a02c-2dfb-4efe-823f-aa2d1f0e6ab7_setdate': '2024-10-08T15:56:53Z', 'msip_label_3486a02c-2dfb-4efe-823f-aa2d1f0e6ab7_siteid': 'e0fd434d-ba64-497b-90d2-859c472e1a92', 'page': 2, 'page_label': '3', 'producer': 'Microsoft® Word for Microsoft 365', 'source': 'docs/key-fact-statement.pdf', 'subject': 'Key Fact Statement', 'title': 'Key Fact Statement', 'total_pages': 9}, page_content='1% of every card transaction effected in Hong Kong dollars incurred outside Hong Kong or with any merchants \\nnot registered in Hong Kong \\n \\nFor UnionPay dual currency credit cards, US$ Visa Gold Card: \\nN/A  \\nLate Charge  If you do not pay the minimum payment due in full on or before the payment due date, we may charge, without \\nprior notice, a late charge in addition to the finance charge. The late charge is equivalent to the lower of the \\nminimum payment due or the amount listed below:   \\n• HK dollar personal credit cards — HKD300;   \\n• UnionPay dual currency credit cards — HKD sub-account: HKD300 / RMB sub-account: RMB300;  \\n• US$ Visa Gold Card — N/A.  \\nOverlimit Handling   \\nFee  \\n(Per Billing Cycle)  \\nIf the statement balance (excluding all fees and charges currently billed to your card account) exceeds the \\ncredit limit on your card, we may charge a handling fee in the amount listed below for the over-the-limit facility'),\n",
       " Document(id='a0f16027-7167-4f67-b730-5479cf2af03e', metadata={'author': 'jason.c.f.chow@hsbc.com.hk', 'creationdate': '2024-10-18T14:40:05+08:00', 'creator': 'Microsoft® Word for Microsoft 365', 'keywords': 'RESTRICTED -', 'moddate': '2024-10-18T14:40:05+08:00', 'msip_label_3486a02c-2dfb-4efe-823f-aa2d1f0e6ab7_actionid': '8c75c534-6cc7-4fbb-8718-2dcd08b8899b', 'msip_label_3486a02c-2dfb-4efe-823f-aa2d1f0e6ab7_contentbits': '2', 'msip_label_3486a02c-2dfb-4efe-823f-aa2d1f0e6ab7_enabled': 'true', 'msip_label_3486a02c-2dfb-4efe-823f-aa2d1f0e6ab7_method': 'Privileged', 'msip_label_3486a02c-2dfb-4efe-823f-aa2d1f0e6ab7_name': 'CLAPUBLIC', 'msip_label_3486a02c-2dfb-4efe-823f-aa2d1f0e6ab7_setdate': '2024-10-08T15:56:53Z', 'msip_label_3486a02c-2dfb-4efe-823f-aa2d1f0e6ab7_siteid': 'e0fd434d-ba64-497b-90d2-859c472e1a92', 'page': 3, 'page_label': '4', 'producer': 'Microsoft® Word for Microsoft 365', 'source': 'docs/key-fact-statement.pdf', 'subject': 'Key Fact Statement', 'title': 'Key Fact Statement', 'total_pages': 9}, page_content='And you will end up paying an estimated \\ntotal of … \\nOnly the minimum payment 11.5 years HKD57,850 \\nHKD869 3 years \\nHKD31,279 \\n(Savings = HKD26,570) \\n \\nRemarks:  \\n1. The APR is calculated based on a set of assumptions as set out in the relevant guidelines referred to in the Code of Banking \\nPractice and the actual APR applied to your card account may be different.  US$ Visa Gold Card requires payment of the statement \\nbalance in full and the APR (calculated by assuming only 1% of the current balance plus the total fees and charges currently billed \\nto the card statement are settled each month) is for reference only.  \\n2. We will waive the joining fee for any private label cards.  \\n3. The annual fee for HSBC EveryMile Credit Card is HK$2,000. This fee is subject to change or waiver at our discretion. The fee for \\nthe following year will be waived if the annual spending with HSBC EveryMile Credit Card reaches a designated amount. Please \\nvisit hsbc.com.hk/everymile for details.'),\n",
       " Document(id='5338c5c5-60eb-4b80-95b9-929381621f32', metadata={'author': 'jason.c.f.chow@hsbc.com.hk', 'creationdate': '2024-10-18T14:40:05+08:00', 'creator': 'Microsoft® Word for Microsoft 365', 'keywords': 'RESTRICTED -', 'moddate': '2024-10-18T14:40:05+08:00', 'msip_label_3486a02c-2dfb-4efe-823f-aa2d1f0e6ab7_actionid': '8c75c534-6cc7-4fbb-8718-2dcd08b8899b', 'msip_label_3486a02c-2dfb-4efe-823f-aa2d1f0e6ab7_contentbits': '2', 'msip_label_3486a02c-2dfb-4efe-823f-aa2d1f0e6ab7_enabled': 'true', 'msip_label_3486a02c-2dfb-4efe-823f-aa2d1f0e6ab7_method': 'Privileged', 'msip_label_3486a02c-2dfb-4efe-823f-aa2d1f0e6ab7_name': 'CLAPUBLIC', 'msip_label_3486a02c-2dfb-4efe-823f-aa2d1f0e6ab7_setdate': '2024-10-08T15:56:53Z', 'msip_label_3486a02c-2dfb-4efe-823f-aa2d1f0e6ab7_siteid': 'e0fd434d-ba64-497b-90d2-859c472e1a92', 'page': 0, 'page_label': '1', 'producer': 'Microsoft® Word for Microsoft 365', 'source': 'docs/key-fact-statement.pdf', 'subject': 'Key Fact Statement', 'title': 'Key Fact Statement', 'total_pages': 9}, page_content='PUBLIC \\nThe Hongkong and Shanghai Banking Corporation Limited (“we”, “us” or “our”)  \\nKEY FACTS STATEMENT FOR CREDIT CARDS \\nYou are advised to refer to the “Bank tariff guide for HSBC Wealth and Personal Banking Customers” and the Credit Card Terms for \\nyour credit card for more details.  \\nCredit Cards \\nNovember 2024 \\n \\nInterest Rates and Finance Charges  \\nAnnualised   \\nPercentage Rate   \\n(APR) for  \\nPurchase1  \\n35.42% when you open your account and it will be reviewed from time to time.  \\n• If we receive payment of the statement balance in full on or before the payment due date, you do not have to \\npay any finance charge on that statement balance.  \\n• If you do not pay the statement balance in full on or before the payment due date, we may charge, without \\nprior notice, a finance charge even if you have paid the minimum payment due in full. The finance charge is \\nimposed on:  \\n(a) the unpaid statement balance, from the statement date immediately preceding the payment due date')]"
      ]
     },
     "execution_count": 9,
     "metadata": {},
     "output_type": "execute_result"
    }
   ],
   "source": [
    "db.similarity_search(\"Gold card APR\")"
   ]
  },
  {
   "cell_type": "code",
   "execution_count": 10,
   "id": "92e89cfd",
   "metadata": {},
   "outputs": [],
   "source": [
    "vectordb = Chroma.from_documents(documents=final_docs, embedding=embeddings, persist_directory='./chroma_db')"
   ]
  },
  {
   "cell_type": "code",
   "execution_count": 13,
   "id": "1aa9aa2e",
   "metadata": {},
   "outputs": [],
   "source": [
    "new_db = Chroma(persist_directory='./chroma_db', embedding_function = embeddings)"
   ]
  },
  {
   "cell_type": "code",
   "execution_count": 14,
   "id": "3524b7b2",
   "metadata": {},
   "outputs": [
    {
     "data": {
      "text/plain": [
       "[Document(id='1b241775-951a-4ba2-aa70-07817898dae1', metadata={'author': 'jason.c.f.chow@hsbc.com.hk', 'creationdate': '2024-10-18T14:40:05+08:00', 'creator': 'Microsoft® Word for Microsoft 365', 'keywords': 'RESTRICTED -', 'moddate': '2024-10-18T14:40:05+08:00', 'msip_label_3486a02c-2dfb-4efe-823f-aa2d1f0e6ab7_actionid': '8c75c534-6cc7-4fbb-8718-2dcd08b8899b', 'msip_label_3486a02c-2dfb-4efe-823f-aa2d1f0e6ab7_contentbits': '2', 'msip_label_3486a02c-2dfb-4efe-823f-aa2d1f0e6ab7_enabled': 'true', 'msip_label_3486a02c-2dfb-4efe-823f-aa2d1f0e6ab7_method': 'Privileged', 'msip_label_3486a02c-2dfb-4efe-823f-aa2d1f0e6ab7_name': 'CLAPUBLIC', 'msip_label_3486a02c-2dfb-4efe-823f-aa2d1f0e6ab7_setdate': '2024-10-08T15:56:53Z', 'msip_label_3486a02c-2dfb-4efe-823f-aa2d1f0e6ab7_siteid': 'e0fd434d-ba64-497b-90d2-859c472e1a92', 'page': 1, 'page_label': '2', 'producer': 'Microsoft® Word for Microsoft 365', 'source': 'docs/key-fact-statement.pdf', 'subject': 'Key Fact Statement', 'title': 'Key Fact Statement', 'total_pages': 9}, page_content='PUBLIC \\nHSBC Pulse UnionPay Dual Currency \\nDiamond Card5 / UnionPay Dual Currency  \\nCard  \\n  \\n  \\n  \\n  \\n  \\n  \\n  \\n(i) (a) Total fees and charges currently billed to the HKD sub-\\naccount /RMB sub-account plus 1% of the statement \\nbalance of each sub-account (excluding any fees and \\ncharges currently billed) as at the statement date, or (b) \\nHKD300 for HKD sub-account/ RMB300 for RMB sub-\\naccount, whichever is higher; plus   \\n(ii) Overdue or overlimit due, being the overdue minimum \\npayment amount from the previous card statement or \\namount exceeding the credit limit on your card for each \\nsub-account, whichever is higher.   \\nUS$ Visa Gold Card  Equivalent to the full amount of the statement balance.  \\nFees  \\nAnnual Fee  The annual fee for primary and additional cards are as follows:  \\nCard type2  Primary card  Additional card \\n(separate billing)  \\nAdditional card  \\n(combined billing)  \\nHK dollar personal credit cards  \\nHSBC Premier \\nMasterCard  \\nWaived \\npermanently  \\nN/A  Waived'),\n",
       " Document(id='72f7e4b8-385d-47d4-87dd-af7d4d85a7b0', metadata={'author': 'jason.c.f.chow@hsbc.com.hk', 'creationdate': '2024-10-18T14:40:05+08:00', 'creator': 'Microsoft® Word for Microsoft 365', 'keywords': 'RESTRICTED -', 'moddate': '2024-10-18T14:40:05+08:00', 'msip_label_3486a02c-2dfb-4efe-823f-aa2d1f0e6ab7_actionid': '8c75c534-6cc7-4fbb-8718-2dcd08b8899b', 'msip_label_3486a02c-2dfb-4efe-823f-aa2d1f0e6ab7_contentbits': '2', 'msip_label_3486a02c-2dfb-4efe-823f-aa2d1f0e6ab7_enabled': 'true', 'msip_label_3486a02c-2dfb-4efe-823f-aa2d1f0e6ab7_method': 'Privileged', 'msip_label_3486a02c-2dfb-4efe-823f-aa2d1f0e6ab7_name': 'CLAPUBLIC', 'msip_label_3486a02c-2dfb-4efe-823f-aa2d1f0e6ab7_setdate': '2024-10-08T15:56:53Z', 'msip_label_3486a02c-2dfb-4efe-823f-aa2d1f0e6ab7_siteid': 'e0fd434d-ba64-497b-90d2-859c472e1a92', 'page': 2, 'page_label': '3', 'producer': 'Microsoft® Word for Microsoft 365', 'source': 'docs/key-fact-statement.pdf', 'subject': 'Key Fact Statement', 'title': 'Key Fact Statement', 'total_pages': 9}, page_content='1% of every card transaction effected in Hong Kong dollars incurred outside Hong Kong or with any merchants \\nnot registered in Hong Kong \\n \\nFor UnionPay dual currency credit cards, US$ Visa Gold Card: \\nN/A  \\nLate Charge  If you do not pay the minimum payment due in full on or before the payment due date, we may charge, without \\nprior notice, a late charge in addition to the finance charge. The late charge is equivalent to the lower of the \\nminimum payment due or the amount listed below:   \\n• HK dollar personal credit cards — HKD300;   \\n• UnionPay dual currency credit cards — HKD sub-account: HKD300 / RMB sub-account: RMB300;  \\n• US$ Visa Gold Card — N/A.  \\nOverlimit Handling   \\nFee  \\n(Per Billing Cycle)  \\nIf the statement balance (excluding all fees and charges currently billed to your card account) exceeds the \\ncredit limit on your card, we may charge a handling fee in the amount listed below for the over-the-limit facility'),\n",
       " Document(id='70c23033-34b1-4e43-aa18-d8b92502eaa5', metadata={'author': 'jason.c.f.chow@hsbc.com.hk', 'creationdate': '2024-10-18T14:40:05+08:00', 'creator': 'Microsoft® Word for Microsoft 365', 'keywords': 'RESTRICTED -', 'moddate': '2024-10-18T14:40:05+08:00', 'msip_label_3486a02c-2dfb-4efe-823f-aa2d1f0e6ab7_actionid': '8c75c534-6cc7-4fbb-8718-2dcd08b8899b', 'msip_label_3486a02c-2dfb-4efe-823f-aa2d1f0e6ab7_contentbits': '2', 'msip_label_3486a02c-2dfb-4efe-823f-aa2d1f0e6ab7_enabled': 'true', 'msip_label_3486a02c-2dfb-4efe-823f-aa2d1f0e6ab7_method': 'Privileged', 'msip_label_3486a02c-2dfb-4efe-823f-aa2d1f0e6ab7_name': 'CLAPUBLIC', 'msip_label_3486a02c-2dfb-4efe-823f-aa2d1f0e6ab7_setdate': '2024-10-08T15:56:53Z', 'msip_label_3486a02c-2dfb-4efe-823f-aa2d1f0e6ab7_siteid': 'e0fd434d-ba64-497b-90d2-859c472e1a92', 'page': 3, 'page_label': '4', 'producer': 'Microsoft® Word for Microsoft 365', 'source': 'docs/key-fact-statement.pdf', 'subject': 'Key Fact Statement', 'title': 'Key Fact Statement', 'total_pages': 9}, page_content='And you will end up paying an estimated \\ntotal of … \\nOnly the minimum payment 11.5 years HKD57,850 \\nHKD869 3 years \\nHKD31,279 \\n(Savings = HKD26,570) \\n \\nRemarks:  \\n1. The APR is calculated based on a set of assumptions as set out in the relevant guidelines referred to in the Code of Banking \\nPractice and the actual APR applied to your card account may be different.  US$ Visa Gold Card requires payment of the statement \\nbalance in full and the APR (calculated by assuming only 1% of the current balance plus the total fees and charges currently billed \\nto the card statement are settled each month) is for reference only.  \\n2. We will waive the joining fee for any private label cards.  \\n3. The annual fee for HSBC EveryMile Credit Card is HK$2,000. This fee is subject to change or waiver at our discretion. The fee for \\nthe following year will be waived if the annual spending with HSBC EveryMile Credit Card reaches a designated amount. Please \\nvisit hsbc.com.hk/everymile for details.'),\n",
       " Document(id='6317d5ad-a38d-4d98-afa8-c15ffaccc9ef', metadata={'author': 'jason.c.f.chow@hsbc.com.hk', 'creationdate': '2024-10-18T14:40:05+08:00', 'creator': 'Microsoft® Word for Microsoft 365', 'keywords': 'RESTRICTED -', 'moddate': '2024-10-18T14:40:05+08:00', 'msip_label_3486a02c-2dfb-4efe-823f-aa2d1f0e6ab7_actionid': '8c75c534-6cc7-4fbb-8718-2dcd08b8899b', 'msip_label_3486a02c-2dfb-4efe-823f-aa2d1f0e6ab7_contentbits': '2', 'msip_label_3486a02c-2dfb-4efe-823f-aa2d1f0e6ab7_enabled': 'true', 'msip_label_3486a02c-2dfb-4efe-823f-aa2d1f0e6ab7_method': 'Privileged', 'msip_label_3486a02c-2dfb-4efe-823f-aa2d1f0e6ab7_name': 'CLAPUBLIC', 'msip_label_3486a02c-2dfb-4efe-823f-aa2d1f0e6ab7_setdate': '2024-10-08T15:56:53Z', 'msip_label_3486a02c-2dfb-4efe-823f-aa2d1f0e6ab7_siteid': 'e0fd434d-ba64-497b-90d2-859c472e1a92', 'page': 0, 'page_label': '1', 'producer': 'Microsoft® Word for Microsoft 365', 'source': 'docs/key-fact-statement.pdf', 'subject': 'Key Fact Statement', 'title': 'Key Fact Statement', 'total_pages': 9}, page_content='PUBLIC \\nThe Hongkong and Shanghai Banking Corporation Limited (“we”, “us” or “our”)  \\nKEY FACTS STATEMENT FOR CREDIT CARDS \\nYou are advised to refer to the “Bank tariff guide for HSBC Wealth and Personal Banking Customers” and the Credit Card Terms for \\nyour credit card for more details.  \\nCredit Cards \\nNovember 2024 \\n \\nInterest Rates and Finance Charges  \\nAnnualised   \\nPercentage Rate   \\n(APR) for  \\nPurchase1  \\n35.42% when you open your account and it will be reviewed from time to time.  \\n• If we receive payment of the statement balance in full on or before the payment due date, you do not have to \\npay any finance charge on that statement balance.  \\n• If you do not pay the statement balance in full on or before the payment due date, we may charge, without \\nprior notice, a finance charge even if you have paid the minimum payment due in full. The finance charge is \\nimposed on:  \\n(a) the unpaid statement balance, from the statement date immediately preceding the payment due date')]"
      ]
     },
     "execution_count": 14,
     "metadata": {},
     "output_type": "execute_result"
    }
   ],
   "source": [
    "new_db.similarity_search(\"Gold card APR\")"
   ]
  },
  {
   "cell_type": "code",
   "execution_count": 15,
   "id": "72fc9a08",
   "metadata": {},
   "outputs": [],
   "source": [
    "# Retriever\n",
    "retriever = vectordb.as_retriever()"
   ]
  },
  {
   "cell_type": "code",
   "execution_count": 16,
   "id": "3642689e",
   "metadata": {},
   "outputs": [
    {
     "data": {
      "text/plain": [
       "[Document(id='1b241775-951a-4ba2-aa70-07817898dae1', metadata={'author': 'jason.c.f.chow@hsbc.com.hk', 'creationdate': '2024-10-18T14:40:05+08:00', 'creator': 'Microsoft® Word for Microsoft 365', 'keywords': 'RESTRICTED -', 'moddate': '2024-10-18T14:40:05+08:00', 'msip_label_3486a02c-2dfb-4efe-823f-aa2d1f0e6ab7_actionid': '8c75c534-6cc7-4fbb-8718-2dcd08b8899b', 'msip_label_3486a02c-2dfb-4efe-823f-aa2d1f0e6ab7_contentbits': '2', 'msip_label_3486a02c-2dfb-4efe-823f-aa2d1f0e6ab7_enabled': 'true', 'msip_label_3486a02c-2dfb-4efe-823f-aa2d1f0e6ab7_method': 'Privileged', 'msip_label_3486a02c-2dfb-4efe-823f-aa2d1f0e6ab7_name': 'CLAPUBLIC', 'msip_label_3486a02c-2dfb-4efe-823f-aa2d1f0e6ab7_setdate': '2024-10-08T15:56:53Z', 'msip_label_3486a02c-2dfb-4efe-823f-aa2d1f0e6ab7_siteid': 'e0fd434d-ba64-497b-90d2-859c472e1a92', 'page': 1, 'page_label': '2', 'producer': 'Microsoft® Word for Microsoft 365', 'source': 'docs/key-fact-statement.pdf', 'subject': 'Key Fact Statement', 'title': 'Key Fact Statement', 'total_pages': 9}, page_content='PUBLIC \\nHSBC Pulse UnionPay Dual Currency \\nDiamond Card5 / UnionPay Dual Currency  \\nCard  \\n  \\n  \\n  \\n  \\n  \\n  \\n  \\n(i) (a) Total fees and charges currently billed to the HKD sub-\\naccount /RMB sub-account plus 1% of the statement \\nbalance of each sub-account (excluding any fees and \\ncharges currently billed) as at the statement date, or (b) \\nHKD300 for HKD sub-account/ RMB300 for RMB sub-\\naccount, whichever is higher; plus   \\n(ii) Overdue or overlimit due, being the overdue minimum \\npayment amount from the previous card statement or \\namount exceeding the credit limit on your card for each \\nsub-account, whichever is higher.   \\nUS$ Visa Gold Card  Equivalent to the full amount of the statement balance.  \\nFees  \\nAnnual Fee  The annual fee for primary and additional cards are as follows:  \\nCard type2  Primary card  Additional card \\n(separate billing)  \\nAdditional card  \\n(combined billing)  \\nHK dollar personal credit cards  \\nHSBC Premier \\nMasterCard  \\nWaived \\npermanently  \\nN/A  Waived'),\n",
       " Document(id='70c23033-34b1-4e43-aa18-d8b92502eaa5', metadata={'author': 'jason.c.f.chow@hsbc.com.hk', 'creationdate': '2024-10-18T14:40:05+08:00', 'creator': 'Microsoft® Word for Microsoft 365', 'keywords': 'RESTRICTED -', 'moddate': '2024-10-18T14:40:05+08:00', 'msip_label_3486a02c-2dfb-4efe-823f-aa2d1f0e6ab7_actionid': '8c75c534-6cc7-4fbb-8718-2dcd08b8899b', 'msip_label_3486a02c-2dfb-4efe-823f-aa2d1f0e6ab7_contentbits': '2', 'msip_label_3486a02c-2dfb-4efe-823f-aa2d1f0e6ab7_enabled': 'true', 'msip_label_3486a02c-2dfb-4efe-823f-aa2d1f0e6ab7_method': 'Privileged', 'msip_label_3486a02c-2dfb-4efe-823f-aa2d1f0e6ab7_name': 'CLAPUBLIC', 'msip_label_3486a02c-2dfb-4efe-823f-aa2d1f0e6ab7_setdate': '2024-10-08T15:56:53Z', 'msip_label_3486a02c-2dfb-4efe-823f-aa2d1f0e6ab7_siteid': 'e0fd434d-ba64-497b-90d2-859c472e1a92', 'page': 3, 'page_label': '4', 'producer': 'Microsoft® Word for Microsoft 365', 'source': 'docs/key-fact-statement.pdf', 'subject': 'Key Fact Statement', 'title': 'Key Fact Statement', 'total_pages': 9}, page_content='And you will end up paying an estimated \\ntotal of … \\nOnly the minimum payment 11.5 years HKD57,850 \\nHKD869 3 years \\nHKD31,279 \\n(Savings = HKD26,570) \\n \\nRemarks:  \\n1. The APR is calculated based on a set of assumptions as set out in the relevant guidelines referred to in the Code of Banking \\nPractice and the actual APR applied to your card account may be different.  US$ Visa Gold Card requires payment of the statement \\nbalance in full and the APR (calculated by assuming only 1% of the current balance plus the total fees and charges currently billed \\nto the card statement are settled each month) is for reference only.  \\n2. We will waive the joining fee for any private label cards.  \\n3. The annual fee for HSBC EveryMile Credit Card is HK$2,000. This fee is subject to change or waiver at our discretion. The fee for \\nthe following year will be waived if the annual spending with HSBC EveryMile Credit Card reaches a designated amount. Please \\nvisit hsbc.com.hk/everymile for details.'),\n",
       " Document(id='72f7e4b8-385d-47d4-87dd-af7d4d85a7b0', metadata={'author': 'jason.c.f.chow@hsbc.com.hk', 'creationdate': '2024-10-18T14:40:05+08:00', 'creator': 'Microsoft® Word for Microsoft 365', 'keywords': 'RESTRICTED -', 'moddate': '2024-10-18T14:40:05+08:00', 'msip_label_3486a02c-2dfb-4efe-823f-aa2d1f0e6ab7_actionid': '8c75c534-6cc7-4fbb-8718-2dcd08b8899b', 'msip_label_3486a02c-2dfb-4efe-823f-aa2d1f0e6ab7_contentbits': '2', 'msip_label_3486a02c-2dfb-4efe-823f-aa2d1f0e6ab7_enabled': 'true', 'msip_label_3486a02c-2dfb-4efe-823f-aa2d1f0e6ab7_method': 'Privileged', 'msip_label_3486a02c-2dfb-4efe-823f-aa2d1f0e6ab7_name': 'CLAPUBLIC', 'msip_label_3486a02c-2dfb-4efe-823f-aa2d1f0e6ab7_setdate': '2024-10-08T15:56:53Z', 'msip_label_3486a02c-2dfb-4efe-823f-aa2d1f0e6ab7_siteid': 'e0fd434d-ba64-497b-90d2-859c472e1a92', 'page': 2, 'page_label': '3', 'producer': 'Microsoft® Word for Microsoft 365', 'source': 'docs/key-fact-statement.pdf', 'subject': 'Key Fact Statement', 'title': 'Key Fact Statement', 'total_pages': 9}, page_content='1% of every card transaction effected in Hong Kong dollars incurred outside Hong Kong or with any merchants \\nnot registered in Hong Kong \\n \\nFor UnionPay dual currency credit cards, US$ Visa Gold Card: \\nN/A  \\nLate Charge  If you do not pay the minimum payment due in full on or before the payment due date, we may charge, without \\nprior notice, a late charge in addition to the finance charge. The late charge is equivalent to the lower of the \\nminimum payment due or the amount listed below:   \\n• HK dollar personal credit cards — HKD300;   \\n• UnionPay dual currency credit cards — HKD sub-account: HKD300 / RMB sub-account: RMB300;  \\n• US$ Visa Gold Card — N/A.  \\nOverlimit Handling   \\nFee  \\n(Per Billing Cycle)  \\nIf the statement balance (excluding all fees and charges currently billed to your card account) exceeds the \\ncredit limit on your card, we may charge a handling fee in the amount listed below for the over-the-limit facility'),\n",
       " Document(id='6317d5ad-a38d-4d98-afa8-c15ffaccc9ef', metadata={'author': 'jason.c.f.chow@hsbc.com.hk', 'creationdate': '2024-10-18T14:40:05+08:00', 'creator': 'Microsoft® Word for Microsoft 365', 'keywords': 'RESTRICTED -', 'moddate': '2024-10-18T14:40:05+08:00', 'msip_label_3486a02c-2dfb-4efe-823f-aa2d1f0e6ab7_actionid': '8c75c534-6cc7-4fbb-8718-2dcd08b8899b', 'msip_label_3486a02c-2dfb-4efe-823f-aa2d1f0e6ab7_contentbits': '2', 'msip_label_3486a02c-2dfb-4efe-823f-aa2d1f0e6ab7_enabled': 'true', 'msip_label_3486a02c-2dfb-4efe-823f-aa2d1f0e6ab7_method': 'Privileged', 'msip_label_3486a02c-2dfb-4efe-823f-aa2d1f0e6ab7_name': 'CLAPUBLIC', 'msip_label_3486a02c-2dfb-4efe-823f-aa2d1f0e6ab7_setdate': '2024-10-08T15:56:53Z', 'msip_label_3486a02c-2dfb-4efe-823f-aa2d1f0e6ab7_siteid': 'e0fd434d-ba64-497b-90d2-859c472e1a92', 'page': 0, 'page_label': '1', 'producer': 'Microsoft® Word for Microsoft 365', 'source': 'docs/key-fact-statement.pdf', 'subject': 'Key Fact Statement', 'title': 'Key Fact Statement', 'total_pages': 9}, page_content='PUBLIC \\nThe Hongkong and Shanghai Banking Corporation Limited (“we”, “us” or “our”)  \\nKEY FACTS STATEMENT FOR CREDIT CARDS \\nYou are advised to refer to the “Bank tariff guide for HSBC Wealth and Personal Banking Customers” and the Credit Card Terms for \\nyour credit card for more details.  \\nCredit Cards \\nNovember 2024 \\n \\nInterest Rates and Finance Charges  \\nAnnualised   \\nPercentage Rate   \\n(APR) for  \\nPurchase1  \\n35.42% when you open your account and it will be reviewed from time to time.  \\n• If we receive payment of the statement balance in full on or before the payment due date, you do not have to \\npay any finance charge on that statement balance.  \\n• If you do not pay the statement balance in full on or before the payment due date, we may charge, without \\nprior notice, a finance charge even if you have paid the minimum payment due in full. The finance charge is \\nimposed on:  \\n(a) the unpaid statement balance, from the statement date immediately preceding the payment due date')]"
      ]
     },
     "execution_count": 16,
     "metadata": {},
     "output_type": "execute_result"
    }
   ],
   "source": [
    "retriever.invoke(\"Gold Card APR\")"
   ]
  },
  {
   "cell_type": "code",
   "execution_count": null,
   "id": "14a12bb8",
   "metadata": {},
   "outputs": [],
   "source": []
  }
 ],
 "metadata": {
  "kernelspec": {
   "display_name": "Python 3",
   "language": "python",
   "name": "python3"
  },
  "language_info": {
   "codemirror_mode": {
    "name": "ipython",
    "version": 3
   },
   "file_extension": ".py",
   "mimetype": "text/x-python",
   "name": "python",
   "nbconvert_exporter": "python",
   "pygments_lexer": "ipython3",
   "version": "3.12.1"
  }
 },
 "nbformat": 4,
 "nbformat_minor": 5
}
